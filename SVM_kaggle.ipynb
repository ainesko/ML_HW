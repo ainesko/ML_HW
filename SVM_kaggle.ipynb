{
  "nbformat": 4,
  "nbformat_minor": 0,
  "metadata": {
    "colab": {
      "name": "SVM kaggle.ipynb",
      "provenance": [],
      "authorship_tag": "ABX9TyOu1VH7Cch2wM9QiQ++aj26",
      "include_colab_link": true
    },
    "kernelspec": {
      "name": "python3",
      "display_name": "Python 3"
    },
    "language_info": {
      "name": "python"
    }
  },
  "cells": [
    {
      "cell_type": "markdown",
      "metadata": {
        "id": "view-in-github",
        "colab_type": "text"
      },
      "source": [
        "<a href=\"https://colab.research.google.com/github/ainesko/ML_HW/blob/main/SVM_kaggle.ipynb\" target=\"_parent\"><img src=\"https://colab.research.google.com/assets/colab-badge.svg\" alt=\"Open In Colab\"/></a>"
      ]
    },
    {
      "cell_type": "markdown",
      "source": [
        "#SVM и его ядра\n",
        "Суммарное количество баллов: 10\n",
        "\n",
        "#Задание 1 (7 баллов)\n",
        "В этом задании вам не нужно будет реализовать SVM, а научиться его применять.\n",
        "\n",
        "Примените метод SVM (например, из библиотеки sklearn) для датасета blobs2.\n",
        "\n",
        "Визуализируйте результат (разбиение плоскости и опорные вектора) при разных вариантах ядер (линейное; полиномиальное степеней 2,3,5; RBF)."
      ],
      "metadata": {
        "id": "eY-Ia2Pk4oaQ"
      }
    },
    {
      "cell_type": "code",
      "source": [
        "from sklearn.svm import SVC \n",
        "from sklearn.metrics import accuracy_score, recall_score, precision_score, f1_score\n",
        "from sklearn.ensemble import RandomForestClassifier\n",
        "from sklearn.datasets import make_blobs\n",
        "from sklearn.model_selection import train_test_split\n",
        "import seaborn as sns\n",
        "import pylab as pl\n",
        "import pandas as pd\n",
        "from matplotlib.pyplot import figure\n",
        "import numpy as np"
      ],
      "metadata": {
        "id": "cXSO0aKk1eUM"
      },
      "execution_count": null,
      "outputs": []
    },
    {
      "cell_type": "markdown",
      "source": [
        "Обучите модель на всех данных из x_spam_train и y_spam_train. Сделайте submit своего решения и получите значение f1_score не менее 0.6"
      ],
      "metadata": {
        "id": "PzpAshc65JEZ"
      }
    },
    {
      "cell_type": "markdown",
      "source": [
        "Для более быстрой работы кода, оставим лишь значимую для посылки часть. Остальное будет в полном ноутбуке"
      ],
      "metadata": {
        "id": "tExVSyiT8UKT"
      }
    },
    {
      "cell_type": "code",
      "source": [
        "x_spam = pd.read_csv('../input/homework-svm-ib-22/x_spam_train.csv').drop('Id', axis=1)\n",
        "y_spam = pd.read_csv('../input/homework-svm-ib-22/y_spam_train.csv')['Expected']"
      ],
      "metadata": {
        "id": "8IXxXL0k71Zl"
      },
      "execution_count": null,
      "outputs": []
    },
    {
      "cell_type": "code",
      "source": [
        "svc = SVC(kernel='linear')\n",
        "svc.fit(x_spam, y_spam)\n",
        "X_test = pd.read_csv('../input/homework-svm-ib-22/x_spam_test.csv')"
      ],
      "metadata": {
        "id": "HXypGR587KDk"
      },
      "execution_count": null,
      "outputs": []
    },
    {
      "cell_type": "code",
      "source": [
        "submission = pd.DataFrame(columns = [\"Id\", \"Expected\"])\n",
        "submission[\"Id\"] = X_test[\"Id\"]\n",
        "submission[\"Expected\"] = svc.predict(X_test.drop('Id', axis=1))\n",
        "submission.to_csv('./submission.csv', index=False)"
      ],
      "metadata": {
        "id": "-qFaER-QVi_o"
      },
      "execution_count": null,
      "outputs": []
    }
  ]
}