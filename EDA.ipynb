{
  "nbformat": 4,
  "nbformat_minor": 0,
  "metadata": {
    "colab": {
      "name": "EDA.ipynb",
      "provenance": [],
      "authorship_tag": "ABX9TyOaXHGTmIG+hAL6ZVwFdr/+",
      "include_colab_link": true
    },
    "kernelspec": {
      "name": "python3",
      "display_name": "Python 3"
    },
    "language_info": {
      "name": "python"
    }
  },
  "cells": [
    {
      "cell_type": "markdown",
      "metadata": {
        "id": "view-in-github",
        "colab_type": "text"
      },
      "source": [
        "<a href=\"https://colab.research.google.com/github/ainesko/ML_HW/blob/main/EDA.ipynb\" target=\"_parent\"><img src=\"https://colab.research.google.com/assets/colab-badge.svg\" alt=\"Open In Colab\"/></a>"
      ]
    },
    {
      "cell_type": "markdown",
      "source": [
        "#**Загрузка библиотек**"
      ],
      "metadata": {
        "id": "Y3ZdVrxNpZpG"
      }
    },
    {
      "cell_type": "code",
      "source": [
        "pip install lets_plot"
      ],
      "metadata": {
        "colab": {
          "base_uri": "https://localhost:8080/"
        },
        "id": "NRK0xI-mZ5xk",
        "outputId": "83f06901-7964-4f7b-9756-561573041219"
      },
      "execution_count": 192,
      "outputs": [
        {
          "output_type": "stream",
          "name": "stdout",
          "text": [
            "Requirement already satisfied: lets_plot in /usr/local/lib/python3.7/dist-packages (2.2.1)\n",
            "Requirement already satisfied: pypng in /usr/local/lib/python3.7/dist-packages (from lets_plot) (0.0.21)\n"
          ]
        }
      ]
    },
    {
      "cell_type": "code",
      "source": [
        "import pandas as pd\n",
        "import numpy as np\n",
        "import seaborn as sns\n",
        "from lets_plot import *"
      ],
      "metadata": {
        "id": "3egNVQtnpdee"
      },
      "execution_count": 193,
      "outputs": []
    },
    {
      "cell_type": "markdown",
      "source": [
        "# **Загрузка данных**\n",
        "**Задание 1 (0.5 балла)**\n",
        "\n",
        "Для начала работы нам необходимо научиться читать набор данных. В данном домашнем задании мы поработаем с двумя наборами данных.\n",
        "\n",
        "covid.csv (источник) - статистика по вакцинированию от COVID19 по разным странам. Для данного датасета нет конкретной предсказательной переменной.\n",
        "\n",
        "hr.csv (источник) - набор данных большего размера. Он содержит статистику по людям, проходящим курсы по Big Data & ML. Target - 1 или 0, сменил ли человек работу после прохождения курсов - или нет.\n",
        "\n",
        "Реализуйте методы read_covid_dataset и read_hr_dataset. Каждый из них принимает на вход путь к набору данных и возвращает выборку X и соответствующие метки y. В случае covid датасета y возвращается как None."
      ],
      "metadata": {
        "id": "QYU1Z8Ffpfvn"
      }
    },
    {
      "cell_type": "code",
      "source": [
        "def read_covid_dataset(path_to_csv):\n",
        "    # Возвращает пару из X и y. X - массив векторов. y - соответствующие векторам метки\n",
        "    X = pd.read_csv(path_to_csv, sep=',')\n",
        "    y = None\n",
        "    return X, y\n",
        "\n",
        "\n",
        "def read_hr_dataset(path_to_csv):\n",
        "    # Возвращает пару из X и y. X - массив векторов. y - соответствующие векторам метки\n",
        "    X = pd.read_csv(path_to_csv, sep=',').iloc[:,0:-1]\n",
        "    y = pd.read_csv(path_to_csv, sep=',')['target']\n",
        "    return X, y"
      ],
      "metadata": {
        "id": "-7XIy-QmpvCU"
      },
      "execution_count": 194,
      "outputs": []
    },
    {
      "cell_type": "code",
      "source": [
        "COVID_DATA_PATH = \"https://raw.githubusercontent.com/jbr-ai-labs/ml-intro/main/hw_EDA_data/covid.csv\"\n",
        "HR_DATA_PATH = \"https://raw.githubusercontent.com/jbr-ai-labs/ml-intro/main/hw_EDA_data/hr.csv\""
      ],
      "metadata": {
        "id": "owq_a3yipyFU"
      },
      "execution_count": 195,
      "outputs": []
    },
    {
      "cell_type": "code",
      "source": [
        "X_covid, _ = read_covid_dataset(COVID_DATA_PATH)\n",
        "X_hr, y_hr = read_hr_dataset(HR_DATA_PATH)\n",
        "X_hr"
      ],
      "metadata": {
        "colab": {
          "base_uri": "https://localhost:8080/",
          "height": 488
        },
        "id": "udaMiUWQp0Ri",
        "outputId": "8e4bef1d-dfbf-4892-a9b8-768583fb79ab"
      },
      "execution_count": 196,
      "outputs": [
        {
          "output_type": "execute_result",
          "data": {
            "text/html": [
              "\n",
              "  <div id=\"df-eb78be79-9f87-4488-bbaa-b7aecd33167d\">\n",
              "    <div class=\"colab-df-container\">\n",
              "      <div>\n",
              "<style scoped>\n",
              "    .dataframe tbody tr th:only-of-type {\n",
              "        vertical-align: middle;\n",
              "    }\n",
              "\n",
              "    .dataframe tbody tr th {\n",
              "        vertical-align: top;\n",
              "    }\n",
              "\n",
              "    .dataframe thead th {\n",
              "        text-align: right;\n",
              "    }\n",
              "</style>\n",
              "<table border=\"1\" class=\"dataframe\">\n",
              "  <thead>\n",
              "    <tr style=\"text-align: right;\">\n",
              "      <th></th>\n",
              "      <th>enrollee_id</th>\n",
              "      <th>city</th>\n",
              "      <th>city_development_index</th>\n",
              "      <th>gender</th>\n",
              "      <th>relevent_experience</th>\n",
              "      <th>enrolled_university</th>\n",
              "      <th>education_level</th>\n",
              "      <th>major_discipline</th>\n",
              "      <th>experience</th>\n",
              "      <th>company_size</th>\n",
              "      <th>company_type</th>\n",
              "      <th>last_new_job</th>\n",
              "      <th>training_hours</th>\n",
              "    </tr>\n",
              "  </thead>\n",
              "  <tbody>\n",
              "    <tr>\n",
              "      <th>0</th>\n",
              "      <td>8949</td>\n",
              "      <td>city_103</td>\n",
              "      <td>0.920</td>\n",
              "      <td>Male</td>\n",
              "      <td>Has relevent experience</td>\n",
              "      <td>no_enrollment</td>\n",
              "      <td>Graduate</td>\n",
              "      <td>STEM</td>\n",
              "      <td>&gt;20</td>\n",
              "      <td>NaN</td>\n",
              "      <td>NaN</td>\n",
              "      <td>1</td>\n",
              "      <td>36</td>\n",
              "    </tr>\n",
              "    <tr>\n",
              "      <th>1</th>\n",
              "      <td>29725</td>\n",
              "      <td>city_40</td>\n",
              "      <td>0.776</td>\n",
              "      <td>Male</td>\n",
              "      <td>No relevent experience</td>\n",
              "      <td>no_enrollment</td>\n",
              "      <td>Graduate</td>\n",
              "      <td>STEM</td>\n",
              "      <td>15</td>\n",
              "      <td>50-99</td>\n",
              "      <td>Pvt Ltd</td>\n",
              "      <td>&gt;4</td>\n",
              "      <td>47</td>\n",
              "    </tr>\n",
              "    <tr>\n",
              "      <th>2</th>\n",
              "      <td>11561</td>\n",
              "      <td>city_21</td>\n",
              "      <td>0.624</td>\n",
              "      <td>NaN</td>\n",
              "      <td>No relevent experience</td>\n",
              "      <td>Full time course</td>\n",
              "      <td>Graduate</td>\n",
              "      <td>STEM</td>\n",
              "      <td>5</td>\n",
              "      <td>NaN</td>\n",
              "      <td>NaN</td>\n",
              "      <td>never</td>\n",
              "      <td>83</td>\n",
              "    </tr>\n",
              "    <tr>\n",
              "      <th>3</th>\n",
              "      <td>33241</td>\n",
              "      <td>city_115</td>\n",
              "      <td>0.789</td>\n",
              "      <td>NaN</td>\n",
              "      <td>No relevent experience</td>\n",
              "      <td>NaN</td>\n",
              "      <td>Graduate</td>\n",
              "      <td>Business Degree</td>\n",
              "      <td>&lt;1</td>\n",
              "      <td>NaN</td>\n",
              "      <td>Pvt Ltd</td>\n",
              "      <td>never</td>\n",
              "      <td>52</td>\n",
              "    </tr>\n",
              "    <tr>\n",
              "      <th>4</th>\n",
              "      <td>666</td>\n",
              "      <td>city_162</td>\n",
              "      <td>0.767</td>\n",
              "      <td>Male</td>\n",
              "      <td>Has relevent experience</td>\n",
              "      <td>no_enrollment</td>\n",
              "      <td>Masters</td>\n",
              "      <td>STEM</td>\n",
              "      <td>&gt;20</td>\n",
              "      <td>50-99</td>\n",
              "      <td>Funded Startup</td>\n",
              "      <td>4</td>\n",
              "      <td>8</td>\n",
              "    </tr>\n",
              "    <tr>\n",
              "      <th>...</th>\n",
              "      <td>...</td>\n",
              "      <td>...</td>\n",
              "      <td>...</td>\n",
              "      <td>...</td>\n",
              "      <td>...</td>\n",
              "      <td>...</td>\n",
              "      <td>...</td>\n",
              "      <td>...</td>\n",
              "      <td>...</td>\n",
              "      <td>...</td>\n",
              "      <td>...</td>\n",
              "      <td>...</td>\n",
              "      <td>...</td>\n",
              "    </tr>\n",
              "    <tr>\n",
              "      <th>19153</th>\n",
              "      <td>7386</td>\n",
              "      <td>city_173</td>\n",
              "      <td>0.878</td>\n",
              "      <td>Male</td>\n",
              "      <td>No relevent experience</td>\n",
              "      <td>no_enrollment</td>\n",
              "      <td>Graduate</td>\n",
              "      <td>Humanities</td>\n",
              "      <td>14</td>\n",
              "      <td>NaN</td>\n",
              "      <td>NaN</td>\n",
              "      <td>1</td>\n",
              "      <td>42</td>\n",
              "    </tr>\n",
              "    <tr>\n",
              "      <th>19154</th>\n",
              "      <td>31398</td>\n",
              "      <td>city_103</td>\n",
              "      <td>0.920</td>\n",
              "      <td>Male</td>\n",
              "      <td>Has relevent experience</td>\n",
              "      <td>no_enrollment</td>\n",
              "      <td>Graduate</td>\n",
              "      <td>STEM</td>\n",
              "      <td>14</td>\n",
              "      <td>NaN</td>\n",
              "      <td>NaN</td>\n",
              "      <td>4</td>\n",
              "      <td>52</td>\n",
              "    </tr>\n",
              "    <tr>\n",
              "      <th>19155</th>\n",
              "      <td>24576</td>\n",
              "      <td>city_103</td>\n",
              "      <td>0.920</td>\n",
              "      <td>Male</td>\n",
              "      <td>Has relevent experience</td>\n",
              "      <td>no_enrollment</td>\n",
              "      <td>Graduate</td>\n",
              "      <td>STEM</td>\n",
              "      <td>&gt;20</td>\n",
              "      <td>50-99</td>\n",
              "      <td>Pvt Ltd</td>\n",
              "      <td>4</td>\n",
              "      <td>44</td>\n",
              "    </tr>\n",
              "    <tr>\n",
              "      <th>19156</th>\n",
              "      <td>5756</td>\n",
              "      <td>city_65</td>\n",
              "      <td>0.802</td>\n",
              "      <td>Male</td>\n",
              "      <td>Has relevent experience</td>\n",
              "      <td>no_enrollment</td>\n",
              "      <td>High School</td>\n",
              "      <td>NaN</td>\n",
              "      <td>&lt;1</td>\n",
              "      <td>500-999</td>\n",
              "      <td>Pvt Ltd</td>\n",
              "      <td>2</td>\n",
              "      <td>97</td>\n",
              "    </tr>\n",
              "    <tr>\n",
              "      <th>19157</th>\n",
              "      <td>23834</td>\n",
              "      <td>city_67</td>\n",
              "      <td>0.855</td>\n",
              "      <td>NaN</td>\n",
              "      <td>No relevent experience</td>\n",
              "      <td>no_enrollment</td>\n",
              "      <td>Primary School</td>\n",
              "      <td>NaN</td>\n",
              "      <td>2</td>\n",
              "      <td>NaN</td>\n",
              "      <td>NaN</td>\n",
              "      <td>1</td>\n",
              "      <td>127</td>\n",
              "    </tr>\n",
              "  </tbody>\n",
              "</table>\n",
              "<p>19158 rows × 13 columns</p>\n",
              "</div>\n",
              "      <button class=\"colab-df-convert\" onclick=\"convertToInteractive('df-eb78be79-9f87-4488-bbaa-b7aecd33167d')\"\n",
              "              title=\"Convert this dataframe to an interactive table.\"\n",
              "              style=\"display:none;\">\n",
              "        \n",
              "  <svg xmlns=\"http://www.w3.org/2000/svg\" height=\"24px\"viewBox=\"0 0 24 24\"\n",
              "       width=\"24px\">\n",
              "    <path d=\"M0 0h24v24H0V0z\" fill=\"none\"/>\n",
              "    <path d=\"M18.56 5.44l.94 2.06.94-2.06 2.06-.94-2.06-.94-.94-2.06-.94 2.06-2.06.94zm-11 1L8.5 8.5l.94-2.06 2.06-.94-2.06-.94L8.5 2.5l-.94 2.06-2.06.94zm10 10l.94 2.06.94-2.06 2.06-.94-2.06-.94-.94-2.06-.94 2.06-2.06.94z\"/><path d=\"M17.41 7.96l-1.37-1.37c-.4-.4-.92-.59-1.43-.59-.52 0-1.04.2-1.43.59L10.3 9.45l-7.72 7.72c-.78.78-.78 2.05 0 2.83L4 21.41c.39.39.9.59 1.41.59.51 0 1.02-.2 1.41-.59l7.78-7.78 2.81-2.81c.8-.78.8-2.07 0-2.86zM5.41 20L4 18.59l7.72-7.72 1.47 1.35L5.41 20z\"/>\n",
              "  </svg>\n",
              "      </button>\n",
              "      \n",
              "  <style>\n",
              "    .colab-df-container {\n",
              "      display:flex;\n",
              "      flex-wrap:wrap;\n",
              "      gap: 12px;\n",
              "    }\n",
              "\n",
              "    .colab-df-convert {\n",
              "      background-color: #E8F0FE;\n",
              "      border: none;\n",
              "      border-radius: 50%;\n",
              "      cursor: pointer;\n",
              "      display: none;\n",
              "      fill: #1967D2;\n",
              "      height: 32px;\n",
              "      padding: 0 0 0 0;\n",
              "      width: 32px;\n",
              "    }\n",
              "\n",
              "    .colab-df-convert:hover {\n",
              "      background-color: #E2EBFA;\n",
              "      box-shadow: 0px 1px 2px rgba(60, 64, 67, 0.3), 0px 1px 3px 1px rgba(60, 64, 67, 0.15);\n",
              "      fill: #174EA6;\n",
              "    }\n",
              "\n",
              "    [theme=dark] .colab-df-convert {\n",
              "      background-color: #3B4455;\n",
              "      fill: #D2E3FC;\n",
              "    }\n",
              "\n",
              "    [theme=dark] .colab-df-convert:hover {\n",
              "      background-color: #434B5C;\n",
              "      box-shadow: 0px 1px 3px 1px rgba(0, 0, 0, 0.15);\n",
              "      filter: drop-shadow(0px 1px 2px rgba(0, 0, 0, 0.3));\n",
              "      fill: #FFFFFF;\n",
              "    }\n",
              "  </style>\n",
              "\n",
              "      <script>\n",
              "        const buttonEl =\n",
              "          document.querySelector('#df-eb78be79-9f87-4488-bbaa-b7aecd33167d button.colab-df-convert');\n",
              "        buttonEl.style.display =\n",
              "          google.colab.kernel.accessAllowed ? 'block' : 'none';\n",
              "\n",
              "        async function convertToInteractive(key) {\n",
              "          const element = document.querySelector('#df-eb78be79-9f87-4488-bbaa-b7aecd33167d');\n",
              "          const dataTable =\n",
              "            await google.colab.kernel.invokeFunction('convertToInteractive',\n",
              "                                                     [key], {});\n",
              "          if (!dataTable) return;\n",
              "\n",
              "          const docLinkHtml = 'Like what you see? Visit the ' +\n",
              "            '<a target=\"_blank\" href=https://colab.research.google.com/notebooks/data_table.ipynb>data table notebook</a>'\n",
              "            + ' to learn more about interactive tables.';\n",
              "          element.innerHTML = '';\n",
              "          dataTable['output_type'] = 'display_data';\n",
              "          await google.colab.output.renderOutput(dataTable, element);\n",
              "          const docLink = document.createElement('div');\n",
              "          docLink.innerHTML = docLinkHtml;\n",
              "          element.appendChild(docLink);\n",
              "        }\n",
              "      </script>\n",
              "    </div>\n",
              "  </div>\n",
              "  "
            ],
            "text/plain": [
              "       enrollee_id      city  ...  last_new_job training_hours\n",
              "0             8949  city_103  ...             1             36\n",
              "1            29725   city_40  ...            >4             47\n",
              "2            11561   city_21  ...         never             83\n",
              "3            33241  city_115  ...         never             52\n",
              "4              666  city_162  ...             4              8\n",
              "...            ...       ...  ...           ...            ...\n",
              "19153         7386  city_173  ...             1             42\n",
              "19154        31398  city_103  ...             4             52\n",
              "19155        24576  city_103  ...             4             44\n",
              "19156         5756   city_65  ...             2             97\n",
              "19157        23834   city_67  ...             1            127\n",
              "\n",
              "[19158 rows x 13 columns]"
            ]
          },
          "metadata": {},
          "execution_count": 196
        }
      ]
    },
    {
      "cell_type": "markdown",
      "source": [
        "# **EDA**\n",
        "**Задание 2 (3.5 балла)**\n",
        "\n",
        "Выполните задание для датасетa hr.\n",
        "\n",
        "Для дальнейшей работы с данными нужно обработать пропущенные значения в датасете. Существуют различные стратегии обработки пропущенных данных.\n",
        "\n",
        "**1. (0.5 балла)**\n",
        "\n",
        "Для числовых признаков постройте распределения признаков. Для категориальных признаков выведите статистику по количеству значений признака."
      ],
      "metadata": {
        "id": "LPHUdmPJp2ch"
      }
    },
    {
      "cell_type": "code",
      "source": [
        " X_hr.describe()"
      ],
      "metadata": {
        "colab": {
          "base_uri": "https://localhost:8080/",
          "height": 300
        },
        "id": "8J3SQNJtt93r",
        "outputId": "ac9ac06d-2494-4f22-e9ee-d4f148fa5681"
      },
      "execution_count": 197,
      "outputs": [
        {
          "output_type": "execute_result",
          "data": {
            "text/html": [
              "\n",
              "  <div id=\"df-4ec89d2e-acec-4869-ba66-ed387229724d\">\n",
              "    <div class=\"colab-df-container\">\n",
              "      <div>\n",
              "<style scoped>\n",
              "    .dataframe tbody tr th:only-of-type {\n",
              "        vertical-align: middle;\n",
              "    }\n",
              "\n",
              "    .dataframe tbody tr th {\n",
              "        vertical-align: top;\n",
              "    }\n",
              "\n",
              "    .dataframe thead th {\n",
              "        text-align: right;\n",
              "    }\n",
              "</style>\n",
              "<table border=\"1\" class=\"dataframe\">\n",
              "  <thead>\n",
              "    <tr style=\"text-align: right;\">\n",
              "      <th></th>\n",
              "      <th>enrollee_id</th>\n",
              "      <th>city_development_index</th>\n",
              "      <th>training_hours</th>\n",
              "    </tr>\n",
              "  </thead>\n",
              "  <tbody>\n",
              "    <tr>\n",
              "      <th>count</th>\n",
              "      <td>19158.000000</td>\n",
              "      <td>19158.000000</td>\n",
              "      <td>19158.000000</td>\n",
              "    </tr>\n",
              "    <tr>\n",
              "      <th>mean</th>\n",
              "      <td>16875.358179</td>\n",
              "      <td>0.828848</td>\n",
              "      <td>65.366896</td>\n",
              "    </tr>\n",
              "    <tr>\n",
              "      <th>std</th>\n",
              "      <td>9616.292592</td>\n",
              "      <td>0.123362</td>\n",
              "      <td>60.058462</td>\n",
              "    </tr>\n",
              "    <tr>\n",
              "      <th>min</th>\n",
              "      <td>1.000000</td>\n",
              "      <td>0.448000</td>\n",
              "      <td>1.000000</td>\n",
              "    </tr>\n",
              "    <tr>\n",
              "      <th>25%</th>\n",
              "      <td>8554.250000</td>\n",
              "      <td>0.740000</td>\n",
              "      <td>23.000000</td>\n",
              "    </tr>\n",
              "    <tr>\n",
              "      <th>50%</th>\n",
              "      <td>16982.500000</td>\n",
              "      <td>0.903000</td>\n",
              "      <td>47.000000</td>\n",
              "    </tr>\n",
              "    <tr>\n",
              "      <th>75%</th>\n",
              "      <td>25169.750000</td>\n",
              "      <td>0.920000</td>\n",
              "      <td>88.000000</td>\n",
              "    </tr>\n",
              "    <tr>\n",
              "      <th>max</th>\n",
              "      <td>33380.000000</td>\n",
              "      <td>0.949000</td>\n",
              "      <td>336.000000</td>\n",
              "    </tr>\n",
              "  </tbody>\n",
              "</table>\n",
              "</div>\n",
              "      <button class=\"colab-df-convert\" onclick=\"convertToInteractive('df-4ec89d2e-acec-4869-ba66-ed387229724d')\"\n",
              "              title=\"Convert this dataframe to an interactive table.\"\n",
              "              style=\"display:none;\">\n",
              "        \n",
              "  <svg xmlns=\"http://www.w3.org/2000/svg\" height=\"24px\"viewBox=\"0 0 24 24\"\n",
              "       width=\"24px\">\n",
              "    <path d=\"M0 0h24v24H0V0z\" fill=\"none\"/>\n",
              "    <path d=\"M18.56 5.44l.94 2.06.94-2.06 2.06-.94-2.06-.94-.94-2.06-.94 2.06-2.06.94zm-11 1L8.5 8.5l.94-2.06 2.06-.94-2.06-.94L8.5 2.5l-.94 2.06-2.06.94zm10 10l.94 2.06.94-2.06 2.06-.94-2.06-.94-.94-2.06-.94 2.06-2.06.94z\"/><path d=\"M17.41 7.96l-1.37-1.37c-.4-.4-.92-.59-1.43-.59-.52 0-1.04.2-1.43.59L10.3 9.45l-7.72 7.72c-.78.78-.78 2.05 0 2.83L4 21.41c.39.39.9.59 1.41.59.51 0 1.02-.2 1.41-.59l7.78-7.78 2.81-2.81c.8-.78.8-2.07 0-2.86zM5.41 20L4 18.59l7.72-7.72 1.47 1.35L5.41 20z\"/>\n",
              "  </svg>\n",
              "      </button>\n",
              "      \n",
              "  <style>\n",
              "    .colab-df-container {\n",
              "      display:flex;\n",
              "      flex-wrap:wrap;\n",
              "      gap: 12px;\n",
              "    }\n",
              "\n",
              "    .colab-df-convert {\n",
              "      background-color: #E8F0FE;\n",
              "      border: none;\n",
              "      border-radius: 50%;\n",
              "      cursor: pointer;\n",
              "      display: none;\n",
              "      fill: #1967D2;\n",
              "      height: 32px;\n",
              "      padding: 0 0 0 0;\n",
              "      width: 32px;\n",
              "    }\n",
              "\n",
              "    .colab-df-convert:hover {\n",
              "      background-color: #E2EBFA;\n",
              "      box-shadow: 0px 1px 2px rgba(60, 64, 67, 0.3), 0px 1px 3px 1px rgba(60, 64, 67, 0.15);\n",
              "      fill: #174EA6;\n",
              "    }\n",
              "\n",
              "    [theme=dark] .colab-df-convert {\n",
              "      background-color: #3B4455;\n",
              "      fill: #D2E3FC;\n",
              "    }\n",
              "\n",
              "    [theme=dark] .colab-df-convert:hover {\n",
              "      background-color: #434B5C;\n",
              "      box-shadow: 0px 1px 3px 1px rgba(0, 0, 0, 0.15);\n",
              "      filter: drop-shadow(0px 1px 2px rgba(0, 0, 0, 0.3));\n",
              "      fill: #FFFFFF;\n",
              "    }\n",
              "  </style>\n",
              "\n",
              "      <script>\n",
              "        const buttonEl =\n",
              "          document.querySelector('#df-4ec89d2e-acec-4869-ba66-ed387229724d button.colab-df-convert');\n",
              "        buttonEl.style.display =\n",
              "          google.colab.kernel.accessAllowed ? 'block' : 'none';\n",
              "\n",
              "        async function convertToInteractive(key) {\n",
              "          const element = document.querySelector('#df-4ec89d2e-acec-4869-ba66-ed387229724d');\n",
              "          const dataTable =\n",
              "            await google.colab.kernel.invokeFunction('convertToInteractive',\n",
              "                                                     [key], {});\n",
              "          if (!dataTable) return;\n",
              "\n",
              "          const docLinkHtml = 'Like what you see? Visit the ' +\n",
              "            '<a target=\"_blank\" href=https://colab.research.google.com/notebooks/data_table.ipynb>data table notebook</a>'\n",
              "            + ' to learn more about interactive tables.';\n",
              "          element.innerHTML = '';\n",
              "          dataTable['output_type'] = 'display_data';\n",
              "          await google.colab.output.renderOutput(dataTable, element);\n",
              "          const docLink = document.createElement('div');\n",
              "          docLink.innerHTML = docLinkHtml;\n",
              "          element.appendChild(docLink);\n",
              "        }\n",
              "      </script>\n",
              "    </div>\n",
              "  </div>\n",
              "  "
            ],
            "text/plain": [
              "        enrollee_id  city_development_index  training_hours\n",
              "count  19158.000000            19158.000000    19158.000000\n",
              "mean   16875.358179                0.828848       65.366896\n",
              "std     9616.292592                0.123362       60.058462\n",
              "min        1.000000                0.448000        1.000000\n",
              "25%     8554.250000                0.740000       23.000000\n",
              "50%    16982.500000                0.903000       47.000000\n",
              "75%    25169.750000                0.920000       88.000000\n",
              "max    33380.000000                0.949000      336.000000"
            ]
          },
          "metadata": {},
          "execution_count": 197
        }
      ]
    },
    {
      "cell_type": "code",
      "source": [
        "ggplot(X_hr, aes(x='enrollee_id'))+ geom_histogram(color=\"darkblue\", fill=\"lightblue\")\n"
      ],
      "metadata": {
        "colab": {
          "base_uri": "https://localhost:8080/",
          "height": 421
        },
        "id": "4feZy7GfqALQ",
        "outputId": "3b22252c-460a-4aed-d624-be87e46cf349"
      },
      "execution_count": 198,
      "outputs": [
        {
          "output_type": "execute_result",
          "data": {
            "text/html": [
              "<html lang=\"en\">\n",
              "   <head>\n",
              "       <script type=\"text/javascript\" data-lets-plot-script=\"library\" src=\"https://cdn.jsdelivr.net/gh/JetBrains/lets-plot@v2.2.1/js-package/distr/lets-plot.min.js\"></script>\n",
              "   </head>\n",
              "   <body>\n",
              "          <div id=\"QMhI5R\"></div>\n",
              "   <script type=\"text/javascript\" data-lets-plot-script=\"plot\">\n",
              "       var plotSpec={\n",
              "\"data\":{\n",
              "},\n",
              "\"mapping\":{\n",
              "\"x\":\"enrollee_id\"\n",
              "},\n",
              "\"data_meta\":{\n",
              "},\n",
              "\"kind\":\"plot\",\n",
              "\"scales\":[],\n",
              "\"layers\":[{\n",
              "\"geom\":\"histogram\",\n",
              "\"mapping\":{\n",
              "},\n",
              "\"data_meta\":{\n",
              "},\n",
              "\"color\":\"darkblue\",\n",
              "\"fill\":\"lightblue\",\n",
              "\"data\":{\n",
              "\"..count..\":[209.0,618.0,643.0,642.0,674.0,671.0,657.0,664.0,658.0,650.0,684.0,663.0,649.0,680.0,650.0,686.0,656.0,691.0,676.0,674.0,685.0,693.0,664.0,680.0,660.0,679.0,697.0,673.0,691.0,241.0],\n",
              "\"enrollee_id\":[-195.56522222222225,968.991,2133.5472222222224,3298.103444444444,4462.659666666666,5627.215888888889,6791.7721111111105,7956.328333333333,9120.884555555556,10285.440777777778,11449.997000000001,12614.553222222223,13779.109444444444,14943.665666666668,16108.22188888889,17272.77811111111,18437.334333333332,19601.890555555554,20766.446777777775,21931.003,23095.559222222222,24260.115444444444,25424.671666666665,26589.227888888887,27753.78411111111,28918.340333333334,30082.896555555555,31247.452777777777,32412.009,33576.56522222223]\n",
              "}\n",
              "}]\n",
              "};\n",
              "       var plotContainer = document.getElementById(\"QMhI5R\");\n",
              "       LetsPlot.buildPlotFromProcessedSpecs(plotSpec, -1, -1, plotContainer);\n",
              "   </script>\n",
              "   </body>\n",
              "</html>"
            ],
            "text/plain": [
              "<lets_plot.plot.core.PlotSpec at 0x7f68a83ca8d0>"
            ]
          },
          "metadata": {},
          "execution_count": 198
        }
      ]
    },
    {
      "cell_type": "code",
      "source": [
        "ggplot(X_hr, aes(x='city'))+ geom_histogram(color=\"darkblue\", fill=\"lightblue\")"
      ],
      "metadata": {
        "colab": {
          "base_uri": "https://localhost:8080/",
          "height": 421
        },
        "id": "MeYO_K-8qnsu",
        "outputId": "5f0b1223-c493-47a6-bf06-24080e5010f0"
      },
      "execution_count": 199,
      "outputs": [
        {
          "output_type": "execute_result",
          "data": {
            "text/html": [
              "<html lang=\"en\">\n",
              "   <head>\n",
              "       <script type=\"text/javascript\" data-lets-plot-script=\"library\" src=\"https://cdn.jsdelivr.net/gh/JetBrains/lets-plot@v2.2.1/js-package/distr/lets-plot.min.js\"></script>\n",
              "   </head>\n",
              "   <body>\n",
              "          <div id=\"skrfyb\"></div>\n",
              "   <script type=\"text/javascript\" data-lets-plot-script=\"plot\">\n",
              "       var plotSpec={\n",
              "\"data\":{\n",
              "},\n",
              "\"mapping\":{\n",
              "\"x\":\"city\"\n",
              "},\n",
              "\"data_meta\":{\n",
              "},\n",
              "\"kind\":\"plot\",\n",
              "\"scales\":[],\n",
              "\"layers\":[{\n",
              "\"geom\":\"histogram\",\n",
              "\"mapping\":{\n",
              "},\n",
              "\"data_meta\":{\n",
              "},\n",
              "\"color\":\"darkblue\",\n",
              "\"fill\":\"lightblue\",\n",
              "\"data\":{\n",
              "\"..count..\":[4423.0,2908.0,2506.0,1152.0,2214.0,577.0,667.0,540.0,549.0,909.0,213.0,341.0,208.0,63.0,506.0,355.0,135.0,143.0,138.0,83.0,95.0,101.0,61.0,59.0,54.0,56.0,61.0,22.0,14.0,5.0],\n",
              "\"city\":[\"city_103\",\"city_162\",\"city_61\",\"city_102\",\"city_71\",\"city_105\",\"city_11\",\"city_20\",\"city_65\",\"city_97\",\"city_157\",\"city_175\",\"city_165\",\"city_37\",\"city_99\",\"city_80\",\"city_7\",\"city_109\",\"city_144\",\"city_126\",\"city_27\",\"city_76\",\"city_44\",\"city_141\",\"city_25\",\"city_30\",\"city_55\",\"city_18\",\"city_121\",\"city_171\"]\n",
              "}\n",
              "}]\n",
              "};\n",
              "       var plotContainer = document.getElementById(\"skrfyb\");\n",
              "       LetsPlot.buildPlotFromProcessedSpecs(plotSpec, -1, -1, plotContainer);\n",
              "   </script>\n",
              "   </body>\n",
              "</html>"
            ],
            "text/plain": [
              "<lets_plot.plot.core.PlotSpec at 0x7f68a7b0e9d0>"
            ]
          },
          "metadata": {},
          "execution_count": 199
        }
      ]
    },
    {
      "cell_type": "code",
      "source": [
        "ggplot(X_hr, aes(x='city_development_index'))+ geom_histogram(color=\"darkblue\", fill=\"lightblue\")"
      ],
      "metadata": {
        "colab": {
          "base_uri": "https://localhost:8080/",
          "height": 421
        },
        "id": "fnYJnyqlthfS",
        "outputId": "2c8a1125-f0ea-4b9b-8a03-9011aca2a2dc"
      },
      "execution_count": 200,
      "outputs": [
        {
          "output_type": "execute_result",
          "data": {
            "text/html": [
              "<html lang=\"en\">\n",
              "   <head>\n",
              "       <script type=\"text/javascript\" data-lets-plot-script=\"library\" src=\"https://cdn.jsdelivr.net/gh/JetBrains/lets-plot@v2.2.1/js-package/distr/lets-plot.min.js\"></script>\n",
              "   </head>\n",
              "   <body>\n",
              "          <div id=\"fbCmb1\"></div>\n",
              "   <script type=\"text/javascript\" data-lets-plot-script=\"plot\">\n",
              "       var plotSpec={\n",
              "\"data\":{\n",
              "},\n",
              "\"mapping\":{\n",
              "\"x\":\"city_development_index\"\n",
              "},\n",
              "\"data_meta\":{\n",
              "},\n",
              "\"kind\":\"plot\",\n",
              "\"scales\":[],\n",
              "\"layers\":[{\n",
              "\"geom\":\"histogram\",\n",
              "\"mapping\":{\n",
              "},\n",
              "\"data_meta\":{\n",
              "},\n",
              "\"color\":\"darkblue\",\n",
              "\"fill\":\"lightblue\",\n",
              "\"data\":{\n",
              "\"..count..\":[17.0,0.0,33.0,13.0,23.0,92.0,399.0,13.0,135.0,0.0,2705.0,18.0,31.0,124.0,953.0,9.0,105.0,334.0,636.0,123.0,378.0,308.0,293.0,642.0,161.0,805.0,1247.0,7649.0,1833.0,79.0],\n",
              "\"city_development_index\":[0.44504966666666657,0.4625289999999999,0.48000833333333326,0.49748766666666655,0.514967,0.5324463333333332,0.5499256666666665,0.5674049999999999,0.5848843333333332,0.6023636666666666,0.6198429999999999,0.6373223333333333,0.6548016666666666,0.6722809999999999,0.6897603333333333,0.7072396666666666,0.7247189999999999,0.7421983333333333,0.7596776666666667,0.7771569999999999,0.7946363333333333,0.8121156666666667,0.829595,0.8470743333333333,0.8645536666666667,0.882033,0.8995123333333332,0.9169916666666666,0.934471,0.9519503333333333]\n",
              "}\n",
              "}]\n",
              "};\n",
              "       var plotContainer = document.getElementById(\"fbCmb1\");\n",
              "       LetsPlot.buildPlotFromProcessedSpecs(plotSpec, -1, -1, plotContainer);\n",
              "   </script>\n",
              "   </body>\n",
              "</html>"
            ],
            "text/plain": [
              "<lets_plot.plot.core.PlotSpec at 0x7f68a820f590>"
            ]
          },
          "metadata": {},
          "execution_count": 200
        }
      ]
    },
    {
      "cell_type": "code",
      "source": [
        "ggplot(X_hr, aes(x='gender'))+ geom_histogram(color=\"darkblue\", fill=\"lightblue\")"
      ],
      "metadata": {
        "colab": {
          "base_uri": "https://localhost:8080/",
          "height": 421
        },
        "id": "nUmpnh3wkg8h",
        "outputId": "53f38eaa-a395-45c9-a7e9-8d387677fa2f"
      },
      "execution_count": 201,
      "outputs": [
        {
          "output_type": "execute_result",
          "data": {
            "text/html": [
              "<html lang=\"en\">\n",
              "   <head>\n",
              "       <script type=\"text/javascript\" data-lets-plot-script=\"library\" src=\"https://cdn.jsdelivr.net/gh/JetBrains/lets-plot@v2.2.1/js-package/distr/lets-plot.min.js\"></script>\n",
              "   </head>\n",
              "   <body>\n",
              "          <div id=\"O5KU1k\"></div>\n",
              "   <script type=\"text/javascript\" data-lets-plot-script=\"plot\">\n",
              "       var plotSpec={\n",
              "\"data\":{\n",
              "},\n",
              "\"mapping\":{\n",
              "\"x\":\"gender\"\n",
              "},\n",
              "\"data_meta\":{\n",
              "},\n",
              "\"kind\":\"plot\",\n",
              "\"scales\":[],\n",
              "\"layers\":[{\n",
              "\"geom\":\"histogram\",\n",
              "\"mapping\":{\n",
              "},\n",
              "\"data_meta\":{\n",
              "},\n",
              "\"color\":\"darkblue\",\n",
              "\"fill\":\"lightblue\",\n",
              "\"data\":{\n",
              "\"..count..\":[13221.0,0.0,0.0,0.0,0.0,0.0,0.0,0.0,0.0,0.0,0.0,0.0,0.0,0.0,0.0,1238.0,0.0,0.0,0.0,0.0,0.0,0.0,0.0,0.0,0.0,0.0,0.0,0.0,0.0,191.0],\n",
              "\"gender\":[\"Male\",\"Male\",\"Male\",\"Male\",\"Male\",\"Male\",\"Male\",\"Male\",\"Female\",\"Female\",\"Female\",\"Female\",\"Female\",\"Female\",\"Female\",\"Female\",\"Female\",\"Female\",\"Female\",\"Female\",\"Female\",\"Female\",\"Other\",\"Other\",\"Other\",\"Other\",\"Other\",\"Other\",\"Other\",\"Other\"]\n",
              "}\n",
              "}]\n",
              "};\n",
              "       var plotContainer = document.getElementById(\"O5KU1k\");\n",
              "       LetsPlot.buildPlotFromProcessedSpecs(plotSpec, -1, -1, plotContainer);\n",
              "   </script>\n",
              "   </body>\n",
              "</html>"
            ],
            "text/plain": [
              "<lets_plot.plot.core.PlotSpec at 0x7f68a8361910>"
            ]
          },
          "metadata": {},
          "execution_count": 201
        }
      ]
    },
    {
      "cell_type": "code",
      "source": [
        "ggplot(X_hr, aes(x='relevent_experience'))+ geom_histogram(color=\"darkblue\", fill=\"lightblue\")"
      ],
      "metadata": {
        "colab": {
          "base_uri": "https://localhost:8080/",
          "height": 421
        },
        "id": "p8cNhJ3Zq0Bm",
        "outputId": "9a60c302-8556-4f3e-da24-7a855efc8456"
      },
      "execution_count": 202,
      "outputs": [
        {
          "output_type": "execute_result",
          "data": {
            "text/html": [
              "<html lang=\"en\">\n",
              "   <head>\n",
              "       <script type=\"text/javascript\" data-lets-plot-script=\"library\" src=\"https://cdn.jsdelivr.net/gh/JetBrains/lets-plot@v2.2.1/js-package/distr/lets-plot.min.js\"></script>\n",
              "   </head>\n",
              "   <body>\n",
              "          <div id=\"l4RLor\"></div>\n",
              "   <script type=\"text/javascript\" data-lets-plot-script=\"plot\">\n",
              "       var plotSpec={\n",
              "\"data\":{\n",
              "},\n",
              "\"mapping\":{\n",
              "\"x\":\"relevent_experience\"\n",
              "},\n",
              "\"data_meta\":{\n",
              "},\n",
              "\"kind\":\"plot\",\n",
              "\"scales\":[],\n",
              "\"layers\":[{\n",
              "\"geom\":\"histogram\",\n",
              "\"mapping\":{\n",
              "},\n",
              "\"data_meta\":{\n",
              "},\n",
              "\"color\":\"darkblue\",\n",
              "\"fill\":\"lightblue\",\n",
              "\"data\":{\n",
              "\"..count..\":[13792.0,0.0,0.0,0.0,0.0,0.0,0.0,0.0,0.0,0.0,0.0,0.0,0.0,0.0,0.0,0.0,0.0,0.0,0.0,0.0,0.0,0.0,0.0,0.0,0.0,0.0,0.0,0.0,0.0,5366.0],\n",
              "\"relevent_experience\":[\"Has relevent experience\",\"Has relevent experience\",\"Has relevent experience\",\"Has relevent experience\",\"Has relevent experience\",\"Has relevent experience\",\"Has relevent experience\",\"Has relevent experience\",\"Has relevent experience\",\"Has relevent experience\",\"Has relevent experience\",\"Has relevent experience\",\"Has relevent experience\",\"Has relevent experience\",\"Has relevent experience\",\"No relevent experience\",\"No relevent experience\",\"No relevent experience\",\"No relevent experience\",\"No relevent experience\",\"No relevent experience\",\"No relevent experience\",\"No relevent experience\",\"No relevent experience\",\"No relevent experience\",\"No relevent experience\",\"No relevent experience\",\"No relevent experience\",\"No relevent experience\",\"No relevent experience\"]\n",
              "}\n",
              "}]\n",
              "};\n",
              "       var plotContainer = document.getElementById(\"l4RLor\");\n",
              "       LetsPlot.buildPlotFromProcessedSpecs(plotSpec, -1, -1, plotContainer);\n",
              "   </script>\n",
              "   </body>\n",
              "</html>"
            ],
            "text/plain": [
              "<lets_plot.plot.core.PlotSpec at 0x7f68a655dc50>"
            ]
          },
          "metadata": {},
          "execution_count": 202
        }
      ]
    },
    {
      "cell_type": "code",
      "source": [
        "ggplot(X_hr, aes(x='enrolled_university'))+ geom_histogram(color=\"darkblue\", fill=\"lightblue\")"
      ],
      "metadata": {
        "colab": {
          "base_uri": "https://localhost:8080/",
          "height": 421
        },
        "id": "UYxfnAXGq7_u",
        "outputId": "c33416d4-378a-495e-c072-a90b1ee97469"
      },
      "execution_count": 203,
      "outputs": [
        {
          "output_type": "execute_result",
          "data": {
            "text/html": [
              "<html lang=\"en\">\n",
              "   <head>\n",
              "       <script type=\"text/javascript\" data-lets-plot-script=\"library\" src=\"https://cdn.jsdelivr.net/gh/JetBrains/lets-plot@v2.2.1/js-package/distr/lets-plot.min.js\"></script>\n",
              "   </head>\n",
              "   <body>\n",
              "          <div id=\"DRx7Ud\"></div>\n",
              "   <script type=\"text/javascript\" data-lets-plot-script=\"plot\">\n",
              "       var plotSpec={\n",
              "\"data\":{\n",
              "},\n",
              "\"mapping\":{\n",
              "\"x\":\"enrolled_university\"\n",
              "},\n",
              "\"data_meta\":{\n",
              "},\n",
              "\"kind\":\"plot\",\n",
              "\"scales\":[],\n",
              "\"layers\":[{\n",
              "\"geom\":\"histogram\",\n",
              "\"mapping\":{\n",
              "},\n",
              "\"data_meta\":{\n",
              "},\n",
              "\"color\":\"darkblue\",\n",
              "\"fill\":\"lightblue\",\n",
              "\"data\":{\n",
              "\"..count..\":[13817.0,0.0,0.0,0.0,0.0,0.0,0.0,0.0,0.0,0.0,0.0,0.0,0.0,0.0,0.0,3757.0,0.0,0.0,0.0,0.0,0.0,0.0,0.0,0.0,0.0,0.0,0.0,0.0,0.0,1198.0],\n",
              "\"enrolled_university\":[\"no_enrollment\",\"no_enrollment\",\"no_enrollment\",\"no_enrollment\",\"no_enrollment\",\"no_enrollment\",\"no_enrollment\",\"no_enrollment\",\"Full time course\",\"Full time course\",\"Full time course\",\"Full time course\",\"Full time course\",\"Full time course\",\"Full time course\",\"Full time course\",\"Full time course\",\"Full time course\",\"Full time course\",\"Full time course\",\"Full time course\",\"Full time course\",\"Part time course\",\"Part time course\",\"Part time course\",\"Part time course\",\"Part time course\",\"Part time course\",\"Part time course\",\"Part time course\"]\n",
              "}\n",
              "}]\n",
              "};\n",
              "       var plotContainer = document.getElementById(\"DRx7Ud\");\n",
              "       LetsPlot.buildPlotFromProcessedSpecs(plotSpec, -1, -1, plotContainer);\n",
              "   </script>\n",
              "   </body>\n",
              "</html>"
            ],
            "text/plain": [
              "<lets_plot.plot.core.PlotSpec at 0x7f68a5de9910>"
            ]
          },
          "metadata": {},
          "execution_count": 203
        }
      ]
    },
    {
      "cell_type": "code",
      "source": [
        "ggplot(X_hr, aes(x='education_level'))+ geom_histogram(color=\"darkblue\", fill=\"lightblue\")"
      ],
      "metadata": {
        "colab": {
          "base_uri": "https://localhost:8080/",
          "height": 421
        },
        "id": "bGjx1WZcq8Na",
        "outputId": "074687fb-d681-4b30-a6d2-48e2096064b2"
      },
      "execution_count": 204,
      "outputs": [
        {
          "output_type": "execute_result",
          "data": {
            "text/html": [
              "<html lang=\"en\">\n",
              "   <head>\n",
              "       <script type=\"text/javascript\" data-lets-plot-script=\"library\" src=\"https://cdn.jsdelivr.net/gh/JetBrains/lets-plot@v2.2.1/js-package/distr/lets-plot.min.js\"></script>\n",
              "   </head>\n",
              "   <body>\n",
              "          <div id=\"GrZex4\"></div>\n",
              "   <script type=\"text/javascript\" data-lets-plot-script=\"plot\">\n",
              "       var plotSpec={\n",
              "\"data\":{\n",
              "},\n",
              "\"mapping\":{\n",
              "\"x\":\"education_level\"\n",
              "},\n",
              "\"data_meta\":{\n",
              "},\n",
              "\"kind\":\"plot\",\n",
              "\"scales\":[],\n",
              "\"layers\":[{\n",
              "\"geom\":\"histogram\",\n",
              "\"mapping\":{\n",
              "},\n",
              "\"data_meta\":{\n",
              "},\n",
              "\"color\":\"darkblue\",\n",
              "\"fill\":\"lightblue\",\n",
              "\"data\":{\n",
              "\"..count..\":[11598.0,0.0,0.0,0.0,0.0,0.0,0.0,4361.0,0.0,0.0,0.0,0.0,0.0,0.0,0.0,2017.0,0.0,0.0,0.0,0.0,0.0,0.0,414.0,0.0,0.0,0.0,0.0,0.0,0.0,308.0],\n",
              "\"education_level\":[\"Graduate\",\"Graduate\",\"Graduate\",\"Graduate\",\"Masters\",\"Masters\",\"Masters\",\"Masters\",\"Masters\",\"Masters\",\"Masters\",\"High School\",\"High School\",\"High School\",\"High School\",\"High School\",\"High School\",\"High School\",\"High School\",\"Phd\",\"Phd\",\"Phd\",\"Phd\",\"Phd\",\"Phd\",\"Phd\",\"Primary School\",\"Primary School\",\"Primary School\",\"Primary School\"]\n",
              "}\n",
              "}]\n",
              "};\n",
              "       var plotContainer = document.getElementById(\"GrZex4\");\n",
              "       LetsPlot.buildPlotFromProcessedSpecs(plotSpec, -1, -1, plotContainer);\n",
              "   </script>\n",
              "   </body>\n",
              "</html>"
            ],
            "text/plain": [
              "<lets_plot.plot.core.PlotSpec at 0x7f68aa99b6d0>"
            ]
          },
          "metadata": {},
          "execution_count": 204
        }
      ]
    },
    {
      "cell_type": "code",
      "source": [
        "ggplot(X_hr, aes(x='major_discipline'))+ geom_histogram(color=\"darkblue\", fill=\"lightblue\")"
      ],
      "metadata": {
        "colab": {
          "base_uri": "https://localhost:8080/",
          "height": 421
        },
        "id": "AtgGSYUnq8ZP",
        "outputId": "66a11095-b7d7-4636-df9e-bbf11df64877"
      },
      "execution_count": 205,
      "outputs": [
        {
          "output_type": "execute_result",
          "data": {
            "text/html": [
              "<html lang=\"en\">\n",
              "   <head>\n",
              "       <script type=\"text/javascript\" data-lets-plot-script=\"library\" src=\"https://cdn.jsdelivr.net/gh/JetBrains/lets-plot@v2.2.1/js-package/distr/lets-plot.min.js\"></script>\n",
              "   </head>\n",
              "   <body>\n",
              "          <div id=\"J4sr2K\"></div>\n",
              "   <script type=\"text/javascript\" data-lets-plot-script=\"plot\">\n",
              "       var plotSpec={\n",
              "\"data\":{\n",
              "},\n",
              "\"mapping\":{\n",
              "\"x\":\"major_discipline\"\n",
              "},\n",
              "\"data_meta\":{\n",
              "},\n",
              "\"kind\":\"plot\",\n",
              "\"scales\":[],\n",
              "\"layers\":[{\n",
              "\"geom\":\"histogram\",\n",
              "\"mapping\":{\n",
              "},\n",
              "\"data_meta\":{\n",
              "},\n",
              "\"color\":\"darkblue\",\n",
              "\"fill\":\"lightblue\",\n",
              "\"data\":{\n",
              "\"..count..\":[14492.0,0.0,0.0,0.0,0.0,0.0,327.0,0.0,0.0,0.0,0.0,0.0,253.0,0.0,0.0,0.0,0.0,669.0,0.0,0.0,0.0,0.0,0.0,223.0,0.0,0.0,0.0,0.0,0.0,381.0],\n",
              "\"major_discipline\":[\"STEM\",\"STEM\",\"STEM\",\"STEM\",\"Business Degree\",\"Business Degree\",\"Business Degree\",\"Business Degree\",\"Business Degree\",\"Arts\",\"Arts\",\"Arts\",\"Arts\",\"Arts\",\"Arts\",\"Humanities\",\"Humanities\",\"Humanities\",\"Humanities\",\"Humanities\",\"Humanities\",\"No Major\",\"No Major\",\"No Major\",\"No Major\",\"No Major\",\"Other\",\"Other\",\"Other\",\"Other\"]\n",
              "}\n",
              "}]\n",
              "};\n",
              "       var plotContainer = document.getElementById(\"J4sr2K\");\n",
              "       LetsPlot.buildPlotFromProcessedSpecs(plotSpec, -1, -1, plotContainer);\n",
              "   </script>\n",
              "   </body>\n",
              "</html>"
            ],
            "text/plain": [
              "<lets_plot.plot.core.PlotSpec at 0x7f68aa999490>"
            ]
          },
          "metadata": {},
          "execution_count": 205
        }
      ]
    },
    {
      "cell_type": "code",
      "source": [
        "ggplot(X_hr, aes(x='experience'))+ geom_histogram(color=\"darkblue\", fill=\"lightblue\")"
      ],
      "metadata": {
        "colab": {
          "base_uri": "https://localhost:8080/",
          "height": 421
        },
        "id": "Sh3FA7WNrDCE",
        "outputId": "c8b9ac0f-f201-4075-ec1a-4107258efc7f"
      },
      "execution_count": 206,
      "outputs": [
        {
          "output_type": "execute_result",
          "data": {
            "text/html": [
              "<html lang=\"en\">\n",
              "   <head>\n",
              "       <script type=\"text/javascript\" data-lets-plot-script=\"library\" src=\"https://cdn.jsdelivr.net/gh/JetBrains/lets-plot@v2.2.1/js-package/distr/lets-plot.min.js\"></script>\n",
              "   </head>\n",
              "   <body>\n",
              "          <div id=\"srDk3j\"></div>\n",
              "   <script type=\"text/javascript\" data-lets-plot-script=\"plot\">\n",
              "       var plotSpec={\n",
              "\"data\":{\n",
              "},\n",
              "\"mapping\":{\n",
              "\"x\":\"experience\"\n",
              "},\n",
              "\"data_meta\":{\n",
              "},\n",
              "\"kind\":\"plot\",\n",
              "\"scales\":[],\n",
              "\"layers\":[{\n",
              "\"geom\":\"histogram\",\n",
              "\"mapping\":{\n",
              "},\n",
              "\"data_meta\":{\n",
              "},\n",
              "\"color\":\"darkblue\",\n",
              "\"fill\":\"lightblue\",\n",
              "\"data\":{\n",
              "\"..count..\":[3286.0,0.0,686.0,1430.0,522.0,0.0,664.0,399.0,1028.0,0.0,342.0,1127.0,508.0,0.0,549.0,1403.0,0.0,985.0,586.0,280.0,0.0,304.0,494.0,1354.0,0.0,1216.0,980.0,802.0,0.0,148.0],\n",
              "\"experience\":[\">20\",\"15\",\"15\",\"5\",\"<1\",\"11\",\"11\",\"13\",\"7\",\"7\",\"17\",\"2\",\"16\",\"16\",\"1\",\"4\",\"10\",\"10\",\"14\",\"18\",\"19\",\"19\",\"12\",\"3\",\"3\",\"6\",\"9\",\"8\",\"8\",\"20\"]\n",
              "}\n",
              "}]\n",
              "};\n",
              "       var plotContainer = document.getElementById(\"srDk3j\");\n",
              "       LetsPlot.buildPlotFromProcessedSpecs(plotSpec, -1, -1, plotContainer);\n",
              "   </script>\n",
              "   </body>\n",
              "</html>"
            ],
            "text/plain": [
              "<lets_plot.plot.core.PlotSpec at 0x7f68a486ce10>"
            ]
          },
          "metadata": {},
          "execution_count": 206
        }
      ]
    },
    {
      "cell_type": "code",
      "source": [
        "ggplot(X_hr, aes(x='company_size'))+ geom_histogram(color=\"darkblue\", fill=\"lightblue\")"
      ],
      "metadata": {
        "colab": {
          "base_uri": "https://localhost:8080/",
          "height": 421
        },
        "id": "qt7GWj7nrDGD",
        "outputId": "5f4c1d18-df87-4a83-88c3-963c336d882c"
      },
      "execution_count": 207,
      "outputs": [
        {
          "output_type": "execute_result",
          "data": {
            "text/html": [
              "<html lang=\"en\">\n",
              "   <head>\n",
              "       <script type=\"text/javascript\" data-lets-plot-script=\"library\" src=\"https://cdn.jsdelivr.net/gh/JetBrains/lets-plot@v2.2.1/js-package/distr/lets-plot.min.js\"></script>\n",
              "   </head>\n",
              "   <body>\n",
              "          <div id=\"vCGOrx\"></div>\n",
              "   <script type=\"text/javascript\" data-lets-plot-script=\"plot\">\n",
              "       var plotSpec={\n",
              "\"data\":{\n",
              "},\n",
              "\"mapping\":{\n",
              "\"x\":\"company_size\"\n",
              "},\n",
              "\"data_meta\":{\n",
              "},\n",
              "\"kind\":\"plot\",\n",
              "\"scales\":[],\n",
              "\"layers\":[{\n",
              "\"geom\":\"histogram\",\n",
              "\"mapping\":{\n",
              "},\n",
              "\"data_meta\":{\n",
              "},\n",
              "\"color\":\"darkblue\",\n",
              "\"fill\":\"lightblue\",\n",
              "\"data\":{\n",
              "\"..count..\":[3083.0,0.0,0.0,0.0,1308.0,0.0,0.0,0.0,2019.0,0.0,0.0,0.0,563.0,0.0,0.0,0.0,0.0,1328.0,0.0,0.0,0.0,1471.0,0.0,0.0,0.0,2571.0,0.0,0.0,0.0,877.0],\n",
              "\"company_size\":[\"50-99\",\"50-99\",\"50-99\",\"<10\",\"<10\",\"<10\",\"<10\",\"10000+\",\"10000+\",\"10000+\",\"10000+\",\"5000-9999\",\"5000-9999\",\"5000-9999\",\"5000-9999\",\"1000-4999\",\"1000-4999\",\"1000-4999\",\"1000-4999\",\"10/49\",\"10/49\",\"10/49\",\"10/49\",\"100-500\",\"100-500\",\"100-500\",\"100-500\",\"500-999\",\"500-999\",\"500-999\"]\n",
              "}\n",
              "}]\n",
              "};\n",
              "       var plotContainer = document.getElementById(\"vCGOrx\");\n",
              "       LetsPlot.buildPlotFromProcessedSpecs(plotSpec, -1, -1, plotContainer);\n",
              "   </script>\n",
              "   </body>\n",
              "</html>"
            ],
            "text/plain": [
              "<lets_plot.plot.core.PlotSpec at 0x7f68aa9941d0>"
            ]
          },
          "metadata": {},
          "execution_count": 207
        }
      ]
    },
    {
      "cell_type": "code",
      "source": [
        "ggplot(X_hr, aes(x='company_type'))+ geom_histogram(color=\"darkblue\", fill=\"lightblue\")"
      ],
      "metadata": {
        "colab": {
          "base_uri": "https://localhost:8080/",
          "height": 421
        },
        "id": "SUcU5doLrDJX",
        "outputId": "e2632724-cfbc-4d6d-b753-d3fcd875ac85"
      },
      "execution_count": 208,
      "outputs": [
        {
          "output_type": "execute_result",
          "data": {
            "text/html": [
              "<html lang=\"en\">\n",
              "   <head>\n",
              "       <script type=\"text/javascript\" data-lets-plot-script=\"library\" src=\"https://cdn.jsdelivr.net/gh/JetBrains/lets-plot@v2.2.1/js-package/distr/lets-plot.min.js\"></script>\n",
              "   </head>\n",
              "   <body>\n",
              "          <div id=\"x3rayr\"></div>\n",
              "   <script type=\"text/javascript\" data-lets-plot-script=\"plot\">\n",
              "       var plotSpec={\n",
              "\"data\":{\n",
              "},\n",
              "\"mapping\":{\n",
              "\"x\":\"company_type\"\n",
              "},\n",
              "\"data_meta\":{\n",
              "},\n",
              "\"kind\":\"plot\",\n",
              "\"scales\":[],\n",
              "\"layers\":[{\n",
              "\"geom\":\"histogram\",\n",
              "\"mapping\":{\n",
              "},\n",
              "\"data_meta\":{\n",
              "},\n",
              "\"color\":\"darkblue\",\n",
              "\"fill\":\"lightblue\",\n",
              "\"data\":{\n",
              "\"..count..\":[9817.0,0.0,0.0,0.0,0.0,0.0,1001.0,0.0,0.0,0.0,0.0,0.0,603.0,0.0,0.0,0.0,0.0,121.0,0.0,0.0,0.0,0.0,0.0,955.0,0.0,0.0,0.0,0.0,0.0,521.0],\n",
              "\"company_type\":[\"Pvt Ltd\",\"Pvt Ltd\",\"Pvt Ltd\",\"Pvt Ltd\",\"Funded Startup\",\"Funded Startup\",\"Funded Startup\",\"Funded Startup\",\"Funded Startup\",\"Early Stage Startup\",\"Early Stage Startup\",\"Early Stage Startup\",\"Early Stage Startup\",\"Early Stage Startup\",\"Early Stage Startup\",\"Other\",\"Other\",\"Other\",\"Other\",\"Other\",\"Other\",\"Public Sector\",\"Public Sector\",\"Public Sector\",\"Public Sector\",\"Public Sector\",\"NGO\",\"NGO\",\"NGO\",\"NGO\"]\n",
              "}\n",
              "}]\n",
              "};\n",
              "       var plotContainer = document.getElementById(\"x3rayr\");\n",
              "       LetsPlot.buildPlotFromProcessedSpecs(plotSpec, -1, -1, plotContainer);\n",
              "   </script>\n",
              "   </body>\n",
              "</html>"
            ],
            "text/plain": [
              "<lets_plot.plot.core.PlotSpec at 0x7f68a39fbe10>"
            ]
          },
          "metadata": {},
          "execution_count": 208
        }
      ]
    },
    {
      "cell_type": "code",
      "source": [
        "ggplot(X_hr, aes(x='last_new_job'))+ geom_histogram(color=\"darkblue\", fill=\"lightblue\")"
      ],
      "metadata": {
        "colab": {
          "base_uri": "https://localhost:8080/",
          "height": 421
        },
        "id": "p-lvxNpVrEYl",
        "outputId": "575ea81d-8af3-4ad4-c175-278afe72b6c7"
      },
      "execution_count": 209,
      "outputs": [
        {
          "output_type": "execute_result",
          "data": {
            "text/html": [
              "<html lang=\"en\">\n",
              "   <head>\n",
              "       <script type=\"text/javascript\" data-lets-plot-script=\"library\" src=\"https://cdn.jsdelivr.net/gh/JetBrains/lets-plot@v2.2.1/js-package/distr/lets-plot.min.js\"></script>\n",
              "   </head>\n",
              "   <body>\n",
              "          <div id=\"c1E5Sg\"></div>\n",
              "   <script type=\"text/javascript\" data-lets-plot-script=\"plot\">\n",
              "       var plotSpec={\n",
              "\"data\":{\n",
              "},\n",
              "\"mapping\":{\n",
              "\"x\":\"last_new_job\"\n",
              "},\n",
              "\"data_meta\":{\n",
              "},\n",
              "\"kind\":\"plot\",\n",
              "\"scales\":[],\n",
              "\"layers\":[{\n",
              "\"geom\":\"histogram\",\n",
              "\"mapping\":{\n",
              "},\n",
              "\"data_meta\":{\n",
              "},\n",
              "\"color\":\"darkblue\",\n",
              "\"fill\":\"lightblue\",\n",
              "\"data\":{\n",
              "\"..count..\":[8040.0,0.0,0.0,0.0,0.0,0.0,3290.0,0.0,0.0,0.0,0.0,0.0,2452.0,0.0,0.0,0.0,0.0,1029.0,0.0,0.0,0.0,0.0,0.0,1024.0,0.0,0.0,0.0,0.0,0.0,2900.0],\n",
              "\"last_new_job\":[\"1\",\"1\",\"1\",\"1\",\">4\",\">4\",\">4\",\">4\",\">4\",\"never\",\"never\",\"never\",\"never\",\"never\",\"never\",\"4\",\"4\",\"4\",\"4\",\"4\",\"4\",\"3\",\"3\",\"3\",\"3\",\"3\",\"2\",\"2\",\"2\",\"2\"]\n",
              "}\n",
              "}]\n",
              "};\n",
              "       var plotContainer = document.getElementById(\"c1E5Sg\");\n",
              "       LetsPlot.buildPlotFromProcessedSpecs(plotSpec, -1, -1, plotContainer);\n",
              "   </script>\n",
              "   </body>\n",
              "</html>"
            ],
            "text/plain": [
              "<lets_plot.plot.core.PlotSpec at 0x7f68a39fba10>"
            ]
          },
          "metadata": {},
          "execution_count": 209
        }
      ]
    },
    {
      "cell_type": "code",
      "source": [
        "ggplot(X_hr, aes(x='training_hours'))+ geom_histogram(color=\"darkblue\", fill=\"lightblue\")"
      ],
      "metadata": {
        "colab": {
          "base_uri": "https://localhost:8080/",
          "height": 421
        },
        "id": "v20l40BctmV3",
        "outputId": "9f9b3c84-e38d-42ed-c0f4-08c7779c238d"
      },
      "execution_count": 210,
      "outputs": [
        {
          "output_type": "execute_result",
          "data": {
            "text/html": [
              "<html lang=\"en\">\n",
              "   <head>\n",
              "       <script type=\"text/javascript\" data-lets-plot-script=\"library\" src=\"https://cdn.jsdelivr.net/gh/JetBrains/lets-plot@v2.2.1/js-package/distr/lets-plot.min.js\"></script>\n",
              "   </head>\n",
              "   <body>\n",
              "          <div id=\"koLvKL\"></div>\n",
              "   <script type=\"text/javascript\" data-lets-plot-script=\"plot\">\n",
              "       var plotSpec={\n",
              "\"data\":{\n",
              "},\n",
              "\"mapping\":{\n",
              "\"x\":\"training_hours\"\n",
              "},\n",
              "\"data_meta\":{\n",
              "},\n",
              "\"kind\":\"plot\",\n",
              "\"scales\":[],\n",
              "\"layers\":[{\n",
              "\"geom\":\"histogram\",\n",
              "\"mapping\":{\n",
              "},\n",
              "\"data_meta\":{\n",
              "},\n",
              "\"color\":\"darkblue\",\n",
              "\"fill\":\"lightblue\",\n",
              "\"data\":{\n",
              "\"..count..\":[448.0,2674.0,2972.0,1997.0,2278.0,1654.0,1097.0,1110.0,900.0,888.0,442.0,378.0,374.0,373.0,373.0,151.0,110.0,158.0,136.0,131.0,37.0,65.0,58.0,44.0,44.0,43.0,73.0,57.0,71.0,22.0],\n",
              "\"training_hours\":[-0.9727777777777771,10.715,22.40277777777778,34.090555555555554,45.77833333333333,57.466111111111104,69.15388888888889,80.84166666666665,92.52944444444444,104.21722222222222,115.90499999999999,127.59277777777775,139.28055555555557,150.96833333333333,162.6561111111111,174.3438888888889,186.03166666666667,197.71944444444443,209.40722222222223,221.095,232.78277777777777,244.47055555555556,256.1583333333333,267.8461111111111,279.5338888888889,291.22166666666664,302.90944444444443,314.59722222222223,326.28499999999997,337.97277777777776]\n",
              "}\n",
              "}]\n",
              "};\n",
              "       var plotContainer = document.getElementById(\"koLvKL\");\n",
              "       LetsPlot.buildPlotFromProcessedSpecs(plotSpec, -1, -1, plotContainer);\n",
              "   </script>\n",
              "   </body>\n",
              "</html>"
            ],
            "text/plain": [
              "<lets_plot.plot.core.PlotSpec at 0x7f68a2b87b10>"
            ]
          },
          "metadata": {},
          "execution_count": 210
        }
      ]
    },
    {
      "cell_type": "markdown",
      "source": [
        "**2. (0.5 балла)**\n",
        "\n",
        "Удалите все строки, где есть хотя бы одно пропущенное значение признака. Насколько сильно уменьшился размер датасета? Как изменились распределения признаков/статистика по количеству значений признаков?"
      ],
      "metadata": {
        "id": "Id3w6uCaqCLo"
      }
    },
    {
      "cell_type": "code",
      "source": [
        "print(f'Исходный размер датасета hr {len(X_hr)}')"
      ],
      "metadata": {
        "colab": {
          "base_uri": "https://localhost:8080/"
        },
        "id": "KNf2tFrdqGnl",
        "outputId": "af4b1a61-09da-4a50-d2fc-855f1213efee"
      },
      "execution_count": 211,
      "outputs": [
        {
          "output_type": "stream",
          "name": "stdout",
          "text": [
            "Исходный размер датасета hr 19158\n"
          ]
        }
      ]
    },
    {
      "cell_type": "code",
      "source": [
        "X_hr_dropna = X_hr.dropna()"
      ],
      "metadata": {
        "id": "KqXLAj3LqJL8"
      },
      "execution_count": 212,
      "outputs": []
    },
    {
      "cell_type": "code",
      "source": [
        "print(f'Pазмер датасета hr без NaN {len(X_hr_dropna)}')\n"
      ],
      "metadata": {
        "colab": {
          "base_uri": "https://localhost:8080/"
        },
        "id": "9CalCMAtqLMw",
        "outputId": "064d2a2a-5ca3-4acb-e076-350205be88ba"
      },
      "execution_count": 213,
      "outputs": [
        {
          "output_type": "stream",
          "name": "stdout",
          "text": [
            "Pазмер датасета hr без NaN 8955\n"
          ]
        }
      ]
    },
    {
      "cell_type": "markdown",
      "source": [
        "Давайте попробуем избежать сокращения размера датасета.\n",
        "\n",
        "**3. (1 балл)**\n",
        "\n",
        "Для числовых признаков заполните пропущенные данные средним/медианой/модой данного признака. Объясните свой выбор. (Часть строк с NaN значениями можно удалить, если размер датасета уменьшится <15%)\n",
        "\n",
        "**4. (1 балл)**\n",
        "\n",
        "Для категориальных признаков заполните пропущенные значения самой встречающейся категорией или создайте отдельную категорию пропущенных значений. Объясните свой выбор. (Часть строк с NaN значениями можно удалить, если размер датасета уменьшится <15%)\n"
      ],
      "metadata": {
        "id": "knj6fUqgqNQL"
      }
    },
    {
      "cell_type": "code",
      "source": [
        "col = X_hr.columns\n",
        "print('Столбцы с пропусками:')\n",
        "for i in range(13):\n",
        "  if len(X_hr) != len(X_hr.iloc[:, i].dropna()):\n",
        "    print(col[i])"
      ],
      "metadata": {
        "colab": {
          "base_uri": "https://localhost:8080/"
        },
        "id": "nVdUGNEqZtKG",
        "outputId": "a8230bfc-c0a0-4483-ac8a-90cdce645a2f"
      },
      "execution_count": 214,
      "outputs": [
        {
          "output_type": "stream",
          "name": "stdout",
          "text": [
            "Столбцы с пропусками:\n",
            "gender\n",
            "enrolled_university\n",
            "education_level\n",
            "major_discipline\n",
            "experience\n",
            "company_size\n",
            "company_type\n",
            "last_new_job\n"
          ]
        }
      ]
    },
    {
      "cell_type": "markdown",
      "source": [
        "Поскольку у нас столбцы с пропусками содержат только категориальные признаки, то заполнять пропущенные значения будем наиболее часто встречающейся категорией.\n"
      ],
      "metadata": {
        "id": "O8Ajcy2gumnf"
      }
    },
    {
      "cell_type": "code",
      "source": [
        "def fill_na(X, y):\n",
        "    # Возвращает данные без NaN значений\n",
        "    y_mode = y.mode()\n",
        "    y_fill = y.copy()\n",
        "    y_fill = y_fill.fillna(y_mode)\n",
        "    X_fill = X.copy()\n",
        "    for i in range(13):\n",
        "      if len(X) != len(X.iloc[:, i].dropna()):\n",
        "        x_mode = X[col[i]].mode()[0]\n",
        "        x_fill = X[col[i]].copy()\n",
        "        x_fill = x_fill.fillna(x_mode)\n",
        "        X_fill[col[i]] = x_fill\n",
        "    return X_fill, y_fill"
      ],
      "metadata": {
        "id": "eGOmsv2IqU4t"
      },
      "execution_count": 215,
      "outputs": []
    },
    {
      "cell_type": "code",
      "source": [
        "X_hr_fill, y_hr_fill = fill_na(X_hr, y_hr)\n",
        "X_hr_fill\n"
      ],
      "metadata": {
        "colab": {
          "base_uri": "https://localhost:8080/",
          "height": 488
        },
        "id": "ZNMcqej0qW-q",
        "outputId": "48ff7f13-6685-46ed-f691-f8d6aba453d6"
      },
      "execution_count": 216,
      "outputs": [
        {
          "output_type": "execute_result",
          "data": {
            "text/html": [
              "\n",
              "  <div id=\"df-d3f6a8ba-4a64-48b1-a5be-9ee79bb422e4\">\n",
              "    <div class=\"colab-df-container\">\n",
              "      <div>\n",
              "<style scoped>\n",
              "    .dataframe tbody tr th:only-of-type {\n",
              "        vertical-align: middle;\n",
              "    }\n",
              "\n",
              "    .dataframe tbody tr th {\n",
              "        vertical-align: top;\n",
              "    }\n",
              "\n",
              "    .dataframe thead th {\n",
              "        text-align: right;\n",
              "    }\n",
              "</style>\n",
              "<table border=\"1\" class=\"dataframe\">\n",
              "  <thead>\n",
              "    <tr style=\"text-align: right;\">\n",
              "      <th></th>\n",
              "      <th>enrollee_id</th>\n",
              "      <th>city</th>\n",
              "      <th>city_development_index</th>\n",
              "      <th>gender</th>\n",
              "      <th>relevent_experience</th>\n",
              "      <th>enrolled_university</th>\n",
              "      <th>education_level</th>\n",
              "      <th>major_discipline</th>\n",
              "      <th>experience</th>\n",
              "      <th>company_size</th>\n",
              "      <th>company_type</th>\n",
              "      <th>last_new_job</th>\n",
              "      <th>training_hours</th>\n",
              "    </tr>\n",
              "  </thead>\n",
              "  <tbody>\n",
              "    <tr>\n",
              "      <th>0</th>\n",
              "      <td>8949</td>\n",
              "      <td>city_103</td>\n",
              "      <td>0.920</td>\n",
              "      <td>Male</td>\n",
              "      <td>Has relevent experience</td>\n",
              "      <td>no_enrollment</td>\n",
              "      <td>Graduate</td>\n",
              "      <td>STEM</td>\n",
              "      <td>&gt;20</td>\n",
              "      <td>50-99</td>\n",
              "      <td>Pvt Ltd</td>\n",
              "      <td>1</td>\n",
              "      <td>36</td>\n",
              "    </tr>\n",
              "    <tr>\n",
              "      <th>1</th>\n",
              "      <td>29725</td>\n",
              "      <td>city_40</td>\n",
              "      <td>0.776</td>\n",
              "      <td>Male</td>\n",
              "      <td>No relevent experience</td>\n",
              "      <td>no_enrollment</td>\n",
              "      <td>Graduate</td>\n",
              "      <td>STEM</td>\n",
              "      <td>15</td>\n",
              "      <td>50-99</td>\n",
              "      <td>Pvt Ltd</td>\n",
              "      <td>&gt;4</td>\n",
              "      <td>47</td>\n",
              "    </tr>\n",
              "    <tr>\n",
              "      <th>2</th>\n",
              "      <td>11561</td>\n",
              "      <td>city_21</td>\n",
              "      <td>0.624</td>\n",
              "      <td>Male</td>\n",
              "      <td>No relevent experience</td>\n",
              "      <td>Full time course</td>\n",
              "      <td>Graduate</td>\n",
              "      <td>STEM</td>\n",
              "      <td>5</td>\n",
              "      <td>50-99</td>\n",
              "      <td>Pvt Ltd</td>\n",
              "      <td>never</td>\n",
              "      <td>83</td>\n",
              "    </tr>\n",
              "    <tr>\n",
              "      <th>3</th>\n",
              "      <td>33241</td>\n",
              "      <td>city_115</td>\n",
              "      <td>0.789</td>\n",
              "      <td>Male</td>\n",
              "      <td>No relevent experience</td>\n",
              "      <td>no_enrollment</td>\n",
              "      <td>Graduate</td>\n",
              "      <td>Business Degree</td>\n",
              "      <td>&lt;1</td>\n",
              "      <td>50-99</td>\n",
              "      <td>Pvt Ltd</td>\n",
              "      <td>never</td>\n",
              "      <td>52</td>\n",
              "    </tr>\n",
              "    <tr>\n",
              "      <th>4</th>\n",
              "      <td>666</td>\n",
              "      <td>city_162</td>\n",
              "      <td>0.767</td>\n",
              "      <td>Male</td>\n",
              "      <td>Has relevent experience</td>\n",
              "      <td>no_enrollment</td>\n",
              "      <td>Masters</td>\n",
              "      <td>STEM</td>\n",
              "      <td>&gt;20</td>\n",
              "      <td>50-99</td>\n",
              "      <td>Funded Startup</td>\n",
              "      <td>4</td>\n",
              "      <td>8</td>\n",
              "    </tr>\n",
              "    <tr>\n",
              "      <th>...</th>\n",
              "      <td>...</td>\n",
              "      <td>...</td>\n",
              "      <td>...</td>\n",
              "      <td>...</td>\n",
              "      <td>...</td>\n",
              "      <td>...</td>\n",
              "      <td>...</td>\n",
              "      <td>...</td>\n",
              "      <td>...</td>\n",
              "      <td>...</td>\n",
              "      <td>...</td>\n",
              "      <td>...</td>\n",
              "      <td>...</td>\n",
              "    </tr>\n",
              "    <tr>\n",
              "      <th>19153</th>\n",
              "      <td>7386</td>\n",
              "      <td>city_173</td>\n",
              "      <td>0.878</td>\n",
              "      <td>Male</td>\n",
              "      <td>No relevent experience</td>\n",
              "      <td>no_enrollment</td>\n",
              "      <td>Graduate</td>\n",
              "      <td>Humanities</td>\n",
              "      <td>14</td>\n",
              "      <td>50-99</td>\n",
              "      <td>Pvt Ltd</td>\n",
              "      <td>1</td>\n",
              "      <td>42</td>\n",
              "    </tr>\n",
              "    <tr>\n",
              "      <th>19154</th>\n",
              "      <td>31398</td>\n",
              "      <td>city_103</td>\n",
              "      <td>0.920</td>\n",
              "      <td>Male</td>\n",
              "      <td>Has relevent experience</td>\n",
              "      <td>no_enrollment</td>\n",
              "      <td>Graduate</td>\n",
              "      <td>STEM</td>\n",
              "      <td>14</td>\n",
              "      <td>50-99</td>\n",
              "      <td>Pvt Ltd</td>\n",
              "      <td>4</td>\n",
              "      <td>52</td>\n",
              "    </tr>\n",
              "    <tr>\n",
              "      <th>19155</th>\n",
              "      <td>24576</td>\n",
              "      <td>city_103</td>\n",
              "      <td>0.920</td>\n",
              "      <td>Male</td>\n",
              "      <td>Has relevent experience</td>\n",
              "      <td>no_enrollment</td>\n",
              "      <td>Graduate</td>\n",
              "      <td>STEM</td>\n",
              "      <td>&gt;20</td>\n",
              "      <td>50-99</td>\n",
              "      <td>Pvt Ltd</td>\n",
              "      <td>4</td>\n",
              "      <td>44</td>\n",
              "    </tr>\n",
              "    <tr>\n",
              "      <th>19156</th>\n",
              "      <td>5756</td>\n",
              "      <td>city_65</td>\n",
              "      <td>0.802</td>\n",
              "      <td>Male</td>\n",
              "      <td>Has relevent experience</td>\n",
              "      <td>no_enrollment</td>\n",
              "      <td>High School</td>\n",
              "      <td>STEM</td>\n",
              "      <td>&lt;1</td>\n",
              "      <td>500-999</td>\n",
              "      <td>Pvt Ltd</td>\n",
              "      <td>2</td>\n",
              "      <td>97</td>\n",
              "    </tr>\n",
              "    <tr>\n",
              "      <th>19157</th>\n",
              "      <td>23834</td>\n",
              "      <td>city_67</td>\n",
              "      <td>0.855</td>\n",
              "      <td>Male</td>\n",
              "      <td>No relevent experience</td>\n",
              "      <td>no_enrollment</td>\n",
              "      <td>Primary School</td>\n",
              "      <td>STEM</td>\n",
              "      <td>2</td>\n",
              "      <td>50-99</td>\n",
              "      <td>Pvt Ltd</td>\n",
              "      <td>1</td>\n",
              "      <td>127</td>\n",
              "    </tr>\n",
              "  </tbody>\n",
              "</table>\n",
              "<p>19158 rows × 13 columns</p>\n",
              "</div>\n",
              "      <button class=\"colab-df-convert\" onclick=\"convertToInteractive('df-d3f6a8ba-4a64-48b1-a5be-9ee79bb422e4')\"\n",
              "              title=\"Convert this dataframe to an interactive table.\"\n",
              "              style=\"display:none;\">\n",
              "        \n",
              "  <svg xmlns=\"http://www.w3.org/2000/svg\" height=\"24px\"viewBox=\"0 0 24 24\"\n",
              "       width=\"24px\">\n",
              "    <path d=\"M0 0h24v24H0V0z\" fill=\"none\"/>\n",
              "    <path d=\"M18.56 5.44l.94 2.06.94-2.06 2.06-.94-2.06-.94-.94-2.06-.94 2.06-2.06.94zm-11 1L8.5 8.5l.94-2.06 2.06-.94-2.06-.94L8.5 2.5l-.94 2.06-2.06.94zm10 10l.94 2.06.94-2.06 2.06-.94-2.06-.94-.94-2.06-.94 2.06-2.06.94z\"/><path d=\"M17.41 7.96l-1.37-1.37c-.4-.4-.92-.59-1.43-.59-.52 0-1.04.2-1.43.59L10.3 9.45l-7.72 7.72c-.78.78-.78 2.05 0 2.83L4 21.41c.39.39.9.59 1.41.59.51 0 1.02-.2 1.41-.59l7.78-7.78 2.81-2.81c.8-.78.8-2.07 0-2.86zM5.41 20L4 18.59l7.72-7.72 1.47 1.35L5.41 20z\"/>\n",
              "  </svg>\n",
              "      </button>\n",
              "      \n",
              "  <style>\n",
              "    .colab-df-container {\n",
              "      display:flex;\n",
              "      flex-wrap:wrap;\n",
              "      gap: 12px;\n",
              "    }\n",
              "\n",
              "    .colab-df-convert {\n",
              "      background-color: #E8F0FE;\n",
              "      border: none;\n",
              "      border-radius: 50%;\n",
              "      cursor: pointer;\n",
              "      display: none;\n",
              "      fill: #1967D2;\n",
              "      height: 32px;\n",
              "      padding: 0 0 0 0;\n",
              "      width: 32px;\n",
              "    }\n",
              "\n",
              "    .colab-df-convert:hover {\n",
              "      background-color: #E2EBFA;\n",
              "      box-shadow: 0px 1px 2px rgba(60, 64, 67, 0.3), 0px 1px 3px 1px rgba(60, 64, 67, 0.15);\n",
              "      fill: #174EA6;\n",
              "    }\n",
              "\n",
              "    [theme=dark] .colab-df-convert {\n",
              "      background-color: #3B4455;\n",
              "      fill: #D2E3FC;\n",
              "    }\n",
              "\n",
              "    [theme=dark] .colab-df-convert:hover {\n",
              "      background-color: #434B5C;\n",
              "      box-shadow: 0px 1px 3px 1px rgba(0, 0, 0, 0.15);\n",
              "      filter: drop-shadow(0px 1px 2px rgba(0, 0, 0, 0.3));\n",
              "      fill: #FFFFFF;\n",
              "    }\n",
              "  </style>\n",
              "\n",
              "      <script>\n",
              "        const buttonEl =\n",
              "          document.querySelector('#df-d3f6a8ba-4a64-48b1-a5be-9ee79bb422e4 button.colab-df-convert');\n",
              "        buttonEl.style.display =\n",
              "          google.colab.kernel.accessAllowed ? 'block' : 'none';\n",
              "\n",
              "        async function convertToInteractive(key) {\n",
              "          const element = document.querySelector('#df-d3f6a8ba-4a64-48b1-a5be-9ee79bb422e4');\n",
              "          const dataTable =\n",
              "            await google.colab.kernel.invokeFunction('convertToInteractive',\n",
              "                                                     [key], {});\n",
              "          if (!dataTable) return;\n",
              "\n",
              "          const docLinkHtml = 'Like what you see? Visit the ' +\n",
              "            '<a target=\"_blank\" href=https://colab.research.google.com/notebooks/data_table.ipynb>data table notebook</a>'\n",
              "            + ' to learn more about interactive tables.';\n",
              "          element.innerHTML = '';\n",
              "          dataTable['output_type'] = 'display_data';\n",
              "          await google.colab.output.renderOutput(dataTable, element);\n",
              "          const docLink = document.createElement('div');\n",
              "          docLink.innerHTML = docLinkHtml;\n",
              "          element.appendChild(docLink);\n",
              "        }\n",
              "      </script>\n",
              "    </div>\n",
              "  </div>\n",
              "  "
            ],
            "text/plain": [
              "       enrollee_id      city  ...  last_new_job training_hours\n",
              "0             8949  city_103  ...             1             36\n",
              "1            29725   city_40  ...            >4             47\n",
              "2            11561   city_21  ...         never             83\n",
              "3            33241  city_115  ...         never             52\n",
              "4              666  city_162  ...             4              8\n",
              "...            ...       ...  ...           ...            ...\n",
              "19153         7386  city_173  ...             1             42\n",
              "19154        31398  city_103  ...             4             52\n",
              "19155        24576  city_103  ...             4             44\n",
              "19156         5756   city_65  ...             2             97\n",
              "19157        23834   city_67  ...             1            127\n",
              "\n",
              "[19158 rows x 13 columns]"
            ]
          },
          "metadata": {},
          "execution_count": 216
        }
      ]
    },
    {
      "cell_type": "markdown",
      "source": [
        "**5. (0.5 балла)**\n",
        "\n",
        "Как изменились распределения признаков/статистика по количеству значений признаков после заполнения пропущенных данных?"
      ],
      "metadata": {
        "id": "es_afoJAqYkP"
      }
    },
    {
      "cell_type": "code",
      "source": [
        "from matplotlib import pyplot"
      ],
      "metadata": {
        "id": "QLboK4Nqqc-Z"
      },
      "execution_count": 217,
      "outputs": []
    },
    {
      "cell_type": "code",
      "source": [
        "pyplot.hist(X_hr_fill['gender'], alpha=0.5, label='After')\n",
        "pyplot.hist(X_hr_dropna['gender'], alpha=0.5, label='Before')\n",
        "pyplot.legend(loc='upper right')"
      ],
      "metadata": {
        "colab": {
          "base_uri": "https://localhost:8080/",
          "height": 282
        },
        "id": "It2gL4xZC7E0",
        "outputId": "065c9be9-0a47-4926-e509-1d77d4936c96"
      },
      "execution_count": 218,
      "outputs": [
        {
          "output_type": "execute_result",
          "data": {
            "text/plain": [
              "<matplotlib.legend.Legend at 0x7f68a4846fd0>"
            ]
          },
          "metadata": {},
          "execution_count": 218
        },
        {
          "output_type": "display_data",
          "data": {
            "image/png": "[encoded data removed]",
            "text/plain": [
              "<Figure size 432x288 with 1 Axes>"
            ]
          },
          "metadata": {
            "needs_background": "light"
          }
        }
      ]
    },
    {
      "cell_type": "code",
      "source": [
        "pyplot.hist(X_hr_fill['enrolled_university'], alpha=0.5, label='After')\n",
        "pyplot.hist(X_hr_dropna['enrolled_university'], alpha=0.5, label='Before')\n",
        "pyplot.legend(loc='upper right')"
      ],
      "metadata": {
        "colab": {
          "base_uri": "https://localhost:8080/",
          "height": 283
        },
        "id": "reiCdlpgFWui",
        "outputId": "9c33622d-95ba-4f0f-cead-580d84a1f965"
      },
      "execution_count": 219,
      "outputs": [
        {
          "output_type": "execute_result",
          "data": {
            "text/plain": [
              "<matplotlib.legend.Legend at 0x7f68a7b04c50>"
            ]
          },
          "metadata": {},
          "execution_count": 219
        },
        {
          "output_type": "display_data",
          "data": {
            "image/png": "[encoded data removed]",
            "text/plain": [
              "<Figure size 432x288 with 1 Axes>"
            ]
          },
          "metadata": {
            "needs_background": "light"
          }
        }
      ]
    },
    {
      "cell_type": "code",
      "source": [
        "pyplot.hist(X_hr_fill['education_level'], alpha=0.5, label='After')\n",
        "pyplot.hist(X_hr_dropna['education_level'], alpha=0.5, label='Before')\n",
        "pyplot.legend(loc='upper right')"
      ],
      "metadata": {
        "colab": {
          "base_uri": "https://localhost:8080/",
          "height": 282
        },
        "id": "kFJsPxmzFW4O",
        "outputId": "72078f1d-3564-424d-a57a-8920b8cb4f8f"
      },
      "execution_count": 220,
      "outputs": [
        {
          "output_type": "execute_result",
          "data": {
            "text/plain": [
              "<matplotlib.legend.Legend at 0x7f68a5dfce50>"
            ]
          },
          "metadata": {},
          "execution_count": 220
        },
        {
          "output_type": "display_data",
          "data": {
            "image/png": "[encoded data removed]",
            "text/plain": [
              "<Figure size 432x288 with 1 Axes>"
            ]
          },
          "metadata": {
            "needs_background": "light"
          }
        }
      ]
    },
    {
      "cell_type": "code",
      "source": [
        "pyplot.hist(X_hr_fill['major_discipline'], alpha=0.5, label='After')\n",
        "pyplot.hist(X_hr_dropna['major_discipline'], alpha=0.5, label='Before')\n",
        "pyplot.legend(loc='upper right')"
      ],
      "metadata": {
        "colab": {
          "base_uri": "https://localhost:8080/",
          "height": 282
        },
        "id": "Obr4Zi5-FXBw",
        "outputId": "894a1bc3-1ec8-42c7-8271-84de7d7c6f53"
      },
      "execution_count": 221,
      "outputs": [
        {
          "output_type": "execute_result",
          "data": {
            "text/plain": [
              "<matplotlib.legend.Legend at 0x7f68aa9d4210>"
            ]
          },
          "metadata": {},
          "execution_count": 221
        },
        {
          "output_type": "display_data",
          "data": {
            "image/png": "[encoded data removed]",
            "text/plain": [
              "<Figure size 432x288 with 1 Axes>"
            ]
          },
          "metadata": {
            "needs_background": "light"
          }
        }
      ]
    },
    {
      "cell_type": "code",
      "source": [
        "pyplot.hist(X_hr_fill['experience'], alpha=0.5, label='After')\n",
        "pyplot.hist(X_hr_dropna['experience'], alpha=0.5, label='Before')\n",
        "pyplot.legend(loc='upper right')"
      ],
      "metadata": {
        "colab": {
          "base_uri": "https://localhost:8080/",
          "height": 282
        },
        "id": "EyC4smdNFXLf",
        "outputId": "49478e59-9b37-4ef4-8d5a-86a59d48e966"
      },
      "execution_count": 222,
      "outputs": [
        {
          "output_type": "execute_result",
          "data": {
            "text/plain": [
              "<matplotlib.legend.Legend at 0x7f68ae763950>"
            ]
          },
          "metadata": {},
          "execution_count": 222
        },
        {
          "output_type": "display_data",
          "data": {
            "image/png": "[encoded data removed]",
            "text/plain": [
              "<Figure size 432x288 with 1 Axes>"
            ]
          },
          "metadata": {
            "needs_background": "light"
          }
        }
      ]
    },
    {
      "cell_type": "code",
      "source": [
        "pyplot.hist(X_hr_fill['company_size'], alpha=0.5, label='After')\n",
        "pyplot.hist(X_hr_dropna['company_size'], alpha=0.5, label='Before')\n",
        "pyplot.legend(loc='upper right')"
      ],
      "metadata": {
        "colab": {
          "base_uri": "https://localhost:8080/",
          "height": 282
        },
        "id": "tlNEfvXUFXVn",
        "outputId": "6e53ca2c-6ab6-4204-8c9a-032ad0c70781"
      },
      "execution_count": 223,
      "outputs": [
        {
          "output_type": "execute_result",
          "data": {
            "text/plain": [
              "<matplotlib.legend.Legend at 0x7f68a8859450>"
            ]
          },
          "metadata": {},
          "execution_count": 223
        },
        {
          "output_type": "display_data",
          "data": {
            "image/png": "[encoded data removed]",
            "text/plain": [
              "<Figure size 432x288 with 1 Axes>"
            ]
          },
          "metadata": {
            "needs_background": "light"
          }
        }
      ]
    },
    {
      "cell_type": "code",
      "source": [
        "pyplot.hist(X_hr_fill['company_type'], alpha=0.5, label='After')\n",
        "pyplot.hist(X_hr_dropna['company_type'], alpha=0.5, label='Before')\n",
        "pyplot.legend(loc='upper right')"
      ],
      "metadata": {
        "colab": {
          "base_uri": "https://localhost:8080/",
          "height": 282
        },
        "id": "h-_OQaceFXf3",
        "outputId": "01d77bab-6c55-44eb-c813-049efdcb1870"
      },
      "execution_count": 224,
      "outputs": [
        {
          "output_type": "execute_result",
          "data": {
            "text/plain": [
              "<matplotlib.legend.Legend at 0x7f68a20fdf90>"
            ]
          },
          "metadata": {},
          "execution_count": 224
        },
        {
          "output_type": "display_data",
          "data": {
            "image/png": "[encoded data removed]",
            "text/plain": [
              "<Figure size 432x288 with 1 Axes>"
            ]
          },
          "metadata": {
            "needs_background": "light"
          }
        }
      ]
    },
    {
      "cell_type": "code",
      "source": [
        "pyplot.hist(X_hr_fill['last_new_job'], alpha=0.5, label='After')\n",
        "pyplot.hist(X_hr_dropna['last_new_job'], alpha=0.5, label='Before')\n",
        "pyplot.legend(loc='upper right')"
      ],
      "metadata": {
        "colab": {
          "base_uri": "https://localhost:8080/",
          "height": 282
        },
        "id": "wM4lGbSDFXxD",
        "outputId": "eafc3793-74ca-46b8-ae4b-69c6152af7ba"
      },
      "execution_count": 225,
      "outputs": [
        {
          "output_type": "execute_result",
          "data": {
            "text/plain": [
              "<matplotlib.legend.Legend at 0x7f68a2089c10>"
            ]
          },
          "metadata": {},
          "execution_count": 225
        },
        {
          "output_type": "display_data",
          "data": {
            "image/png": "[encoded data removed]",
            "text/plain": [
              "<Figure size 432x288 with 1 Axes>"
            ]
          },
          "metadata": {
            "needs_background": "light"
          }
        }
      ]
    },
    {
      "cell_type": "markdown",
      "source": [
        "**Задание 3 (1 балл)**\n",
        "\n",
        "Выполните задание для датасета covid.\n",
        "\n",
        "Найдите страну, для которой в датасете присутствует 46 дат со статистикой по вакцинации.\n",
        "\n",
        "Постройте для этой страны график зависимости _totalvaccinations от date.\n",
        "Заполните пропущенные данные о _totalvaccinations для этой страны. Объясните свой выбор."
      ],
      "metadata": {
        "id": "AQCnGHSgqeu8"
      }
    },
    {
      "cell_type": "code",
      "source": [
        "X_covid.groupby('country').count()\n",
        "# Bahrain"
      ],
      "metadata": {
        "colab": {
          "base_uri": "https://localhost:8080/",
          "height": 588
        },
        "id": "yOh_2nhIqk7y",
        "outputId": "2aa6bc9a-7ab5-4ca2-9e65-94ff95939fed"
      },
      "execution_count": 226,
      "outputs": [
        {
          "output_type": "execute_result",
          "data": {
            "text/html": [
              "\n",
              "  <div id=\"df-bab75da8-557c-4634-8295-fbeac3898e57\">\n",
              "    <div class=\"colab-df-container\">\n",
              "      <div>\n",
              "<style scoped>\n",
              "    .dataframe tbody tr th:only-of-type {\n",
              "        vertical-align: middle;\n",
              "    }\n",
              "\n",
              "    .dataframe tbody tr th {\n",
              "        vertical-align: top;\n",
              "    }\n",
              "\n",
              "    .dataframe thead th {\n",
              "        text-align: right;\n",
              "    }\n",
              "</style>\n",
              "<table border=\"1\" class=\"dataframe\">\n",
              "  <thead>\n",
              "    <tr style=\"text-align: right;\">\n",
              "      <th></th>\n",
              "      <th>iso_code</th>\n",
              "      <th>date</th>\n",
              "      <th>total_vaccinations</th>\n",
              "      <th>people_vaccinated</th>\n",
              "      <th>people_fully_vaccinated</th>\n",
              "      <th>daily_vaccinations_raw</th>\n",
              "      <th>daily_vaccinations</th>\n",
              "      <th>total_vaccinations_per_hundred</th>\n",
              "      <th>people_vaccinated_per_hundred</th>\n",
              "      <th>people_fully_vaccinated_per_hundred</th>\n",
              "      <th>daily_vaccinations_per_million</th>\n",
              "      <th>vaccines</th>\n",
              "      <th>source_name</th>\n",
              "      <th>source_website</th>\n",
              "    </tr>\n",
              "    <tr>\n",
              "      <th>country</th>\n",
              "      <th></th>\n",
              "      <th></th>\n",
              "      <th></th>\n",
              "      <th></th>\n",
              "      <th></th>\n",
              "      <th></th>\n",
              "      <th></th>\n",
              "      <th></th>\n",
              "      <th></th>\n",
              "      <th></th>\n",
              "      <th></th>\n",
              "      <th></th>\n",
              "      <th></th>\n",
              "      <th></th>\n",
              "    </tr>\n",
              "  </thead>\n",
              "  <tbody>\n",
              "    <tr>\n",
              "      <th>Algeria</th>\n",
              "      <td>2</td>\n",
              "      <td>2</td>\n",
              "      <td>2</td>\n",
              "      <td>0</td>\n",
              "      <td>0</td>\n",
              "      <td>1</td>\n",
              "      <td>1</td>\n",
              "      <td>2</td>\n",
              "      <td>0</td>\n",
              "      <td>0</td>\n",
              "      <td>1</td>\n",
              "      <td>2</td>\n",
              "      <td>2</td>\n",
              "      <td>2</td>\n",
              "    </tr>\n",
              "    <tr>\n",
              "      <th>Andorra</th>\n",
              "      <td>8</td>\n",
              "      <td>8</td>\n",
              "      <td>2</td>\n",
              "      <td>2</td>\n",
              "      <td>0</td>\n",
              "      <td>0</td>\n",
              "      <td>7</td>\n",
              "      <td>2</td>\n",
              "      <td>2</td>\n",
              "      <td>0</td>\n",
              "      <td>7</td>\n",
              "      <td>8</td>\n",
              "      <td>8</td>\n",
              "      <td>8</td>\n",
              "    </tr>\n",
              "    <tr>\n",
              "      <th>Argentina</th>\n",
              "      <td>40</td>\n",
              "      <td>40</td>\n",
              "      <td>21</td>\n",
              "      <td>15</td>\n",
              "      <td>15</td>\n",
              "      <td>11</td>\n",
              "      <td>39</td>\n",
              "      <td>21</td>\n",
              "      <td>15</td>\n",
              "      <td>15</td>\n",
              "      <td>39</td>\n",
              "      <td>40</td>\n",
              "      <td>40</td>\n",
              "      <td>40</td>\n",
              "    </tr>\n",
              "    <tr>\n",
              "      <th>Austria</th>\n",
              "      <td>28</td>\n",
              "      <td>28</td>\n",
              "      <td>28</td>\n",
              "      <td>28</td>\n",
              "      <td>20</td>\n",
              "      <td>27</td>\n",
              "      <td>27</td>\n",
              "      <td>28</td>\n",
              "      <td>28</td>\n",
              "      <td>20</td>\n",
              "      <td>27</td>\n",
              "      <td>28</td>\n",
              "      <td>28</td>\n",
              "      <td>28</td>\n",
              "    </tr>\n",
              "    <tr>\n",
              "      <th>Bahrain</th>\n",
              "      <td>46</td>\n",
              "      <td>46</td>\n",
              "      <td>41</td>\n",
              "      <td>41</td>\n",
              "      <td>0</td>\n",
              "      <td>39</td>\n",
              "      <td>45</td>\n",
              "      <td>41</td>\n",
              "      <td>41</td>\n",
              "      <td>0</td>\n",
              "      <td>45</td>\n",
              "      <td>46</td>\n",
              "      <td>46</td>\n",
              "      <td>46</td>\n",
              "    </tr>\n",
              "    <tr>\n",
              "      <th>...</th>\n",
              "      <td>...</td>\n",
              "      <td>...</td>\n",
              "      <td>...</td>\n",
              "      <td>...</td>\n",
              "      <td>...</td>\n",
              "      <td>...</td>\n",
              "      <td>...</td>\n",
              "      <td>...</td>\n",
              "      <td>...</td>\n",
              "      <td>...</td>\n",
              "      <td>...</td>\n",
              "      <td>...</td>\n",
              "      <td>...</td>\n",
              "      <td>...</td>\n",
              "    </tr>\n",
              "    <tr>\n",
              "      <th>Turkey</th>\n",
              "      <td>25</td>\n",
              "      <td>25</td>\n",
              "      <td>25</td>\n",
              "      <td>0</td>\n",
              "      <td>0</td>\n",
              "      <td>24</td>\n",
              "      <td>24</td>\n",
              "      <td>25</td>\n",
              "      <td>0</td>\n",
              "      <td>0</td>\n",
              "      <td>24</td>\n",
              "      <td>25</td>\n",
              "      <td>25</td>\n",
              "      <td>25</td>\n",
              "    </tr>\n",
              "    <tr>\n",
              "      <th>United Arab Emirates</th>\n",
              "      <td>33</td>\n",
              "      <td>33</td>\n",
              "      <td>30</td>\n",
              "      <td>26</td>\n",
              "      <td>26</td>\n",
              "      <td>26</td>\n",
              "      <td>32</td>\n",
              "      <td>30</td>\n",
              "      <td>26</td>\n",
              "      <td>26</td>\n",
              "      <td>32</td>\n",
              "      <td>33</td>\n",
              "      <td>33</td>\n",
              "      <td>33</td>\n",
              "    </tr>\n",
              "    <tr>\n",
              "      <th>United Kingdom</th>\n",
              "      <td>55</td>\n",
              "      <td>55</td>\n",
              "      <td>31</td>\n",
              "      <td>31</td>\n",
              "      <td>28</td>\n",
              "      <td>26</td>\n",
              "      <td>54</td>\n",
              "      <td>31</td>\n",
              "      <td>31</td>\n",
              "      <td>28</td>\n",
              "      <td>54</td>\n",
              "      <td>55</td>\n",
              "      <td>55</td>\n",
              "      <td>55</td>\n",
              "    </tr>\n",
              "    <tr>\n",
              "      <th>United States</th>\n",
              "      <td>49</td>\n",
              "      <td>49</td>\n",
              "      <td>36</td>\n",
              "      <td>35</td>\n",
              "      <td>21</td>\n",
              "      <td>27</td>\n",
              "      <td>48</td>\n",
              "      <td>36</td>\n",
              "      <td>35</td>\n",
              "      <td>21</td>\n",
              "      <td>48</td>\n",
              "      <td>49</td>\n",
              "      <td>49</td>\n",
              "      <td>49</td>\n",
              "    </tr>\n",
              "    <tr>\n",
              "      <th>Wales</th>\n",
              "      <td>0</td>\n",
              "      <td>55</td>\n",
              "      <td>29</td>\n",
              "      <td>29</td>\n",
              "      <td>26</td>\n",
              "      <td>23</td>\n",
              "      <td>54</td>\n",
              "      <td>29</td>\n",
              "      <td>29</td>\n",
              "      <td>26</td>\n",
              "      <td>54</td>\n",
              "      <td>55</td>\n",
              "      <td>55</td>\n",
              "      <td>55</td>\n",
              "    </tr>\n",
              "  </tbody>\n",
              "</table>\n",
              "<p>80 rows × 14 columns</p>\n",
              "</div>\n",
              "      <button class=\"colab-df-convert\" onclick=\"convertToInteractive('df-bab75da8-557c-4634-8295-fbeac3898e57')\"\n",
              "              title=\"Convert this dataframe to an interactive table.\"\n",
              "              style=\"display:none;\">\n",
              "        \n",
              "  <svg xmlns=\"http://www.w3.org/2000/svg\" height=\"24px\"viewBox=\"0 0 24 24\"\n",
              "       width=\"24px\">\n",
              "    <path d=\"M0 0h24v24H0V0z\" fill=\"none\"/>\n",
              "    <path d=\"M18.56 5.44l.94 2.06.94-2.06 2.06-.94-2.06-.94-.94-2.06-.94 2.06-2.06.94zm-11 1L8.5 8.5l.94-2.06 2.06-.94-2.06-.94L8.5 2.5l-.94 2.06-2.06.94zm10 10l.94 2.06.94-2.06 2.06-.94-2.06-.94-.94-2.06-.94 2.06-2.06.94z\"/><path d=\"M17.41 7.96l-1.37-1.37c-.4-.4-.92-.59-1.43-.59-.52 0-1.04.2-1.43.59L10.3 9.45l-7.72 7.72c-.78.78-.78 2.05 0 2.83L4 21.41c.39.39.9.59 1.41.59.51 0 1.02-.2 1.41-.59l7.78-7.78 2.81-2.81c.8-.78.8-2.07 0-2.86zM5.41 20L4 18.59l7.72-7.72 1.47 1.35L5.41 20z\"/>\n",
              "  </svg>\n",
              "      </button>\n",
              "      \n",
              "  <style>\n",
              "    .colab-df-container {\n",
              "      display:flex;\n",
              "      flex-wrap:wrap;\n",
              "      gap: 12px;\n",
              "    }\n",
              "\n",
              "    .colab-df-convert {\n",
              "      background-color: #E8F0FE;\n",
              "      border: none;\n",
              "      border-radius: 50%;\n",
              "      cursor: pointer;\n",
              "      display: none;\n",
              "      fill: #1967D2;\n",
              "      height: 32px;\n",
              "      padding: 0 0 0 0;\n",
              "      width: 32px;\n",
              "    }\n",
              "\n",
              "    .colab-df-convert:hover {\n",
              "      background-color: #E2EBFA;\n",
              "      box-shadow: 0px 1px 2px rgba(60, 64, 67, 0.3), 0px 1px 3px 1px rgba(60, 64, 67, 0.15);\n",
              "      fill: #174EA6;\n",
              "    }\n",
              "\n",
              "    [theme=dark] .colab-df-convert {\n",
              "      background-color: #3B4455;\n",
              "      fill: #D2E3FC;\n",
              "    }\n",
              "\n",
              "    [theme=dark] .colab-df-convert:hover {\n",
              "      background-color: #434B5C;\n",
              "      box-shadow: 0px 1px 3px 1px rgba(0, 0, 0, 0.15);\n",
              "      filter: drop-shadow(0px 1px 2px rgba(0, 0, 0, 0.3));\n",
              "      fill: #FFFFFF;\n",
              "    }\n",
              "  </style>\n",
              "\n",
              "      <script>\n",
              "        const buttonEl =\n",
              "          document.querySelector('#df-bab75da8-557c-4634-8295-fbeac3898e57 button.colab-df-convert');\n",
              "        buttonEl.style.display =\n",
              "          google.colab.kernel.accessAllowed ? 'block' : 'none';\n",
              "\n",
              "        async function convertToInteractive(key) {\n",
              "          const element = document.querySelector('#df-bab75da8-557c-4634-8295-fbeac3898e57');\n",
              "          const dataTable =\n",
              "            await google.colab.kernel.invokeFunction('convertToInteractive',\n",
              "                                                     [key], {});\n",
              "          if (!dataTable) return;\n",
              "\n",
              "          const docLinkHtml = 'Like what you see? Visit the ' +\n",
              "            '<a target=\"_blank\" href=https://colab.research.google.com/notebooks/data_table.ipynb>data table notebook</a>'\n",
              "            + ' to learn more about interactive tables.';\n",
              "          element.innerHTML = '';\n",
              "          dataTable['output_type'] = 'display_data';\n",
              "          await google.colab.output.renderOutput(dataTable, element);\n",
              "          const docLink = document.createElement('div');\n",
              "          docLink.innerHTML = docLinkHtml;\n",
              "          element.appendChild(docLink);\n",
              "        }\n",
              "      </script>\n",
              "    </div>\n",
              "  </div>\n",
              "  "
            ],
            "text/plain": [
              "                      iso_code  date  ...  source_name  source_website\n",
              "country                               ...                             \n",
              "Algeria                      2     2  ...            2               2\n",
              "Andorra                      8     8  ...            8               8\n",
              "Argentina                   40    40  ...           40              40\n",
              "Austria                     28    28  ...           28              28\n",
              "Bahrain                     46    46  ...           46              46\n",
              "...                        ...   ...  ...          ...             ...\n",
              "Turkey                      25    25  ...           25              25\n",
              "United Arab Emirates        33    33  ...           33              33\n",
              "United Kingdom              55    55  ...           55              55\n",
              "United States               49    49  ...           49              49\n",
              "Wales                        0    55  ...           55              55\n",
              "\n",
              "[80 rows x 14 columns]"
            ]
          },
          "metadata": {},
          "execution_count": 226
        }
      ]
    },
    {
      "cell_type": "code",
      "source": [
        "X_Bah = X_covid[X_covid['country'] == 'Bahrain']\n",
        "X_date = X_Bah.iloc[:, 2:4]\n",
        "X_date"
      ],
      "metadata": {
        "colab": {
          "base_uri": "https://localhost:8080/",
          "height": 1000
        },
        "id": "rk3xUTMLmSc_",
        "outputId": "05a3250e-5179-421e-ed2f-21030b05e21d"
      },
      "execution_count": 227,
      "outputs": [
        {
          "output_type": "execute_result",
          "data": {
            "text/html": [
              "\n",
              "  <div id=\"df-22ef10f3-5425-475f-ad9a-9f22ef60674e\">\n",
              "    <div class=\"colab-df-container\">\n",
              "      <div>\n",
              "<style scoped>\n",
              "    .dataframe tbody tr th:only-of-type {\n",
              "        vertical-align: middle;\n",
              "    }\n",
              "\n",
              "    .dataframe tbody tr th {\n",
              "        vertical-align: top;\n",
              "    }\n",
              "\n",
              "    .dataframe thead th {\n",
              "        text-align: right;\n",
              "    }\n",
              "</style>\n",
              "<table border=\"1\" class=\"dataframe\">\n",
              "  <thead>\n",
              "    <tr style=\"text-align: right;\">\n",
              "      <th></th>\n",
              "      <th>date</th>\n",
              "      <th>total_vaccinations</th>\n",
              "    </tr>\n",
              "  </thead>\n",
              "  <tbody>\n",
              "    <tr>\n",
              "      <th>78</th>\n",
              "      <td>2020-12-23</td>\n",
              "      <td>38965.0</td>\n",
              "    </tr>\n",
              "    <tr>\n",
              "      <th>79</th>\n",
              "      <td>2020-12-24</td>\n",
              "      <td>50071.0</td>\n",
              "    </tr>\n",
              "    <tr>\n",
              "      <th>80</th>\n",
              "      <td>2020-12-25</td>\n",
              "      <td>50543.0</td>\n",
              "    </tr>\n",
              "    <tr>\n",
              "      <th>81</th>\n",
              "      <td>2020-12-26</td>\n",
              "      <td>51556.0</td>\n",
              "    </tr>\n",
              "    <tr>\n",
              "      <th>82</th>\n",
              "      <td>2020-12-27</td>\n",
              "      <td>53614.0</td>\n",
              "    </tr>\n",
              "    <tr>\n",
              "      <th>83</th>\n",
              "      <td>2020-12-28</td>\n",
              "      <td>55014.0</td>\n",
              "    </tr>\n",
              "    <tr>\n",
              "      <th>84</th>\n",
              "      <td>2020-12-29</td>\n",
              "      <td>56041.0</td>\n",
              "    </tr>\n",
              "    <tr>\n",
              "      <th>85</th>\n",
              "      <td>2020-12-30</td>\n",
              "      <td>57317.0</td>\n",
              "    </tr>\n",
              "    <tr>\n",
              "      <th>86</th>\n",
              "      <td>2020-12-31</td>\n",
              "      <td>58643.0</td>\n",
              "    </tr>\n",
              "    <tr>\n",
              "      <th>87</th>\n",
              "      <td>2021-01-01</td>\n",
              "      <td>59351.0</td>\n",
              "    </tr>\n",
              "    <tr>\n",
              "      <th>88</th>\n",
              "      <td>2021-01-02</td>\n",
              "      <td>60097.0</td>\n",
              "    </tr>\n",
              "    <tr>\n",
              "      <th>89</th>\n",
              "      <td>2021-01-03</td>\n",
              "      <td>60689.0</td>\n",
              "    </tr>\n",
              "    <tr>\n",
              "      <th>90</th>\n",
              "      <td>2021-01-04</td>\n",
              "      <td>61612.0</td>\n",
              "    </tr>\n",
              "    <tr>\n",
              "      <th>91</th>\n",
              "      <td>2021-01-05</td>\n",
              "      <td>63893.0</td>\n",
              "    </tr>\n",
              "    <tr>\n",
              "      <th>92</th>\n",
              "      <td>2021-01-06</td>\n",
              "      <td>68472.0</td>\n",
              "    </tr>\n",
              "    <tr>\n",
              "      <th>93</th>\n",
              "      <td>2021-01-07</td>\n",
              "      <td>72239.0</td>\n",
              "    </tr>\n",
              "    <tr>\n",
              "      <th>94</th>\n",
              "      <td>2021-01-08</td>\n",
              "      <td>78291.0</td>\n",
              "    </tr>\n",
              "    <tr>\n",
              "      <th>95</th>\n",
              "      <td>2021-01-09</td>\n",
              "      <td>84157.0</td>\n",
              "    </tr>\n",
              "    <tr>\n",
              "      <th>96</th>\n",
              "      <td>2021-01-10</td>\n",
              "      <td>89250.0</td>\n",
              "    </tr>\n",
              "    <tr>\n",
              "      <th>97</th>\n",
              "      <td>2021-01-11</td>\n",
              "      <td>92598.0</td>\n",
              "    </tr>\n",
              "    <tr>\n",
              "      <th>98</th>\n",
              "      <td>2021-01-12</td>\n",
              "      <td>97776.0</td>\n",
              "    </tr>\n",
              "    <tr>\n",
              "      <th>99</th>\n",
              "      <td>2021-01-13</td>\n",
              "      <td>101363.0</td>\n",
              "    </tr>\n",
              "    <tr>\n",
              "      <th>100</th>\n",
              "      <td>2021-01-14</td>\n",
              "      <td>109566.0</td>\n",
              "    </tr>\n",
              "    <tr>\n",
              "      <th>101</th>\n",
              "      <td>2021-01-15</td>\n",
              "      <td>122819.0</td>\n",
              "    </tr>\n",
              "    <tr>\n",
              "      <th>102</th>\n",
              "      <td>2021-01-16</td>\n",
              "      <td>137159.0</td>\n",
              "    </tr>\n",
              "    <tr>\n",
              "      <th>103</th>\n",
              "      <td>2021-01-17</td>\n",
              "      <td>141563.0</td>\n",
              "    </tr>\n",
              "    <tr>\n",
              "      <th>104</th>\n",
              "      <td>2021-01-18</td>\n",
              "      <td>142831.0</td>\n",
              "    </tr>\n",
              "    <tr>\n",
              "      <th>105</th>\n",
              "      <td>2021-01-19</td>\n",
              "      <td>143596.0</td>\n",
              "    </tr>\n",
              "    <tr>\n",
              "      <th>106</th>\n",
              "      <td>2021-01-20</td>\n",
              "      <td>144130.0</td>\n",
              "    </tr>\n",
              "    <tr>\n",
              "      <th>107</th>\n",
              "      <td>2021-01-21</td>\n",
              "      <td>NaN</td>\n",
              "    </tr>\n",
              "    <tr>\n",
              "      <th>108</th>\n",
              "      <td>2021-01-22</td>\n",
              "      <td>NaN</td>\n",
              "    </tr>\n",
              "    <tr>\n",
              "      <th>109</th>\n",
              "      <td>2021-01-23</td>\n",
              "      <td>NaN</td>\n",
              "    </tr>\n",
              "    <tr>\n",
              "      <th>110</th>\n",
              "      <td>2021-01-24</td>\n",
              "      <td>NaN</td>\n",
              "    </tr>\n",
              "    <tr>\n",
              "      <th>111</th>\n",
              "      <td>2021-01-25</td>\n",
              "      <td>NaN</td>\n",
              "    </tr>\n",
              "    <tr>\n",
              "      <th>112</th>\n",
              "      <td>2021-01-26</td>\n",
              "      <td>165953.0</td>\n",
              "    </tr>\n",
              "    <tr>\n",
              "      <th>113</th>\n",
              "      <td>2021-01-27</td>\n",
              "      <td>167731.0</td>\n",
              "    </tr>\n",
              "    <tr>\n",
              "      <th>114</th>\n",
              "      <td>2021-01-28</td>\n",
              "      <td>169440.0</td>\n",
              "    </tr>\n",
              "    <tr>\n",
              "      <th>115</th>\n",
              "      <td>2021-01-29</td>\n",
              "      <td>169810.0</td>\n",
              "    </tr>\n",
              "    <tr>\n",
              "      <th>116</th>\n",
              "      <td>2021-01-30</td>\n",
              "      <td>170433.0</td>\n",
              "    </tr>\n",
              "    <tr>\n",
              "      <th>117</th>\n",
              "      <td>2021-01-31</td>\n",
              "      <td>171568.0</td>\n",
              "    </tr>\n",
              "    <tr>\n",
              "      <th>118</th>\n",
              "      <td>2021-02-01</td>\n",
              "      <td>172912.0</td>\n",
              "    </tr>\n",
              "    <tr>\n",
              "      <th>119</th>\n",
              "      <td>2021-02-02</td>\n",
              "      <td>174075.0</td>\n",
              "    </tr>\n",
              "    <tr>\n",
              "      <th>120</th>\n",
              "      <td>2021-02-03</td>\n",
              "      <td>175094.0</td>\n",
              "    </tr>\n",
              "    <tr>\n",
              "      <th>121</th>\n",
              "      <td>2021-02-04</td>\n",
              "      <td>177233.0</td>\n",
              "    </tr>\n",
              "    <tr>\n",
              "      <th>122</th>\n",
              "      <td>2021-02-05</td>\n",
              "      <td>179550.0</td>\n",
              "    </tr>\n",
              "    <tr>\n",
              "      <th>123</th>\n",
              "      <td>2021-02-06</td>\n",
              "      <td>182543.0</td>\n",
              "    </tr>\n",
              "  </tbody>\n",
              "</table>\n",
              "</div>\n",
              "      <button class=\"colab-df-convert\" onclick=\"convertToInteractive('df-22ef10f3-5425-475f-ad9a-9f22ef60674e')\"\n",
              "              title=\"Convert this dataframe to an interactive table.\"\n",
              "              style=\"display:none;\">\n",
              "        \n",
              "  <svg xmlns=\"http://www.w3.org/2000/svg\" height=\"24px\"viewBox=\"0 0 24 24\"\n",
              "       width=\"24px\">\n",
              "    <path d=\"M0 0h24v24H0V0z\" fill=\"none\"/>\n",
              "    <path d=\"M18.56 5.44l.94 2.06.94-2.06 2.06-.94-2.06-.94-.94-2.06-.94 2.06-2.06.94zm-11 1L8.5 8.5l.94-2.06 2.06-.94-2.06-.94L8.5 2.5l-.94 2.06-2.06.94zm10 10l.94 2.06.94-2.06 2.06-.94-2.06-.94-.94-2.06-.94 2.06-2.06.94z\"/><path d=\"M17.41 7.96l-1.37-1.37c-.4-.4-.92-.59-1.43-.59-.52 0-1.04.2-1.43.59L10.3 9.45l-7.72 7.72c-.78.78-.78 2.05 0 2.83L4 21.41c.39.39.9.59 1.41.59.51 0 1.02-.2 1.41-.59l7.78-7.78 2.81-2.81c.8-.78.8-2.07 0-2.86zM5.41 20L4 18.59l7.72-7.72 1.47 1.35L5.41 20z\"/>\n",
              "  </svg>\n",
              "      </button>\n",
              "      \n",
              "  <style>\n",
              "    .colab-df-container {\n",
              "      display:flex;\n",
              "      flex-wrap:wrap;\n",
              "      gap: 12px;\n",
              "    }\n",
              "\n",
              "    .colab-df-convert {\n",
              "      background-color: #E8F0FE;\n",
              "      border: none;\n",
              "      border-radius: 50%;\n",
              "      cursor: pointer;\n",
              "      display: none;\n",
              "      fill: #1967D2;\n",
              "      height: 32px;\n",
              "      padding: 0 0 0 0;\n",
              "      width: 32px;\n",
              "    }\n",
              "\n",
              "    .colab-df-convert:hover {\n",
              "      background-color: #E2EBFA;\n",
              "      box-shadow: 0px 1px 2px rgba(60, 64, 67, 0.3), 0px 1px 3px 1px rgba(60, 64, 67, 0.15);\n",
              "      fill: #174EA6;\n",
              "    }\n",
              "\n",
              "    [theme=dark] .colab-df-convert {\n",
              "      background-color: #3B4455;\n",
              "      fill: #D2E3FC;\n",
              "    }\n",
              "\n",
              "    [theme=dark] .colab-df-convert:hover {\n",
              "      background-color: #434B5C;\n",
              "      box-shadow: 0px 1px 3px 1px rgba(0, 0, 0, 0.15);\n",
              "      filter: drop-shadow(0px 1px 2px rgba(0, 0, 0, 0.3));\n",
              "      fill: #FFFFFF;\n",
              "    }\n",
              "  </style>\n",
              "\n",
              "      <script>\n",
              "        const buttonEl =\n",
              "          document.querySelector('#df-22ef10f3-5425-475f-ad9a-9f22ef60674e button.colab-df-convert');\n",
              "        buttonEl.style.display =\n",
              "          google.colab.kernel.accessAllowed ? 'block' : 'none';\n",
              "\n",
              "        async function convertToInteractive(key) {\n",
              "          const element = document.querySelector('#df-22ef10f3-5425-475f-ad9a-9f22ef60674e');\n",
              "          const dataTable =\n",
              "            await google.colab.kernel.invokeFunction('convertToInteractive',\n",
              "                                                     [key], {});\n",
              "          if (!dataTable) return;\n",
              "\n",
              "          const docLinkHtml = 'Like what you see? Visit the ' +\n",
              "            '<a target=\"_blank\" href=https://colab.research.google.com/notebooks/data_table.ipynb>data table notebook</a>'\n",
              "            + ' to learn more about interactive tables.';\n",
              "          element.innerHTML = '';\n",
              "          dataTable['output_type'] = 'display_data';\n",
              "          await google.colab.output.renderOutput(dataTable, element);\n",
              "          const docLink = document.createElement('div');\n",
              "          docLink.innerHTML = docLinkHtml;\n",
              "          element.appendChild(docLink);\n",
              "        }\n",
              "      </script>\n",
              "    </div>\n",
              "  </div>\n",
              "  "
            ],
            "text/plain": [
              "           date  total_vaccinations\n",
              "78   2020-12-23             38965.0\n",
              "79   2020-12-24             50071.0\n",
              "80   2020-12-25             50543.0\n",
              "81   2020-12-26             51556.0\n",
              "82   2020-12-27             53614.0\n",
              "83   2020-12-28             55014.0\n",
              "84   2020-12-29             56041.0\n",
              "85   2020-12-30             57317.0\n",
              "86   2020-12-31             58643.0\n",
              "87   2021-01-01             59351.0\n",
              "88   2021-01-02             60097.0\n",
              "89   2021-01-03             60689.0\n",
              "90   2021-01-04             61612.0\n",
              "91   2021-01-05             63893.0\n",
              "92   2021-01-06             68472.0\n",
              "93   2021-01-07             72239.0\n",
              "94   2021-01-08             78291.0\n",
              "95   2021-01-09             84157.0\n",
              "96   2021-01-10             89250.0\n",
              "97   2021-01-11             92598.0\n",
              "98   2021-01-12             97776.0\n",
              "99   2021-01-13            101363.0\n",
              "100  2021-01-14            109566.0\n",
              "101  2021-01-15            122819.0\n",
              "102  2021-01-16            137159.0\n",
              "103  2021-01-17            141563.0\n",
              "104  2021-01-18            142831.0\n",
              "105  2021-01-19            143596.0\n",
              "106  2021-01-20            144130.0\n",
              "107  2021-01-21                 NaN\n",
              "108  2021-01-22                 NaN\n",
              "109  2021-01-23                 NaN\n",
              "110  2021-01-24                 NaN\n",
              "111  2021-01-25                 NaN\n",
              "112  2021-01-26            165953.0\n",
              "113  2021-01-27            167731.0\n",
              "114  2021-01-28            169440.0\n",
              "115  2021-01-29            169810.0\n",
              "116  2021-01-30            170433.0\n",
              "117  2021-01-31            171568.0\n",
              "118  2021-02-01            172912.0\n",
              "119  2021-02-02            174075.0\n",
              "120  2021-02-03            175094.0\n",
              "121  2021-02-04            177233.0\n",
              "122  2021-02-05            179550.0\n",
              "123  2021-02-06            182543.0"
            ]
          },
          "metadata": {},
          "execution_count": 227
        }
      ]
    },
    {
      "cell_type": "code",
      "source": [
        "X_date.plot(x='date', y='total_vaccinations', rot=0, figsize=(14, 10), grid=True, marker='o')\n"
      ],
      "metadata": {
        "colab": {
          "base_uri": "https://localhost:8080/",
          "height": 623
        },
        "id": "8SZnIdmCpGsb",
        "outputId": "dd3e39bd-21ed-4c2f-ee0c-c8735a490963"
      },
      "execution_count": 228,
      "outputs": [
        {
          "output_type": "execute_result",
          "data": {
            "text/plain": [
              "<matplotlib.axes._subplots.AxesSubplot at 0x7f68a1fb6450>"
            ]
          },
          "metadata": {},
          "execution_count": 228
        },
        {
          "output_type": "display_data",
          "data": {
            "image/png": "[encoded data removed]",
            "text/plain": [
              "<Figure size 1008x720 with 1 Axes>"
            ]
          },
          "metadata": {
            "needs_background": "light"
          }
        }
      ]
    },
    {
      "cell_type": "markdown",
      "source": [
        "Как мы видим из графика и подтаблицы выше, пропуски только в одном периоде с 21 по 25 января 2021 года. Поскольку в небольших интервалах до и после пропущенного периода точки распределены равномерно по графику, то пропуски также заполним равномерно."
      ],
      "metadata": {
        "id": "46xytrHsrV5p"
      }
    },
    {
      "cell_type": "code",
      "source": [
        "m = np.linspace(144130.0, 165953.0, 7)\n",
        "m = m[1:6]\n",
        "m"
      ],
      "metadata": {
        "colab": {
          "base_uri": "https://localhost:8080/"
        },
        "id": "FPiPQiiFrzlT",
        "outputId": "7ed7b572-bd05-4687-9aa9-b34ed86291fa"
      },
      "execution_count": 229,
      "outputs": [
        {
          "output_type": "execute_result",
          "data": {
            "text/plain": [
              "array([147767.16666667, 151404.33333333, 155041.5       , 158678.66666667,\n",
              "       162315.83333333])"
            ]
          },
          "metadata": {},
          "execution_count": 229
        }
      ]
    },
    {
      "cell_type": "code",
      "source": [
        "X_copy = X_date.copy()\n",
        "for i in range(5):\n",
        "  X_copy['total_vaccinations'].loc[107 + i] = m[i]\n",
        "X_copy"
      ],
      "metadata": {
        "colab": {
          "base_uri": "https://localhost:8080/",
          "height": 1000
        },
        "id": "hzSzOMCls3hl",
        "outputId": "de87974c-826c-412b-d8d4-dea02f8e11d1"
      },
      "execution_count": 230,
      "outputs": [
        {
          "output_type": "stream",
          "name": "stderr",
          "text": [
            "/usr/local/lib/python3.7/dist-packages/pandas/core/indexing.py:1732: SettingWithCopyWarning: \n",
            "A value is trying to be set on a copy of a slice from a DataFrame\n",
            "\n",
            "See the caveats in the documentation: https://pandas.pydata.org/pandas-docs/stable/user_guide/indexing.html#returning-a-view-versus-a-copy\n",
            "  self._setitem_single_block(indexer, value, name)\n"
          ]
        },
        {
          "output_type": "execute_result",
          "data": {
            "text/html": [
              "\n",
              "  <div id=\"df-db71017a-abf9-4eb5-b484-ceb41a56f46c\">\n",
              "    <div class=\"colab-df-container\">\n",
              "      <div>\n",
              "<style scoped>\n",
              "    .dataframe tbody tr th:only-of-type {\n",
              "        vertical-align: middle;\n",
              "    }\n",
              "\n",
              "    .dataframe tbody tr th {\n",
              "        vertical-align: top;\n",
              "    }\n",
              "\n",
              "    .dataframe thead th {\n",
              "        text-align: right;\n",
              "    }\n",
              "</style>\n",
              "<table border=\"1\" class=\"dataframe\">\n",
              "  <thead>\n",
              "    <tr style=\"text-align: right;\">\n",
              "      <th></th>\n",
              "      <th>date</th>\n",
              "      <th>total_vaccinations</th>\n",
              "    </tr>\n",
              "  </thead>\n",
              "  <tbody>\n",
              "    <tr>\n",
              "      <th>78</th>\n",
              "      <td>2020-12-23</td>\n",
              "      <td>38965.000000</td>\n",
              "    </tr>\n",
              "    <tr>\n",
              "      <th>79</th>\n",
              "      <td>2020-12-24</td>\n",
              "      <td>50071.000000</td>\n",
              "    </tr>\n",
              "    <tr>\n",
              "      <th>80</th>\n",
              "      <td>2020-12-25</td>\n",
              "      <td>50543.000000</td>\n",
              "    </tr>\n",
              "    <tr>\n",
              "      <th>81</th>\n",
              "      <td>2020-12-26</td>\n",
              "      <td>51556.000000</td>\n",
              "    </tr>\n",
              "    <tr>\n",
              "      <th>82</th>\n",
              "      <td>2020-12-27</td>\n",
              "      <td>53614.000000</td>\n",
              "    </tr>\n",
              "    <tr>\n",
              "      <th>83</th>\n",
              "      <td>2020-12-28</td>\n",
              "      <td>55014.000000</td>\n",
              "    </tr>\n",
              "    <tr>\n",
              "      <th>84</th>\n",
              "      <td>2020-12-29</td>\n",
              "      <td>56041.000000</td>\n",
              "    </tr>\n",
              "    <tr>\n",
              "      <th>85</th>\n",
              "      <td>2020-12-30</td>\n",
              "      <td>57317.000000</td>\n",
              "    </tr>\n",
              "    <tr>\n",
              "      <th>86</th>\n",
              "      <td>2020-12-31</td>\n",
              "      <td>58643.000000</td>\n",
              "    </tr>\n",
              "    <tr>\n",
              "      <th>87</th>\n",
              "      <td>2021-01-01</td>\n",
              "      <td>59351.000000</td>\n",
              "    </tr>\n",
              "    <tr>\n",
              "      <th>88</th>\n",
              "      <td>2021-01-02</td>\n",
              "      <td>60097.000000</td>\n",
              "    </tr>\n",
              "    <tr>\n",
              "      <th>89</th>\n",
              "      <td>2021-01-03</td>\n",
              "      <td>60689.000000</td>\n",
              "    </tr>\n",
              "    <tr>\n",
              "      <th>90</th>\n",
              "      <td>2021-01-04</td>\n",
              "      <td>61612.000000</td>\n",
              "    </tr>\n",
              "    <tr>\n",
              "      <th>91</th>\n",
              "      <td>2021-01-05</td>\n",
              "      <td>63893.000000</td>\n",
              "    </tr>\n",
              "    <tr>\n",
              "      <th>92</th>\n",
              "      <td>2021-01-06</td>\n",
              "      <td>68472.000000</td>\n",
              "    </tr>\n",
              "    <tr>\n",
              "      <th>93</th>\n",
              "      <td>2021-01-07</td>\n",
              "      <td>72239.000000</td>\n",
              "    </tr>\n",
              "    <tr>\n",
              "      <th>94</th>\n",
              "      <td>2021-01-08</td>\n",
              "      <td>78291.000000</td>\n",
              "    </tr>\n",
              "    <tr>\n",
              "      <th>95</th>\n",
              "      <td>2021-01-09</td>\n",
              "      <td>84157.000000</td>\n",
              "    </tr>\n",
              "    <tr>\n",
              "      <th>96</th>\n",
              "      <td>2021-01-10</td>\n",
              "      <td>89250.000000</td>\n",
              "    </tr>\n",
              "    <tr>\n",
              "      <th>97</th>\n",
              "      <td>2021-01-11</td>\n",
              "      <td>92598.000000</td>\n",
              "    </tr>\n",
              "    <tr>\n",
              "      <th>98</th>\n",
              "      <td>2021-01-12</td>\n",
              "      <td>97776.000000</td>\n",
              "    </tr>\n",
              "    <tr>\n",
              "      <th>99</th>\n",
              "      <td>2021-01-13</td>\n",
              "      <td>101363.000000</td>\n",
              "    </tr>\n",
              "    <tr>\n",
              "      <th>100</th>\n",
              "      <td>2021-01-14</td>\n",
              "      <td>109566.000000</td>\n",
              "    </tr>\n",
              "    <tr>\n",
              "      <th>101</th>\n",
              "      <td>2021-01-15</td>\n",
              "      <td>122819.000000</td>\n",
              "    </tr>\n",
              "    <tr>\n",
              "      <th>102</th>\n",
              "      <td>2021-01-16</td>\n",
              "      <td>137159.000000</td>\n",
              "    </tr>\n",
              "    <tr>\n",
              "      <th>103</th>\n",
              "      <td>2021-01-17</td>\n",
              "      <td>141563.000000</td>\n",
              "    </tr>\n",
              "    <tr>\n",
              "      <th>104</th>\n",
              "      <td>2021-01-18</td>\n",
              "      <td>142831.000000</td>\n",
              "    </tr>\n",
              "    <tr>\n",
              "      <th>105</th>\n",
              "      <td>2021-01-19</td>\n",
              "      <td>143596.000000</td>\n",
              "    </tr>\n",
              "    <tr>\n",
              "      <th>106</th>\n",
              "      <td>2021-01-20</td>\n",
              "      <td>144130.000000</td>\n",
              "    </tr>\n",
              "    <tr>\n",
              "      <th>107</th>\n",
              "      <td>2021-01-21</td>\n",
              "      <td>147767.166667</td>\n",
              "    </tr>\n",
              "    <tr>\n",
              "      <th>108</th>\n",
              "      <td>2021-01-22</td>\n",
              "      <td>151404.333333</td>\n",
              "    </tr>\n",
              "    <tr>\n",
              "      <th>109</th>\n",
              "      <td>2021-01-23</td>\n",
              "      <td>155041.500000</td>\n",
              "    </tr>\n",
              "    <tr>\n",
              "      <th>110</th>\n",
              "      <td>2021-01-24</td>\n",
              "      <td>158678.666667</td>\n",
              "    </tr>\n",
              "    <tr>\n",
              "      <th>111</th>\n",
              "      <td>2021-01-25</td>\n",
              "      <td>162315.833333</td>\n",
              "    </tr>\n",
              "    <tr>\n",
              "      <th>112</th>\n",
              "      <td>2021-01-26</td>\n",
              "      <td>165953.000000</td>\n",
              "    </tr>\n",
              "    <tr>\n",
              "      <th>113</th>\n",
              "      <td>2021-01-27</td>\n",
              "      <td>167731.000000</td>\n",
              "    </tr>\n",
              "    <tr>\n",
              "      <th>114</th>\n",
              "      <td>2021-01-28</td>\n",
              "      <td>169440.000000</td>\n",
              "    </tr>\n",
              "    <tr>\n",
              "      <th>115</th>\n",
              "      <td>2021-01-29</td>\n",
              "      <td>169810.000000</td>\n",
              "    </tr>\n",
              "    <tr>\n",
              "      <th>116</th>\n",
              "      <td>2021-01-30</td>\n",
              "      <td>170433.000000</td>\n",
              "    </tr>\n",
              "    <tr>\n",
              "      <th>117</th>\n",
              "      <td>2021-01-31</td>\n",
              "      <td>171568.000000</td>\n",
              "    </tr>\n",
              "    <tr>\n",
              "      <th>118</th>\n",
              "      <td>2021-02-01</td>\n",
              "      <td>172912.000000</td>\n",
              "    </tr>\n",
              "    <tr>\n",
              "      <th>119</th>\n",
              "      <td>2021-02-02</td>\n",
              "      <td>174075.000000</td>\n",
              "    </tr>\n",
              "    <tr>\n",
              "      <th>120</th>\n",
              "      <td>2021-02-03</td>\n",
              "      <td>175094.000000</td>\n",
              "    </tr>\n",
              "    <tr>\n",
              "      <th>121</th>\n",
              "      <td>2021-02-04</td>\n",
              "      <td>177233.000000</td>\n",
              "    </tr>\n",
              "    <tr>\n",
              "      <th>122</th>\n",
              "      <td>2021-02-05</td>\n",
              "      <td>179550.000000</td>\n",
              "    </tr>\n",
              "    <tr>\n",
              "      <th>123</th>\n",
              "      <td>2021-02-06</td>\n",
              "      <td>182543.000000</td>\n",
              "    </tr>\n",
              "  </tbody>\n",
              "</table>\n",
              "</div>\n",
              "      <button class=\"colab-df-convert\" onclick=\"convertToInteractive('df-db71017a-abf9-4eb5-b484-ceb41a56f46c')\"\n",
              "              title=\"Convert this dataframe to an interactive table.\"\n",
              "              style=\"display:none;\">\n",
              "        \n",
              "  <svg xmlns=\"http://www.w3.org/2000/svg\" height=\"24px\"viewBox=\"0 0 24 24\"\n",
              "       width=\"24px\">\n",
              "    <path d=\"M0 0h24v24H0V0z\" fill=\"none\"/>\n",
              "    <path d=\"M18.56 5.44l.94 2.06.94-2.06 2.06-.94-2.06-.94-.94-2.06-.94 2.06-2.06.94zm-11 1L8.5 8.5l.94-2.06 2.06-.94-2.06-.94L8.5 2.5l-.94 2.06-2.06.94zm10 10l.94 2.06.94-2.06 2.06-.94-2.06-.94-.94-2.06-.94 2.06-2.06.94z\"/><path d=\"M17.41 7.96l-1.37-1.37c-.4-.4-.92-.59-1.43-.59-.52 0-1.04.2-1.43.59L10.3 9.45l-7.72 7.72c-.78.78-.78 2.05 0 2.83L4 21.41c.39.39.9.59 1.41.59.51 0 1.02-.2 1.41-.59l7.78-7.78 2.81-2.81c.8-.78.8-2.07 0-2.86zM5.41 20L4 18.59l7.72-7.72 1.47 1.35L5.41 20z\"/>\n",
              "  </svg>\n",
              "      </button>\n",
              "      \n",
              "  <style>\n",
              "    .colab-df-container {\n",
              "      display:flex;\n",
              "      flex-wrap:wrap;\n",
              "      gap: 12px;\n",
              "    }\n",
              "\n",
              "    .colab-df-convert {\n",
              "      background-color: #E8F0FE;\n",
              "      border: none;\n",
              "      border-radius: 50%;\n",
              "      cursor: pointer;\n",
              "      display: none;\n",
              "      fill: #1967D2;\n",
              "      height: 32px;\n",
              "      padding: 0 0 0 0;\n",
              "      width: 32px;\n",
              "    }\n",
              "\n",
              "    .colab-df-convert:hover {\n",
              "      background-color: #E2EBFA;\n",
              "      box-shadow: 0px 1px 2px rgba(60, 64, 67, 0.3), 0px 1px 3px 1px rgba(60, 64, 67, 0.15);\n",
              "      fill: #174EA6;\n",
              "    }\n",
              "\n",
              "    [theme=dark] .colab-df-convert {\n",
              "      background-color: #3B4455;\n",
              "      fill: #D2E3FC;\n",
              "    }\n",
              "\n",
              "    [theme=dark] .colab-df-convert:hover {\n",
              "      background-color: #434B5C;\n",
              "      box-shadow: 0px 1px 3px 1px rgba(0, 0, 0, 0.15);\n",
              "      filter: drop-shadow(0px 1px 2px rgba(0, 0, 0, 0.3));\n",
              "      fill: #FFFFFF;\n",
              "    }\n",
              "  </style>\n",
              "\n",
              "      <script>\n",
              "        const buttonEl =\n",
              "          document.querySelector('#df-db71017a-abf9-4eb5-b484-ceb41a56f46c button.colab-df-convert');\n",
              "        buttonEl.style.display =\n",
              "          google.colab.kernel.accessAllowed ? 'block' : 'none';\n",
              "\n",
              "        async function convertToInteractive(key) {\n",
              "          const element = document.querySelector('#df-db71017a-abf9-4eb5-b484-ceb41a56f46c');\n",
              "          const dataTable =\n",
              "            await google.colab.kernel.invokeFunction('convertToInteractive',\n",
              "                                                     [key], {});\n",
              "          if (!dataTable) return;\n",
              "\n",
              "          const docLinkHtml = 'Like what you see? Visit the ' +\n",
              "            '<a target=\"_blank\" href=https://colab.research.google.com/notebooks/data_table.ipynb>data table notebook</a>'\n",
              "            + ' to learn more about interactive tables.';\n",
              "          element.innerHTML = '';\n",
              "          dataTable['output_type'] = 'display_data';\n",
              "          await google.colab.output.renderOutput(dataTable, element);\n",
              "          const docLink = document.createElement('div');\n",
              "          docLink.innerHTML = docLinkHtml;\n",
              "          element.appendChild(docLink);\n",
              "        }\n",
              "      </script>\n",
              "    </div>\n",
              "  </div>\n",
              "  "
            ],
            "text/plain": [
              "           date  total_vaccinations\n",
              "78   2020-12-23        38965.000000\n",
              "79   2020-12-24        50071.000000\n",
              "80   2020-12-25        50543.000000\n",
              "81   2020-12-26        51556.000000\n",
              "82   2020-12-27        53614.000000\n",
              "83   2020-12-28        55014.000000\n",
              "84   2020-12-29        56041.000000\n",
              "85   2020-12-30        57317.000000\n",
              "86   2020-12-31        58643.000000\n",
              "87   2021-01-01        59351.000000\n",
              "88   2021-01-02        60097.000000\n",
              "89   2021-01-03        60689.000000\n",
              "90   2021-01-04        61612.000000\n",
              "91   2021-01-05        63893.000000\n",
              "92   2021-01-06        68472.000000\n",
              "93   2021-01-07        72239.000000\n",
              "94   2021-01-08        78291.000000\n",
              "95   2021-01-09        84157.000000\n",
              "96   2021-01-10        89250.000000\n",
              "97   2021-01-11        92598.000000\n",
              "98   2021-01-12        97776.000000\n",
              "99   2021-01-13       101363.000000\n",
              "100  2021-01-14       109566.000000\n",
              "101  2021-01-15       122819.000000\n",
              "102  2021-01-16       137159.000000\n",
              "103  2021-01-17       141563.000000\n",
              "104  2021-01-18       142831.000000\n",
              "105  2021-01-19       143596.000000\n",
              "106  2021-01-20       144130.000000\n",
              "107  2021-01-21       147767.166667\n",
              "108  2021-01-22       151404.333333\n",
              "109  2021-01-23       155041.500000\n",
              "110  2021-01-24       158678.666667\n",
              "111  2021-01-25       162315.833333\n",
              "112  2021-01-26       165953.000000\n",
              "113  2021-01-27       167731.000000\n",
              "114  2021-01-28       169440.000000\n",
              "115  2021-01-29       169810.000000\n",
              "116  2021-01-30       170433.000000\n",
              "117  2021-01-31       171568.000000\n",
              "118  2021-02-01       172912.000000\n",
              "119  2021-02-02       174075.000000\n",
              "120  2021-02-03       175094.000000\n",
              "121  2021-02-04       177233.000000\n",
              "122  2021-02-05       179550.000000\n",
              "123  2021-02-06       182543.000000"
            ]
          },
          "metadata": {},
          "execution_count": 230
        }
      ]
    },
    {
      "cell_type": "code",
      "source": [
        "X_copy.plot(x='date', y='total_vaccinations', rot=0, figsize=(14, 10), grid=True, marker='o')\n",
        "# миленько"
      ],
      "metadata": {
        "colab": {
          "base_uri": "https://localhost:8080/",
          "height": 623
        },
        "id": "xHMJMPaCwNFF",
        "outputId": "1a14285d-d8b3-437a-dbc7-d5054c019f67"
      },
      "execution_count": 231,
      "outputs": [
        {
          "output_type": "execute_result",
          "data": {
            "text/plain": [
              "<matplotlib.axes._subplots.AxesSubplot at 0x7f68a1f32a90>"
            ]
          },
          "metadata": {},
          "execution_count": 231
        },
        {
          "output_type": "display_data",
          "data": {
            "image/png": "[encoded data removed]",
            "text/plain": [
              "<Figure size 1008x720 with 1 Axes>"
            ]
          },
          "metadata": {
            "needs_background": "light"
          }
        }
      ]
    },
    {
      "cell_type": "markdown",
      "source": [
        "**Задание 4 (0.5 балла)**\n",
        "\n",
        "Выполните задание для датасета hr.\n",
        "\n",
        "Есть ли в данных выбросы? Если да, то скажите, какие и почему Вы считаете их выбросами?"
      ],
      "metadata": {
        "id": "cY6cKhcLqnLh"
      }
    },
    {
      "cell_type": "code",
      "source": [
        "sns.boxplot(X_hr_fill['training_hours'])\n"
      ],
      "metadata": {
        "colab": {
          "base_uri": "https://localhost:8080/",
          "height": 352
        },
        "id": "ZiMsPjDsqrjF",
        "outputId": "4b27fb9b-6883-4042-c800-f42472759cb4"
      },
      "execution_count": 232,
      "outputs": [
        {
          "output_type": "stream",
          "name": "stderr",
          "text": [
            "/usr/local/lib/python3.7/dist-packages/seaborn/_decorators.py:43: FutureWarning: Pass the following variable as a keyword arg: x. From version 0.12, the only valid positional argument will be `data`, and passing other arguments without an explicit keyword will result in an error or misinterpretation.\n",
            "  FutureWarning\n"
          ]
        },
        {
          "output_type": "execute_result",
          "data": {
            "text/plain": [
              "<matplotlib.axes._subplots.AxesSubplot at 0x7f68a1eb4dd0>"
            ]
          },
          "metadata": {},
          "execution_count": 232
        },
        {
          "output_type": "display_data",
          "data": {
            "image/png": "[encoded data removed]",
            "text/plain": [
              "<Figure size 432x288 with 1 Axes>"
            ]
          },
          "metadata": {
            "needs_background": "light"
          }
        }
      ]
    },
    {
      "cell_type": "code",
      "source": [
        "sns.boxplot(X_hr_fill['enrollee_id'])\n"
      ],
      "metadata": {
        "colab": {
          "base_uri": "https://localhost:8080/",
          "height": 352
        },
        "id": "AcAYJht63PGr",
        "outputId": "bd45fb6e-47bd-4464-de47-1413b03e4707"
      },
      "execution_count": 233,
      "outputs": [
        {
          "output_type": "stream",
          "name": "stderr",
          "text": [
            "/usr/local/lib/python3.7/dist-packages/seaborn/_decorators.py:43: FutureWarning: Pass the following variable as a keyword arg: x. From version 0.12, the only valid positional argument will be `data`, and passing other arguments without an explicit keyword will result in an error or misinterpretation.\n",
            "  FutureWarning\n"
          ]
        },
        {
          "output_type": "execute_result",
          "data": {
            "text/plain": [
              "<matplotlib.axes._subplots.AxesSubplot at 0x7f68a1e25fd0>"
            ]
          },
          "metadata": {},
          "execution_count": 233
        },
        {
          "output_type": "display_data",
          "data": {
            "image/png": "[encoded data removed]",
            "text/plain": [
              "<Figure size 432x288 with 1 Axes>"
            ]
          },
          "metadata": {
            "needs_background": "light"
          }
        }
      ]
    },
    {
      "cell_type": "code",
      "source": [
        "sns.boxplot(X_hr_fill['city_development_index'])\n"
      ],
      "metadata": {
        "colab": {
          "base_uri": "https://localhost:8080/",
          "height": 352
        },
        "id": "0rHSfOjg3Xl3",
        "outputId": "9c9e4acd-0bac-48e2-fe2b-e48dcc42db95"
      },
      "execution_count": 234,
      "outputs": [
        {
          "output_type": "stream",
          "name": "stderr",
          "text": [
            "/usr/local/lib/python3.7/dist-packages/seaborn/_decorators.py:43: FutureWarning: Pass the following variable as a keyword arg: x. From version 0.12, the only valid positional argument will be `data`, and passing other arguments without an explicit keyword will result in an error or misinterpretation.\n",
            "  FutureWarning\n"
          ]
        },
        {
          "output_type": "execute_result",
          "data": {
            "text/plain": [
              "<matplotlib.axes._subplots.AxesSubplot at 0x7f68a1dffed0>"
            ]
          },
          "metadata": {},
          "execution_count": 234
        },
        {
          "output_type": "display_data",
          "data": {
            "image/png": "[encoded data removed]",
            "text/plain": [
              "<Figure size 432x288 with 1 Axes>"
            ]
          },
          "metadata": {
            "needs_background": "light"
          }
        }
      ]
    },
    {
      "cell_type": "markdown",
      "source": [
        "На последнем ящике с усами явно виден единичный выброс, у первого ящика их несколько и они упорно маскируются под нормальных. Но ответ в любом случае положительный.\n"
      ],
      "metadata": {
        "id": "Ciub01WU3jfV"
      }
    },
    {
      "cell_type": "markdown",
      "source": [
        "**Задание 5 (1 балл)**\n",
        "\n",
        "Выполните задание для датасета hr.\n",
        "\n",
        "Закодируйте категориальные признаки при помощи One-hot encoding/Label encoding/Frequency encoding. Объясните свой выбор. (Обратите внимание, что некоторые категориальные признаки предполагают ранжирование в своих значениях)"
      ],
      "metadata": {
        "id": "cwo4IYBSqtov"
      }
    },
    {
      "cell_type": "markdown",
      "source": [
        "One-hot encoding использовать не будем из-за дополнительных фич. Label encoding используем для категорий, где есть знаки '>/<', а именно: 'experience', 'company_size', 'last_new_job'. Для остального используем Frequency encoding:\n"
      ],
      "metadata": {
        "id": "h3f_LJew7JR5"
      }
    },
    {
      "cell_type": "code",
      "source": [
        "col_frequency = ['city', 'gender', 'relevent_experience', 'enrolled_university', 'education_level', 'major_discipline', 'company_type']"
      ],
      "metadata": {
        "id": "SP98d2jn9af8"
      },
      "execution_count": 235,
      "outputs": []
    },
    {
      "cell_type": "markdown",
      "source": [
        "Ранжируем значения для Label encoding."
      ],
      "metadata": {
        "id": "hgRarh0i9zIJ"
      }
    },
    {
      "cell_type": "code",
      "source": [
        "experience = {'<1':0, '1':1, '2':2, '3':3, '4':4, '5':5, '6':6, '7':7, '8':8, '9':9, \n",
        "            '10':10, '11':11, '12':12, '13':13, '14':14, '15':15, '16':16, '17':17, '18':18, '19':19, '20':20, '>20':21}"
      ],
      "metadata": {
        "id": "q6h_yrfr78I9"
      },
      "execution_count": 236,
      "outputs": []
    },
    {
      "cell_type": "code",
      "source": [
        "company_size = {'<10':0, '10/49':1, '50-99':2, '100-500':3, '500-999':4, '1000-4999':5, '5000-9999':6, '10000+':7}"
      ],
      "metadata": {
        "id": "HYdz1To78m6u"
      },
      "execution_count": 237,
      "outputs": []
    },
    {
      "cell_type": "code",
      "source": [
        "last_new_job = {'never':0, '1':1, '2':2, '3':3, '4':4, '>4':5}"
      ],
      "metadata": {
        "id": "Y1iFJL1K9Aj5"
      },
      "execution_count": 238,
      "outputs": []
    },
    {
      "cell_type": "code",
      "source": [
        "def encode(X):\n",
        "    # Возвращает данные без категориальных признаков\n",
        "    X_encode = X.copy()\n",
        "    for col in col_frequency:\n",
        "        enc = (X.groupby(col).size())/len(X)\n",
        "        X_encode[col] = X_encode[col].apply(lambda x: enc[x])\n",
        "    X_encode['experience'] = X_encode['experience'].apply(lambda x: experience[x])\n",
        "    X_encode['company_size'] = X_encode['company_size'].apply(lambda x: company_size[x])\n",
        "    X_encode['last_new_job'] = X_encode['last_new_job'].apply(lambda x: last_new_job[x])\n",
        "    return X_encode"
      ],
      "metadata": {
        "id": "STeENhDIqyAY"
      },
      "execution_count": 239,
      "outputs": []
    },
    {
      "cell_type": "code",
      "source": [
        "X_hr_encode = encode(X_hr_fill)"
      ],
      "metadata": {
        "id": "diiJhVzkq11t"
      },
      "execution_count": 240,
      "outputs": []
    },
    {
      "cell_type": "markdown",
      "source": [
        "**Задание 5 (1 балл)**\n",
        "\n",
        "Выполните задание для датасета hr.\n",
        "\n",
        "**1. (1 балл)**\n",
        "\n",
        "Реализуйте функцию undersampling"
      ],
      "metadata": {
        "id": "KH2qH6KA_dao"
      }
    },
    {
      "cell_type": "code",
      "source": [
        "def undersampling(X, y):\n",
        "    # Возвращает данные, сбалансированные методом undersampling\n",
        "    if len(X) == len(y):\n",
        "      return X.copy(), y.copy()\n",
        "    elif len(y) > len(X):\n",
        "      y_under = y.sample(len(X))\n",
        "      X_under = X       \n",
        "    else:\n",
        "      X_under = X.sample(len(y))\n",
        "      y_under = y        \n",
        "    return X_under, y_under"
      ],
      "metadata": {
        "id": "da9VT5qS_e0P"
      },
      "execution_count": 241,
      "outputs": []
    },
    {
      "cell_type": "markdown",
      "source": [
        "\n",
        "\n",
        "**2. (1 балл)**\n",
        "\n",
        "Реализуйте функцию oversampling"
      ],
      "metadata": {
        "id": "K2NhIEaRq2Wg"
      }
    },
    {
      "cell_type": "code",
      "source": [
        "def oversampling(X, y):\n",
        "    # Возвращает данные, сбалансированные методом undersampling\n",
        "    if len(X) == len(y):\n",
        "        return X.copy(), y.copy()\n",
        "    elif len(y) > len(X):\n",
        "      temp = X.sample(len(y) - len(X))\n",
        "      X_over = pd.concat([X, temp])\n",
        "      y_over = y   \n",
        "    else:\n",
        "      temp = y.sample(len(X) - len(y))\n",
        "      y_over = pd.concat([y, temp])\n",
        "      X_over = X      \n",
        "    return X_over, y_over"
      ],
      "metadata": {
        "id": "wsqYNInmq-Pu"
      },
      "execution_count": 242,
      "outputs": []
    },
    {
      "cell_type": "code",
      "source": [
        "X_hr_under, y_hr_under = undersampling(X_hr_encode, y_hr_fill)\n",
        "\n",
        "X_hr_over, y_hr_over = oversampling(X_hr_encode, y_hr_fill)"
      ],
      "metadata": {
        "id": "RLvXJAafrAj8"
      },
      "execution_count": 243,
      "outputs": []
    },
    {
      "cell_type": "markdown",
      "source": [
        "**3. (1 балл)**\n",
        "\n",
        "Используйте SMOTE для балансировки датасета.\n",
        "\n",
        "Помимо методов undersampling и oversampling существует подход, генерирующий элементы класса-меньшинства, похожие на уже присутствующие в выборке данных. Такой метод называется Synthetic Minority Oversampling Technique (SMOTE).\n",
        "\n",
        "Метод SMOTE , реализованный в библиотеке imblearn, генерирует синтетические примеры при помощи k-nearest neighbor алгоритма (подробнее об этом алгоритме будет рассказано на лекции)."
      ],
      "metadata": {
        "id": "wOqEz8R4rEER"
      }
    },
    {
      "cell_type": "code",
      "source": [
        "!pip install -U imbalanced-learn"
      ],
      "metadata": {
        "colab": {
          "base_uri": "https://localhost:8080/"
        },
        "id": "LKqlAaQtrIBP",
        "outputId": "1b39d8fe-734a-4e2e-d4c6-580a02b8d3f1"
      },
      "execution_count": 244,
      "outputs": [
        {
          "output_type": "stream",
          "name": "stdout",
          "text": [
            "Requirement already satisfied: imbalanced-learn in /usr/local/lib/python3.7/dist-packages (0.9.0)\n",
            "Requirement already satisfied: scikit-learn>=1.0.1 in /usr/local/lib/python3.7/dist-packages (from imbalanced-learn) (1.0.2)\n",
            "Requirement already satisfied: threadpoolctl>=2.0.0 in /usr/local/lib/python3.7/dist-packages (from imbalanced-learn) (3.1.0)\n",
            "Requirement already satisfied: joblib>=0.11 in /usr/local/lib/python3.7/dist-packages (from imbalanced-learn) (1.1.0)\n",
            "Requirement already satisfied: numpy>=1.14.6 in /usr/local/lib/python3.7/dist-packages (from imbalanced-learn) (1.21.5)\n",
            "Requirement already satisfied: scipy>=1.1.0 in /usr/local/lib/python3.7/dist-packages (from imbalanced-learn) (1.4.1)\n"
          ]
        }
      ]
    },
    {
      "cell_type": "code",
      "source": [
        "from imblearn.over_sampling import SMOTE\n",
        "\n",
        "smote = SMOTE()\n",
        "X_hr_SMOTE, y_hr_SMOTE = smote.fit_resample(X_hr_encode.copy(), y_hr_fill.copy())"
      ],
      "metadata": {
        "id": "zBUz4Y1SrKnf"
      },
      "execution_count": 245,
      "outputs": []
    },
    {
      "cell_type": "markdown",
      "source": [
        "4. (0.5 балла)\n",
        "Как изменились распределения признаков при различных тактиках балансирования датасета?"
      ],
      "metadata": {
        "id": "JdGrOarBrLKP"
      }
    },
    {
      "cell_type": "code",
      "source": [
        "pyplot.hist(X_hr_over['company_type'], alpha=0.5, label='Oversampling')\n",
        "pyplot.hist(X_hr_under['company_type'], alpha=0.5, label='Undersampling')\n",
        "pyplot.hist(X_hr_SMOTE['company_type'], alpha=0.5, label='SMOTE')\n",
        "pyplot.legend(loc='upper right')"
      ],
      "metadata": {
        "colab": {
          "base_uri": "https://localhost:8080/",
          "height": 282
        },
        "id": "721-IWIErN1j",
        "outputId": "81ae2937-255a-431e-b10b-3ccd1fafc43d"
      },
      "execution_count": 246,
      "outputs": [
        {
          "output_type": "execute_result",
          "data": {
            "text/plain": [
              "<matplotlib.legend.Legend at 0x7f68a1d1b210>"
            ]
          },
          "metadata": {},
          "execution_count": 246
        },
        {
          "output_type": "display_data",
          "data": {
            "image/png": "[encoded data removed]",
            "text/plain": [
              "<Figure size 432x288 with 1 Axes>"
            ]
          },
          "metadata": {
            "needs_background": "light"
          }
        }
      ]
    },
    {
      "cell_type": "code",
      "source": [
        "pyplot.hist(X_hr_over['experience'], alpha=0.5, label='Oversampling')\n",
        "pyplot.hist(X_hr_under['experience'], alpha=0.5, label='Undersampling')\n",
        "pyplot.hist(X_hr_SMOTE['experience'], alpha=0.5, label='SMOTE')\n",
        "pyplot.legend(loc='upper right')"
      ],
      "metadata": {
        "colab": {
          "base_uri": "https://localhost:8080/",
          "height": 282
        },
        "id": "4kfSsR5kI7Lg",
        "outputId": "5c2810c3-efc4-4dc1-b756-b51253247c2e"
      },
      "execution_count": 247,
      "outputs": [
        {
          "output_type": "execute_result",
          "data": {
            "text/plain": [
              "<matplotlib.legend.Legend at 0x7f68a1c84a50>"
            ]
          },
          "metadata": {},
          "execution_count": 247
        },
        {
          "output_type": "display_data",
          "data": {
            "image/png": "[encoded data removed]",
            "text/plain": [
              "<Figure size 432x288 with 1 Axes>"
            ]
          },
          "metadata": {
            "needs_background": "light"
          }
        }
      ]
    },
    {
      "cell_type": "code",
      "source": [
        "pyplot.hist(X_hr_over['company_size'], alpha=0.5, label='Oversampling')\n",
        "pyplot.hist(X_hr_under['company_size'], alpha=0.5, label='Undersampling')\n",
        "pyplot.hist(X_hr_SMOTE['company_size'], alpha=0.5, label='SMOTE')\n",
        "pyplot.legend(loc='upper right')"
      ],
      "metadata": {
        "colab": {
          "base_uri": "https://localhost:8080/",
          "height": 282
        },
        "id": "KFvfr1ihJL6t",
        "outputId": "332cfe57-24f6-4c24-928f-acd94b091e77"
      },
      "execution_count": 248,
      "outputs": [
        {
          "output_type": "execute_result",
          "data": {
            "text/plain": [
              "<matplotlib.legend.Legend at 0x7f68a1b52310>"
            ]
          },
          "metadata": {},
          "execution_count": 248
        },
        {
          "output_type": "display_data",
          "data": {
            "image/png": "[encoded data removed]",
            "text/plain": [
              "<Figure size 432x288 with 1 Axes>"
            ]
          },
          "metadata": {
            "needs_background": "light"
          }
        }
      ]
    },
    {
      "cell_type": "code",
      "source": [
        "pyplot.hist(X_hr_over['last_new_job'], alpha=0.5, label='Oversampling')\n",
        "pyplot.hist(X_hr_under['last_new_job'], alpha=0.5, label='Undersampling')\n",
        "pyplot.hist(X_hr_SMOTE['last_new_job'], alpha=0.5, label='SMOTE')\n",
        "pyplot.legend(loc='upper right')"
      ],
      "metadata": {
        "colab": {
          "base_uri": "https://localhost:8080/",
          "height": 282
        },
        "id": "CRywQJh7JMVF",
        "outputId": "42b5a5a1-d71b-42fe-90bd-faf60e8e35bd"
      },
      "execution_count": 249,
      "outputs": [
        {
          "output_type": "execute_result",
          "data": {
            "text/plain": [
              "<matplotlib.legend.Legend at 0x7f68a1abf390>"
            ]
          },
          "metadata": {},
          "execution_count": 249
        },
        {
          "output_type": "display_data",
          "data": {
            "image/png": "[encoded data removed]",
            "text/plain": [
              "<Figure size 432x288 with 1 Axes>"
            ]
          },
          "metadata": {
            "needs_background": "light"
          }
        }
      ]
    },
    {
      "cell_type": "code",
      "source": [
        "pyplot.hist(X_hr_over['city'], alpha=0.5, label='Oversampling')\n",
        "pyplot.hist(X_hr_under['city'], alpha=0.5, label='Undersampling')\n",
        "pyplot.hist(X_hr_SMOTE['city'], alpha=0.5, label='SMOTE')\n",
        "pyplot.legend(loc='upper right')"
      ],
      "metadata": {
        "colab": {
          "base_uri": "https://localhost:8080/",
          "height": 285
        },
        "id": "dMltNkLCJMlg",
        "outputId": "aaa0a5e1-bd29-45e0-f89a-3921171ecd5c"
      },
      "execution_count": 250,
      "outputs": [
        {
          "output_type": "execute_result",
          "data": {
            "text/plain": [
              "<matplotlib.legend.Legend at 0x7f68a19fc550>"
            ]
          },
          "metadata": {},
          "execution_count": 250
        },
        {
          "output_type": "display_data",
          "data": {
            "image/png": "[encoded data removed]",
            "text/plain": [
              "<Figure size 432x288 with 1 Axes>"
            ]
          },
          "metadata": {
            "needs_background": "light"
          }
        }
      ]
    },
    {
      "cell_type": "code",
      "source": [
        "pyplot.hist(X_hr_over['gender'], alpha=0.5, label='Oversampling')\n",
        "pyplot.hist(X_hr_under['gender'], alpha=0.5, label='Undersampling')\n",
        "pyplot.hist(X_hr_SMOTE['gender'], alpha=0.5, label='SMOTE')\n",
        "pyplot.legend(loc='upper right')"
      ],
      "metadata": {
        "colab": {
          "base_uri": "https://localhost:8080/",
          "height": 282
        },
        "id": "4tgL1xCTJM1Q",
        "outputId": "049fcbf6-df3f-4355-bf6f-166643e63ac6"
      },
      "execution_count": 251,
      "outputs": [
        {
          "output_type": "execute_result",
          "data": {
            "text/plain": [
              "<matplotlib.legend.Legend at 0x7f68a194b410>"
            ]
          },
          "metadata": {},
          "execution_count": 251
        },
        {
          "output_type": "display_data",
          "data": {
            "image/png": "[encoded data removed]",
            "text/plain": [
              "<Figure size 432x288 with 1 Axes>"
            ]
          },
          "metadata": {
            "needs_background": "light"
          }
        }
      ]
    },
    {
      "cell_type": "code",
      "source": [
        "pyplot.hist(X_hr_over['relevent_experience'], alpha=0.5, label='Oversampling')\n",
        "pyplot.hist(X_hr_under['relevent_experience'], alpha=0.5, label='Undersampling')\n",
        "pyplot.hist(X_hr_SMOTE['relevent_experience'], alpha=0.5, label='SMOTE')\n",
        "pyplot.legend(loc='upper right')"
      ],
      "metadata": {
        "colab": {
          "base_uri": "https://localhost:8080/",
          "height": 282
        },
        "id": "K-K0xoPnJjor",
        "outputId": "3d92a370-f53c-4a4a-a528-da9410d4a97d"
      },
      "execution_count": 252,
      "outputs": [
        {
          "output_type": "execute_result",
          "data": {
            "text/plain": [
              "<matplotlib.legend.Legend at 0x7f68a1880390>"
            ]
          },
          "metadata": {},
          "execution_count": 252
        },
        {
          "output_type": "display_data",
          "data": {
            "image/png": "[encoded data removed]",
            "text/plain": [
              "<Figure size 432x288 with 1 Axes>"
            ]
          },
          "metadata": {
            "needs_background": "light"
          }
        }
      ]
    },
    {
      "cell_type": "code",
      "source": [
        "pyplot.hist(X_hr_over['enrolled_university'], alpha=0.5, label='Oversampling')\n",
        "pyplot.hist(X_hr_under['enrolled_university'], alpha=0.5, label='Undersampling')\n",
        "pyplot.hist(X_hr_SMOTE['enrolled_university'], alpha=0.5, label='SMOTE')\n",
        "pyplot.legend(loc='upper right')"
      ],
      "metadata": {
        "colab": {
          "base_uri": "https://localhost:8080/",
          "height": 282
        },
        "id": "Ge4tdMXsJj1U",
        "outputId": "7f68f0d4-28a4-4db8-8ef8-fb90d8eabdc8"
      },
      "execution_count": 253,
      "outputs": [
        {
          "output_type": "execute_result",
          "data": {
            "text/plain": [
              "<matplotlib.legend.Legend at 0x7f68a1816650>"
            ]
          },
          "metadata": {},
          "execution_count": 253
        },
        {
          "output_type": "display_data",
          "data": {
            "image/png": "[encoded data removed]",
            "text/plain": [
              "<Figure size 432x288 with 1 Axes>"
            ]
          },
          "metadata": {
            "needs_background": "light"
          }
        }
      ]
    },
    {
      "cell_type": "code",
      "source": [
        "pyplot.hist(X_hr_over['education_level'], alpha=0.5, label='Oversampling')\n",
        "pyplot.hist(X_hr_under['education_level'], alpha=0.5, label='Undersampling')\n",
        "pyplot.hist(X_hr_SMOTE['education_level'], alpha=0.5, label='SMOTE')\n",
        "pyplot.legend(loc='upper right')"
      ],
      "metadata": {
        "colab": {
          "base_uri": "https://localhost:8080/",
          "height": 282
        },
        "id": "q5rBT6EDJj8w",
        "outputId": "1af9f6f1-6bde-4996-b665-c5484f7f7660"
      },
      "execution_count": 254,
      "outputs": [
        {
          "output_type": "execute_result",
          "data": {
            "text/plain": [
              "<matplotlib.legend.Legend at 0x7f68a16ef390>"
            ]
          },
          "metadata": {},
          "execution_count": 254
        },
        {
          "output_type": "display_data",
          "data": {
            "image/png": "[encoded data removed]",
            "text/plain": [
              "<Figure size 432x288 with 1 Axes>"
            ]
          },
          "metadata": {
            "needs_background": "light"
          }
        }
      ]
    },
    {
      "cell_type": "code",
      "source": [
        "pyplot.hist(X_hr_over['major_discipline'], alpha=0.5, label='Oversampling')\n",
        "pyplot.hist(X_hr_under['major_discipline'], alpha=0.5, label='Undersampling')\n",
        "pyplot.hist(X_hr_SMOTE['major_discipline'], alpha=0.5, label='SMOTE')\n",
        "pyplot.legend(loc='upper right')"
      ],
      "metadata": {
        "colab": {
          "base_uri": "https://localhost:8080/",
          "height": 282
        },
        "id": "Mi6UrO9kJkEU",
        "outputId": "b60e3977-bc65-41bb-e405-f775bd1994e7"
      },
      "execution_count": 255,
      "outputs": [
        {
          "output_type": "execute_result",
          "data": {
            "text/plain": [
              "<matplotlib.legend.Legend at 0x7f68a20959d0>"
            ]
          },
          "metadata": {},
          "execution_count": 255
        },
        {
          "output_type": "display_data",
          "data": {
            "image/png": "[encoded data removed]",
            "text/plain": [
              "<Figure size 432x288 with 1 Axes>"
            ]
          },
          "metadata": {
            "needs_background": "light"
          }
        }
      ]
    },
    {
      "cell_type": "markdown",
      "source": [
        "Как видно, во всех графиках oversampling и undersamplig дали одинаковый результат, SMOTE немного отличается от них, почти каждый показатель вырос или остался на месте."
      ],
      "metadata": {
        "id": "bS7YbxMxKHLB"
      }
    }
  ]
}