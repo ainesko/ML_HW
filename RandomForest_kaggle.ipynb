{
  "nbformat": 4,
  "nbformat_minor": 0,
  "metadata": {
    "colab": {
      "name": "RandomForest kaggle.ipynb",
      "provenance": [],
      "collapsed_sections": [],
      "authorship_tag": "ABX9TyPb1P4i0jhOL9EtTPIrEr7P",
      "include_colab_link": true
    },
    "kernelspec": {
      "name": "python3",
      "display_name": "Python 3"
    },
    "language_info": {
      "name": "python"
    }
  },
  "cells": [
    {
      "cell_type": "markdown",
      "metadata": {
        "id": "view-in-github",
        "colab_type": "text"
      },
      "source": [
        "<a href=\"https://colab.research.google.com/github/ainesko/ML_HW/blob/main/RandomForest_kaggle.ipynb\" target=\"_parent\"><img src=\"https://colab.research.google.com/assets/colab-badge.svg\" alt=\"Open In Colab\"/></a>"
      ]
    },
    {
      "cell_type": "code",
      "execution_count": 27,
      "metadata": {
        "id": "w0U-hMnmLuGs"
      },
      "outputs": [],
      "source": [
        "import numpy as np\n",
        "import pandas as pd\n",
        "import random\n",
        "from scipy.stats import mode\n",
        "from sklearn.metrics import accuracy_score, recall_score, precision_score, f1_score\n",
        "from sklearn.metrics import roc_curve, auc\n",
        "from sklearn.tree import DecisionTreeClassifier"
      ]
    },
    {
      "cell_type": "markdown",
      "source": [
        "Реализация дерева решений"
      ],
      "metadata": {
        "id": "AJqA_9-ML2lB"
      }
    },
    {
      "cell_type": "code",
      "source": [
        "def roc(proba):\n",
        "    res = []\n",
        "    for i in range(len(proba)):\n",
        "        try:\n",
        "            res += [proba[i][1]]\n",
        "        except KeyError:\n",
        "            res += [0]\n",
        "    return np.array(res)\n",
        "def AUC(y_test, proba):\n",
        "    y_pred = roc(proba)\n",
        "    tpr,fpr,_ = roc_curve(y_test, y_pred)\n",
        "    return auc(tpr, fpr)"
      ],
      "metadata": {
        "id": "uaCzR1HGMQyX"
      },
      "execution_count": 28,
      "outputs": []
    },
    {
      "cell_type": "code",
      "source": [
        "class RandomForestClassifier:\n",
        "    def __init__(self, criterion=\"gini\", max_depth=6, min_samples_leaf=20, max_features=\"auto\", n_estimators=10):\n",
        "        self.crit = criterion\n",
        "        self.max_d = max_depth\n",
        "        self.min_samples_leaf = min_samples_leaf\n",
        "        self.forest = []\n",
        "        for i in range(n_estimators):\n",
        "          self.forest.append(DecisionTreeClassifier(criterion=criterion, max_depth=max_depth, min_samples_leaf=min_samples_leaf))\n",
        "        if max_features == 'log2':\n",
        "            self.func = np.log2\n",
        "        else:\n",
        "            self.func = np.sqrt\n",
        "        self.n = n_estimators\n",
        "\n",
        "    def fit(self, X, y, n_sample = 100):\n",
        "        max_feat = int(self.func(X.shape[1]))\n",
        "        self.colmn = []\n",
        "        for i in range(self.n):\n",
        "            Xsamp = X.sample(max_feat, axis=1)\n",
        "            self.colmn.append(Xsamp.columns)\n",
        "            self.forest[i].fit(Xsamp, y)\n",
        "\n",
        "    def predict(self, X):\n",
        "        prob = []\n",
        "        for i in range(self.n):\n",
        "            X_pr = X[self.colmn[i]]\n",
        "            prob.append(self.forest[i].predict(X_pr))\n",
        "        self.prob = np.array(prob).T\n",
        "        return (mode(prob)[0]).T, np.array(prob).T\n",
        "    \n",
        "    def predict_proba(self, X):\n",
        "        prob = self.predict(X)[1]\n",
        "        result = []\n",
        "        for i in range(len(X)):\n",
        "            result.append(dict())\n",
        "            for label in range(2):\n",
        "                result[i][label] = 0\n",
        "        for i in range(len(X)):\n",
        "            temp = prob[i,:]\n",
        "            for key in result[i].keys():\n",
        "                result[i][key] = np.sum(temp == key) / self.n\n",
        "        return result"
      ],
      "metadata": {
        "id": "5CWopSI7MXAC"
      },
      "execution_count": 29,
      "outputs": []
    },
    {
      "cell_type": "code",
      "source": [
        "rand_forest = RandomForestClassifier(n_estimators=100, max_depth=5, min_samples_leaf=30)\n",
        "X = pd.read_csv('https://raw.githubusercontent.com/ainesko/ML_HW/main/x_spam_train.csv')\n",
        "y = pd.read_csv('https://raw.githubusercontent.com/ainesko/ML_HW/main/y_spam_train.csv')['Expected']\n",
        "test_X = pd.read_csv('https://raw.githubusercontent.com/ainesko/ML_HW/main/x_spam_test.csv')\n",
        "rand_forest.fit(X.drop('Id', axis=1), y, n_sample=200)"
      ],
      "metadata": {
        "id": "umfGlJfoh_El"
      },
      "execution_count": 30,
      "outputs": []
    },
    {
      "cell_type": "code",
      "source": [
        "submission = pd.DataFrame(columns = [\"Id\", \"Expected\"])\n",
        "submission[\"Id\"] = test_X[\"Id\"]\n",
        "submission[\"Expected\"] = rand_forest.predict(test_X)[0]\n",
        "submission.to_csv('submission.csv', index=False)"
      ],
      "metadata": {
        "id": "f3V1rIwljxnD"
      },
      "execution_count": 31,
      "outputs": []
    },
    {
      "cell_type": "code",
      "source": [
        ""
      ],
      "metadata": {
        "id": "IJ6bRN4NuK8R"
      },
      "execution_count": null,
      "outputs": []
    }
  ]
}