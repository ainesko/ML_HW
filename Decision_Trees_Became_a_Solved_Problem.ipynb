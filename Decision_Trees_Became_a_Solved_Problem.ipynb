{
  "nbformat": 4,
  "nbformat_minor": 0,
  "metadata": {
    "colab": {
      "name": " Decision Trees Became a Solved Problem.ipynb",
      "provenance": [],
      "authorship_tag": "ABX9TyO8netrJMPHx1WXpGcxI2z9",
      "include_colab_link": true
    },
    "kernelspec": {
      "name": "python3",
      "display_name": "Python 3"
    },
    "language_info": {
      "name": "python"
    }
  },
  "cells": [
    {
      "cell_type": "markdown",
      "metadata": {
        "id": "view-in-github",
        "colab_type": "text"
      },
      "source": [
        "<a href=\"https://colab.research.google.com/github/ainesko/ML_HW/blob/main/Decision_Trees_Became_a_Solved_Problem.ipynb\" target=\"_parent\"><img src=\"https://colab.research.google.com/assets/colab-badge.svg\" alt=\"Open In Colab\"/></a>"
      ]
    },
    {
      "cell_type": "markdown",
      "source": [
        "# Деревья решений решают проблемы\n",
        "\n",
        "***Суммарное количество баллов: 10***\n",
        "\n",
        "Вы уже знакомы с классификацией методом KNN. В этом задании предстоит реализовать другой метод классификации - дерево решений.\n",
        "\n",
        "Одной из его особенностей является возможность объяснить в человекочитаемой форме, почему мы отнесли объект к определенному классу. Эта особенность позволяет использовать деревья решений для создания систем, которые могут подсказывать специалистам, на что именно стоит обратить внимание при принятии решений."
      ],
      "metadata": {
        "id": "M-TBMmizBDtX"
      }
    },
    {
      "cell_type": "code",
      "execution_count": 130,
      "metadata": {
        "id": "t-J2e1x5HsJ_"
      },
      "outputs": [],
      "source": [
        "import numpy as np\n",
        "import pandas as pd\n",
        "from collections import Counter\n",
        "import random\n",
        "import matplotlib.pyplot as plt\n",
        "from sklearn.metrics import accuracy_score, recall_score, precision_score, f1_score\n",
        "from sklearn.neighbors import KNeighborsClassifier\n",
        "import matplotlib\n",
        "from scipy.stats import mode\n",
        "import math"
      ]
    },
    {
      "cell_type": "markdown",
      "source": [
        "#Задание 1 (1 балл)\n",
        "\n",
        "Во время построения дерева решений нам потребуется определить, какой из предикатов лучше всего разбивает обучающую выборку. Есть два критерия, которые позволяют это сделать: критерий Джини и энтропийный критерий. Первый для подсчета информативности разбиения использует коэффициент Джини, второй - энтропию. Реализуйте подсчет этих коэффициентов, а так же подсчет информативности разбиения.\n",
        "\n",
        "Описание функций\n",
        "gini(x) считает коэффициент Джини для массива меток\n",
        "\n",
        "entropy(x) считает энтропию для массива меток\n",
        "\n",
        "gain(left_y, right_y, criterion) считает информативность разбиения массива меток на левую left_y и правую right_y части при помощи criterion, который задается функцией (не строкой)."
      ],
      "metadata": {
        "id": "IRLbHAuKBMqX"
      }
    },
    {
      "cell_type": "code",
      "source": [
        "def gini(x):\n",
        "    x = list(x)\n",
        "    GI = x.count(0) / len(x) * (1 - x.count(0) / len(x)) + x.count(1) / len(x) * (1 - x.count(1) / len(x))\n",
        "    return GI\n",
        "\n",
        "def entropy(x):\n",
        "    s = list(set(x))\n",
        "    Entr = 0\n",
        "    for i in range(len(s)):\n",
        "      Entr -= x.count(s[i]) / len(x) * math.log2(x.count(s[i]) / len(x))\n",
        "    return Entr\n",
        "\n",
        "def gain(left_y, right_y, criterion):\n",
        "    IG = 1 * criterion(np.hstack((left_y, right_y))) - len(left_y) / len (left_y + right_y) * criterion(left_y) - len(right_y) / len(left_y + right_y) * criterion(right_y)\n",
        "    return IG"
      ],
      "metadata": {
        "id": "W4jTi7pkHxwR"
      },
      "execution_count": 131,
      "outputs": []
    },
    {
      "cell_type": "markdown",
      "source": [
        "#Задание 2 (1 балл)\n",
        "Деревья решений имеют хорошую интерпретируемость, т.к. позволяют не только предсказать класс, но и объяснить, почему мы предсказали именно его. Например, мы можем его нарисовать. Чтобы сделать это, нам необходимо знать, как оно устроено внутри. Реализуйте классы, которые будут задавать структуру дерева.\n",
        "\n",
        "***DecisionTreeLeaf***\n",
        "\n",
        "Поля:\n",
        "\n",
        "1.   y должно содержать класс, который встречается чаще всего среди элементов листа дерева\n",
        "\n",
        "***DecisionTreeNode***\n",
        "\n",
        "\n",
        "В данной домашней работе мы ограничемся порядковыми и количественными признаками, поэтому достаточно хранить измерение и значение признака, по которому разбиваем обучающую выборку.\n",
        "\n",
        "Поля:\n",
        "\n",
        "\n",
        "1.   split_dim измерение, по которому разбиваем выборку\n",
        "2.   split_value значение, по которому разбираем выборку\n",
        "3.   left поддерево, отвечающее за случай x[split_dim] < split_value. Может быть DecisionTreeNode или DecisionTreeLeaf\n",
        "4.   right поддерево, отвечающее за случай x[split_dim] >= split_value. Может быть DecisionTreeNode или DecisionTreeLeaf\n",
        "\n",
        "\n",
        "Интерфейс классов можно и нужно менять при необходимости (например, для вычисления вероятности в следующем задании)"
      ],
      "metadata": {
        "id": "fTToQonNBR0X"
      }
    },
    {
      "cell_type": "code",
      "source": [
        "class DecisionTreeLeaf:\n",
        "    def __init__(self, y_t):\n",
        "        self.y = mode(y_t)[0][0]\n",
        "        self.prob = {}\n",
        "        coun_y = Counter(y_t)\n",
        "        for key, value in coun_y.items():\n",
        "          self.prob[key] = value / len(y_t)\n",
        "        \n",
        "    def predict_proba(self, x):\n",
        "        return self.prob\n",
        "\n",
        "\n",
        "class DecisionTreeNode:\n",
        "    def __init__(self, split_dim, split_value, left, right):\n",
        "        self.split_dim = split_dim\n",
        "        self.split_value = split_value\n",
        "        self.left = left\n",
        "        self.right = right\n",
        "        \n",
        "    def predict_proba(self, x):\n",
        "        indx = x[self.split_dim].index[0]\n",
        "        if x[self.split_dim][indx] < self.split_value:\n",
        "            return self.left.predict_proba(x)\n",
        "        else:\n",
        "            return self.right.predict_proba(x)"
      ],
      "metadata": {
        "id": "JW3-gwP7H0K0"
      },
      "execution_count": 132,
      "outputs": []
    },
    {
      "cell_type": "markdown",
      "source": [
        "#Задание 3 (6 баллов)\n",
        "\n",
        "Теперь перейдем к самому дереву решений. Реализуйте класс DecisionTreeClassifier.\n",
        "\n",
        "***Описание методов***\n",
        "\n",
        "fit(X, y) строит дерево решений по обучающей выборке.\n",
        "\n",
        "predict_proba(X) для каждого элемента из X возвращает словарь dict, состоящий из пар (класс, вероятность). Вероятности классов в листе можно определить через количество объектов соответствующего класса в листе.\n",
        "\n",
        "***Описание параметров конструктора***\n",
        "\n",
        "criterion=\"gini\" - задает критерий, который будет использоваться при построении дерева. Возможные значения: \"gini\", \"entropy\".\n",
        "\n",
        "max_depth=None - ограничение глубины дерева. Если None - глубина не ограничена\n",
        "\n",
        "min_samples_leaf=1 - минимальное количество элементов в каждом листе дерева.\n",
        "\n",
        "***Описание полей***\n",
        "\n",
        "root - корень дерева. Может быть DecisionTreeNode или DecisionTreeLeaf"
      ],
      "metadata": {
        "id": "nnBA3ms1BW1L"
      }
    },
    {
      "cell_type": "code",
      "source": [
        "class DecisionTreeClassifier:\n",
        "    def __init__(self, criterion='gini', max_depth=None, min_samples_leaf=1):\n",
        "        self.root = None\n",
        "        if criterion == 'gini':\n",
        "            self.criterion = gini\n",
        "        else:\n",
        "            self.criterion = entropy\n",
        "        self.max_depth = max_depth\n",
        "        self.min_samples_leaf = min_samples_leaf\n",
        "    \n",
        "    def fit(self, X, y):\n",
        "        self.root = self.step(X, y, 1)\n",
        "        \n",
        "    def step(self, X, y, tree_depth):\n",
        "        if tree_depth >= self.max_depth:\n",
        "            return DecisionTreeLeaf(y)\n",
        "        bscore = -np.inf\n",
        "        bcolmn = None\n",
        "        bvalue = None\n",
        "        bindx = None\n",
        "        for col in X.columns:\n",
        "            X = X.sort_values(by=col)\n",
        "            y = y[X.index]\n",
        "            prev_value = None\n",
        "            for i, value in enumerate(X[col]):\n",
        "                if value != prev_value:\n",
        "                    prev_value = value\n",
        "                    if (i >= self.min_samples_leaf) and (len(y) >= self.min_samples_leaf + i):\n",
        "                        score = gain(y[:i], y[i:], self.criterion)\n",
        "                        if score > bscore:\n",
        "                            bscore = score\n",
        "                            bcolmn = col\n",
        "                            bvalue = value\n",
        "                            bindx = i\n",
        "        if bcolmn is None:\n",
        "            return DecisionTreeLeaf(y) \n",
        "        X = X.sort_values(by=bcolmn)\n",
        "        return DecisionTreeNode(split_dim=bcolmn, split_value=bvalue, left=self.step(X[:bindx], y[X[:bindx].index], tree_depth+1), \n",
        "                                right=self.step(X[bindx:], y[X[bindx:].index], tree_depth+1))\n",
        "    \n",
        "    def predict_proba(self, X):\n",
        "        return [self.root.predict_proba(X[i:i+1]) for i in range(len(X))]\n",
        "    \n",
        "    def predict(self, X):\n",
        "        proba = self.predict_proba(X)\n",
        "        return [max(p.keys(), key=lambda k: p[k]) for p in proba]"
      ],
      "metadata": {
        "id": "B1aRLO5LH3Jx"
      },
      "execution_count": 133,
      "outputs": []
    },
    {
      "cell_type": "markdown",
      "source": [
        "Построенное дерево можно нарисовать. Метод draw_tree рисует дерево и сохраняет его в указанный файл."
      ],
      "metadata": {
        "id": "Va60IK8ZzqqV"
      }
    },
    {
      "cell_type": "code",
      "source": [
        "def tree_depth(tree_root):\n",
        "    if isinstance(tree_root, DecisionTreeNode):\n",
        "        return max(tree_depth(tree_root.left), tree_depth(tree_root.right)) + 1\n",
        "    else:\n",
        "        return 1\n",
        "\n",
        "def draw_tree_rec(tree_root, x_left, x_right, y):\n",
        "    x_center = (x_right - x_left) / 2 + x_left\n",
        "    if isinstance(tree_root, DecisionTreeNode):\n",
        "        x_center = (x_right - x_left) / 2 + x_left\n",
        "        x = draw_tree_rec(tree_root.left, x_left, x_center, y - 1)\n",
        "        plt.plot((x_center, x), (y - 0.1, y - 0.9), c=(0, 0, 0))\n",
        "        x = draw_tree_rec(tree_root.right, x_center, x_right, y - 1)\n",
        "        plt.plot((x_center, x), (y - 0.1, y - 0.9), c=(0, 0, 0))\n",
        "        plt.text(x_center, y, f\"x[{tree_root.split_dim}] < {tree_root.split_value:g}\",\n",
        "                horizontalalignment='center')\n",
        "    else:\n",
        "        plt.text(x_center, y, str(tree_root.y),\n",
        "                horizontalalignment='center')\n",
        "    return x_center\n",
        "\n",
        "def draw_tree(tree, save_path=None):\n",
        "    td = tree_depth(tree.root)\n",
        "    plt.figure(figsize=(0.33 * 2 ** td, 2 * td))\n",
        "    plt.xlim(-1, 1)\n",
        "    plt.ylim(0.95, td + 0.05)\n",
        "    plt.axis('off')\n",
        "    draw_tree_rec(tree.root, -1, 1, td)\n",
        "    plt.tight_layout()\n",
        "    if save_path is not None:\n",
        "        plt.savefig(save_path)\n",
        "    plt.show()"
      ],
      "metadata": {
        "id": "WMzTlmGeH5mf"
      },
      "execution_count": 134,
      "outputs": []
    },
    {
      "cell_type": "markdown",
      "source": [
        "Для двумерного набора данных дерево можно отобразить на плоскости с данными. Кроме того, как и для любого классификатора, для него можно построить roc-кривую"
      ],
      "metadata": {
        "id": "0mYKPTSVBxfx"
      }
    },
    {
      "cell_type": "code",
      "source": [
        "def plot_roc_curve(y_test, p_pred):\n",
        "    positive_samples = sum(1 for y in y_test if y == 0)\n",
        "    tpr = []\n",
        "    fpr = []\n",
        "    for w in np.arange(-0.01, 1.02, 0.01):\n",
        "        y_pred = [(0 if p.get(0, 0) > w else 1) for p in p_pred]\n",
        "        tpr.append(sum(1 for yp, yt in zip(y_pred, y_test) if yp == 0 and yt == 0) / positive_samples)\n",
        "        fpr.append(sum(1 for yp, yt in zip(y_pred, y_test) if yp == 0 and yt != 0) / (len(y_test) - positive_samples))\n",
        "    plt.figure(figsize = (7, 7))\n",
        "    plt.plot(fpr, tpr)\n",
        "    plt.plot([0, 1], [0, 1], linestyle=\"--\")\n",
        "    plt.xlabel(\"False positive rate\")\n",
        "    plt.ylabel(\"True positive rate\")\n",
        "    plt.xlim(-0.01, 1.01)\n",
        "    plt.ylim(-0.01, 1.01)\n",
        "    plt.tight_layout()\n",
        "    plt.show()\n",
        "\n",
        "def rectangle_bounds(bounds):\n",
        "    return ((bounds[0][0], bounds[0][0], bounds[0][1], bounds[0][1]), \n",
        "            (bounds[1][0], bounds[1][1], bounds[1][1], bounds[1][0]))\n",
        "\n",
        "def plot_2d_tree(tree_root, bounds, colors):\n",
        "    if isinstance(tree_root, DecisionTreeNode):\n",
        "        if tree_root.split_dim:\n",
        "            plot_2d_tree(tree_root.left, [bounds[0], [bounds[1][0], tree_root.split_value]], colors)\n",
        "            plot_2d_tree(tree_root.right, [bounds[0], [tree_root.split_value, bounds[1][1]]], colors)\n",
        "            plt.plot(bounds[0], (tree_root.split_value, tree_root.split_value), c=(0, 0, 0))\n",
        "        else:\n",
        "            plot_2d_tree(tree_root.left, [[bounds[0][0], tree_root.split_value], bounds[1]], colors)\n",
        "            plot_2d_tree(tree_root.right, [[tree_root.split_value, bounds[0][1]], bounds[1]], colors)\n",
        "            plt.plot((tree_root.split_value, tree_root.split_value), bounds[1], c=(0, 0, 0))\n",
        "    else:\n",
        "        x, y = rectangle_bounds(bounds)\n",
        "        plt.fill(x, y, c=colors[tree_root.y] + [0.2])\n",
        "\n",
        "def plot_2d(tree, X, y):\n",
        "    plt.figure(figsize=(9, 9))\n",
        "    colors = dict((c, list(np.random.random(3))) for c in np.unique(y))\n",
        "    bounds = list(zip(np.min(X, axis=0), np.max(X, axis=0)))\n",
        "    plt.xlim(*bounds[0])\n",
        "    plt.ylim(*bounds[1])\n",
        "    plot_2d_tree(tree.root, list(zip(np.min(X, axis=0), np.max(X, axis=0))), colors)\n",
        "    for c in np.unique(y):\n",
        "        plt.scatter(X[y==c, 0], X[y==c, 1], c=[colors[c]], label=c)\n",
        "    plt.legend()\n",
        "    plt.tight_layout()\n",
        "    plt.show()"
      ],
      "metadata": {
        "id": "HGaer2ofH8Lj"
      },
      "execution_count": 135,
      "outputs": []
    },
    {
      "cell_type": "markdown",
      "source": [
        "#Задание 4 (2 балла)\n",
        "\n",
        "Протестируйте решение на датасете spam. Для этой задачи используйте данные x_spam_train и y_spam_train:\n",
        "\n",
        "1.    Выполните загрузку и предобработку файлов x_spam_train и y_spam_train.\n",
        "2.    Разбейте x_spam_train и y_spam_train на x_train, y_train, x_test и y_test для оценки точности работы алгоритма.\n",
        "3.    Посчитайте метрики precision, recall, accuracy для модели Decision Tree. Если необходимо, попробуйте разные наборы параметров для получения лучшего результата.\n",
        "4.    Сравните значения метрик с результатами модели kNN из предыдущего задания (можно использовать реализацию из библиотеки sklearn).\n",
        "5.    Ответьте на следующие вопросы:\n",
        "\n",
        "\n",
        "*   Какой нужен препроцессинг данных для моделей?\n",
        "\n",
        "*Из данных следует убрать столбцы 'Id', так как в нём нет стоящих данных, при этом столбец добавляет строковый тип к столбцам x.*\n",
        "\n",
        "*   Какая модель делает предсказания лучше? Предположите, почему.\n",
        "\n",
        "\n",
        "*Decision Tree предсказывает лучше. Скорее всего, это за счёт перебора почти всех вариантов, мы получаем лучший вариант предсказания.*"
      ],
      "metadata": {
        "id": "30E-9UF-zvyJ"
      }
    },
    {
      "cell_type": "code",
      "source": [
        "X, y = pd.read_csv(\"x_spam_train.csv\"), pd.read_csv(\"y_spam_train.csv\")\n",
        "X_train, y_train = X.iloc[:round(len(X)*0.7)], y['Expected'].iloc[:round(len(X)*0.7)]\n",
        "X_test, y_test = X.iloc[round(len(X)*0.7):], y['Expected'].iloc[round(len(X)*0.7):]\n",
        "tree = DecisionTreeClassifier(max_depth=5, min_samples_leaf=30)\n",
        "tree.fit(X_train.drop('Id', axis=1), y_train)\n",
        "plot_roc_curve(y_test, tree.predict_proba(X_test))"
      ],
      "metadata": {
        "colab": {
          "base_uri": "https://localhost:8080/",
          "height": 513
        },
        "id": "f7m0_OE9IAGC",
        "outputId": "0f956f27-2a49-4584-d06d-1a2dedb1911d"
      },
      "execution_count": 136,
      "outputs": [
        {
          "output_type": "display_data",
          "data": {
            "image/png": "[encoded data removed]",
            "text/plain": [
              "<Figure size 504x504 with 1 Axes>"
            ]
          },
          "metadata": {
            "needs_background": "light"
          }
        }
      ]
    },
    {
      "cell_type": "code",
      "source": [
        "draw_tree(tree)"
      ],
      "metadata": {
        "colab": {
          "base_uri": "https://localhost:8080/",
          "height": 728
        },
        "id": "Db9EGzJGIERa",
        "outputId": "d8a0291c-0296-41e3-c6d3-53d45e7b84d3"
      },
      "execution_count": 137,
      "outputs": [
        {
          "output_type": "display_data",
          "data": {
            "image/png": "[encoded data removed]",
            "text/plain": [
              "<Figure size 760.32x720 with 1 Axes>"
            ]
          },
          "metadata": {
            "needs_background": "light"
          }
        }
      ]
    },
    {
      "cell_type": "markdown",
      "source": [
        "###Метрики для модели Decision Tree"
      ],
      "metadata": {
        "id": "THWwKTs6DhrU"
      }
    },
    {
      "cell_type": "code",
      "source": [
        "y_pred = tree.predict(X_test)\n",
        "accuracy = accuracy_score(y_test, y_pred)\n",
        "recall = recall_score(y_test, y_pred)\n",
        "precision = precision_score(y_test, y_pred)\n",
        "f1 = f1_score(y_test, y_pred)\n",
        "print(f'accuracy = {accuracy}')\n",
        "print(f'recall = {recall}')\n",
        "print(f'precision = {precision}')\n",
        "print(f'f1-score = {f1}')"
      ],
      "metadata": {
        "colab": {
          "base_uri": "https://localhost:8080/"
        },
        "id": "pRwXIuesIGjG",
        "outputId": "62784b75-b0a6-498c-b71d-ec536606178d"
      },
      "execution_count": 138,
      "outputs": [
        {
          "output_type": "stream",
          "name": "stdout",
          "text": [
            "accuracy = 0.8831521739130435\n",
            "recall = 0.8085585585585585\n",
            "precision = 0.890818858560794\n",
            "f1-score = 0.8476977567886659\n"
          ]
        }
      ]
    },
    {
      "cell_type": "markdown",
      "source": [
        "### Метрики для модели kNN"
      ],
      "metadata": {
        "id": "GqSBDYThDoQo"
      }
    },
    {
      "cell_type": "code",
      "source": [
        "knn = KNeighborsClassifier()\n",
        "knn.fit(X_train, y_train)\n",
        "y_pred = knn.predict(X_test)"
      ],
      "metadata": {
        "id": "vMUi09LtCQdV"
      },
      "execution_count": 139,
      "outputs": []
    },
    {
      "cell_type": "code",
      "source": [
        "accuracy = accuracy_score(y_test, y_pred)\n",
        "recall = recall_score(y_test, y_pred)\n",
        "precision = precision_score(y_test, y_pred)\n",
        "f1 = f1_score(y_test, y_pred)\n",
        "print(f'accuracy = {accuracy}')\n",
        "print(f'recall = {recall}')\n",
        "print(f'precision = {precision}')\n",
        "print(f'f1-score = {f1}')"
      ],
      "metadata": {
        "colab": {
          "base_uri": "https://localhost:8080/"
        },
        "id": "1h4gX95qCTrq",
        "outputId": "62ee192f-726f-4753-c9b0-b578a3d5ed14"
      },
      "execution_count": 140,
      "outputs": [
        {
          "output_type": "stream",
          "name": "stdout",
          "text": [
            "accuracy = 0.7065217391304348\n",
            "recall = 0.5563063063063063\n",
            "precision = 0.660427807486631\n",
            "f1-score = 0.6039119804400978\n"
          ]
        }
      ]
    },
    {
      "cell_type": "markdown",
      "source": [
        "1.    Обучите модель на всех данных из x_spam_train и y_spam_train.\n",
        "2.    Сделайте submit своего решения и получите значение f1_score не менее 0.6"
      ],
      "metadata": {
        "id": "srG6W6fUCI3Z"
      }
    },
    {
      "cell_type": "code",
      "source": [
        "tree = DecisionTreeClassifier(max_depth=5, min_samples_leaf=30)\n",
        "X = pd.read_csv('x_spam_train.csv')\n",
        "y = pd.read_csv('y_spam_train.csv')\n",
        "X_test = pd.read_csv('x_spam_test.csv')\n",
        "tree.fit(X, y['Expected'])\n",
        "submission = pd.DataFrame(columns = [\"Id\", \"Expected\"])\n",
        "submission[\"Id\"] = X_test[\"Id\"]\n",
        "submission[\"Expected\"] = tree.predict(X_test)\n",
        "submission"
      ],
      "metadata": {
        "colab": {
          "base_uri": "https://localhost:8080/",
          "height": 407
        },
        "id": "C7Caj_XX0kWy",
        "outputId": "c0234616-e314-4ca9-f9db-6defe397b561"
      },
      "execution_count": 141,
      "outputs": [
        {
          "output_type": "error",
          "ename": "FileNotFoundError",
          "evalue": "ignored",
          "traceback": [
            "\u001b[0;31m---------------------------------------------------------------------------\u001b[0m",
            "\u001b[0;31mFileNotFoundError\u001b[0m                         Traceback (most recent call last)",
            "\u001b[0;32m<ipython-input-141-9cde2162219e>\u001b[0m in \u001b[0;36m<module>\u001b[0;34m()\u001b[0m\n\u001b[1;32m      1\u001b[0m \u001b[0mtree\u001b[0m \u001b[0;34m=\u001b[0m \u001b[0mDecisionTreeClassifier\u001b[0m\u001b[0;34m(\u001b[0m\u001b[0mmax_depth\u001b[0m\u001b[0;34m=\u001b[0m\u001b[0;36m5\u001b[0m\u001b[0;34m,\u001b[0m \u001b[0mmin_samples_leaf\u001b[0m\u001b[0;34m=\u001b[0m\u001b[0;36m30\u001b[0m\u001b[0;34m)\u001b[0m\u001b[0;34m\u001b[0m\u001b[0;34m\u001b[0m\u001b[0m\n\u001b[0;32m----> 2\u001b[0;31m \u001b[0mX\u001b[0m \u001b[0;34m=\u001b[0m \u001b[0mpd\u001b[0m\u001b[0;34m.\u001b[0m\u001b[0mread_csv\u001b[0m\u001b[0;34m(\u001b[0m\u001b[0;34m'x_spam_train.csv'\u001b[0m\u001b[0;34m)\u001b[0m\u001b[0;34m\u001b[0m\u001b[0;34m\u001b[0m\u001b[0m\n\u001b[0m\u001b[1;32m      3\u001b[0m \u001b[0my\u001b[0m \u001b[0;34m=\u001b[0m \u001b[0mpd\u001b[0m\u001b[0;34m.\u001b[0m\u001b[0mread_csv\u001b[0m\u001b[0;34m(\u001b[0m\u001b[0;34m'y_spam_train.csv'\u001b[0m\u001b[0;34m)\u001b[0m\u001b[0;34m\u001b[0m\u001b[0;34m\u001b[0m\u001b[0m\n\u001b[1;32m      4\u001b[0m \u001b[0mtest_X\u001b[0m \u001b[0;34m=\u001b[0m \u001b[0mpd\u001b[0m\u001b[0;34m.\u001b[0m\u001b[0mread_csv\u001b[0m\u001b[0;34m(\u001b[0m\u001b[0;34m'x_spam_test.csv'\u001b[0m\u001b[0;34m)\u001b[0m\u001b[0;34m\u001b[0m\u001b[0;34m\u001b[0m\u001b[0m\n\u001b[1;32m      5\u001b[0m \u001b[0mtree\u001b[0m\u001b[0;34m.\u001b[0m\u001b[0mfit\u001b[0m\u001b[0;34m(\u001b[0m\u001b[0mX\u001b[0m\u001b[0;34m,\u001b[0m \u001b[0my\u001b[0m\u001b[0;34m[\u001b[0m\u001b[0;34m'Expected'\u001b[0m\u001b[0;34m]\u001b[0m\u001b[0;34m)\u001b[0m\u001b[0;34m\u001b[0m\u001b[0;34m\u001b[0m\u001b[0m\n",
            "\u001b[0;32m/usr/local/lib/python3.7/dist-packages/pandas/util/_decorators.py\u001b[0m in \u001b[0;36mwrapper\u001b[0;34m(*args, **kwargs)\u001b[0m\n\u001b[1;32m    309\u001b[0m                     \u001b[0mstacklevel\u001b[0m\u001b[0;34m=\u001b[0m\u001b[0mstacklevel\u001b[0m\u001b[0;34m,\u001b[0m\u001b[0;34m\u001b[0m\u001b[0;34m\u001b[0m\u001b[0m\n\u001b[1;32m    310\u001b[0m                 )\n\u001b[0;32m--> 311\u001b[0;31m             \u001b[0;32mreturn\u001b[0m \u001b[0mfunc\u001b[0m\u001b[0;34m(\u001b[0m\u001b[0;34m*\u001b[0m\u001b[0margs\u001b[0m\u001b[0;34m,\u001b[0m \u001b[0;34m**\u001b[0m\u001b[0mkwargs\u001b[0m\u001b[0;34m)\u001b[0m\u001b[0;34m\u001b[0m\u001b[0;34m\u001b[0m\u001b[0m\n\u001b[0m\u001b[1;32m    312\u001b[0m \u001b[0;34m\u001b[0m\u001b[0m\n\u001b[1;32m    313\u001b[0m         \u001b[0;32mreturn\u001b[0m \u001b[0mwrapper\u001b[0m\u001b[0;34m\u001b[0m\u001b[0;34m\u001b[0m\u001b[0m\n",
            "\u001b[0;32m/usr/local/lib/python3.7/dist-packages/pandas/io/parsers/readers.py\u001b[0m in \u001b[0;36mread_csv\u001b[0;34m(filepath_or_buffer, sep, delimiter, header, names, index_col, usecols, squeeze, prefix, mangle_dupe_cols, dtype, engine, converters, true_values, false_values, skipinitialspace, skiprows, skipfooter, nrows, na_values, keep_default_na, na_filter, verbose, skip_blank_lines, parse_dates, infer_datetime_format, keep_date_col, date_parser, dayfirst, cache_dates, iterator, chunksize, compression, thousands, decimal, lineterminator, quotechar, quoting, doublequote, escapechar, comment, encoding, encoding_errors, dialect, error_bad_lines, warn_bad_lines, on_bad_lines, delim_whitespace, low_memory, memory_map, float_precision, storage_options)\u001b[0m\n\u001b[1;32m    584\u001b[0m     \u001b[0mkwds\u001b[0m\u001b[0;34m.\u001b[0m\u001b[0mupdate\u001b[0m\u001b[0;34m(\u001b[0m\u001b[0mkwds_defaults\u001b[0m\u001b[0;34m)\u001b[0m\u001b[0;34m\u001b[0m\u001b[0;34m\u001b[0m\u001b[0m\n\u001b[1;32m    585\u001b[0m \u001b[0;34m\u001b[0m\u001b[0m\n\u001b[0;32m--> 586\u001b[0;31m     \u001b[0;32mreturn\u001b[0m \u001b[0m_read\u001b[0m\u001b[0;34m(\u001b[0m\u001b[0mfilepath_or_buffer\u001b[0m\u001b[0;34m,\u001b[0m \u001b[0mkwds\u001b[0m\u001b[0;34m)\u001b[0m\u001b[0;34m\u001b[0m\u001b[0;34m\u001b[0m\u001b[0m\n\u001b[0m\u001b[1;32m    587\u001b[0m \u001b[0;34m\u001b[0m\u001b[0m\n\u001b[1;32m    588\u001b[0m \u001b[0;34m\u001b[0m\u001b[0m\n",
            "\u001b[0;32m/usr/local/lib/python3.7/dist-packages/pandas/io/parsers/readers.py\u001b[0m in \u001b[0;36m_read\u001b[0;34m(filepath_or_buffer, kwds)\u001b[0m\n\u001b[1;32m    480\u001b[0m \u001b[0;34m\u001b[0m\u001b[0m\n\u001b[1;32m    481\u001b[0m     \u001b[0;31m# Create the parser.\u001b[0m\u001b[0;34m\u001b[0m\u001b[0;34m\u001b[0m\u001b[0;34m\u001b[0m\u001b[0m\n\u001b[0;32m--> 482\u001b[0;31m     \u001b[0mparser\u001b[0m \u001b[0;34m=\u001b[0m \u001b[0mTextFileReader\u001b[0m\u001b[0;34m(\u001b[0m\u001b[0mfilepath_or_buffer\u001b[0m\u001b[0;34m,\u001b[0m \u001b[0;34m**\u001b[0m\u001b[0mkwds\u001b[0m\u001b[0;34m)\u001b[0m\u001b[0;34m\u001b[0m\u001b[0;34m\u001b[0m\u001b[0m\n\u001b[0m\u001b[1;32m    483\u001b[0m \u001b[0;34m\u001b[0m\u001b[0m\n\u001b[1;32m    484\u001b[0m     \u001b[0;32mif\u001b[0m \u001b[0mchunksize\u001b[0m \u001b[0;32mor\u001b[0m \u001b[0miterator\u001b[0m\u001b[0;34m:\u001b[0m\u001b[0;34m\u001b[0m\u001b[0;34m\u001b[0m\u001b[0m\n",
            "\u001b[0;32m/usr/local/lib/python3.7/dist-packages/pandas/io/parsers/readers.py\u001b[0m in \u001b[0;36m__init__\u001b[0;34m(self, f, engine, **kwds)\u001b[0m\n\u001b[1;32m    809\u001b[0m             \u001b[0mself\u001b[0m\u001b[0;34m.\u001b[0m\u001b[0moptions\u001b[0m\u001b[0;34m[\u001b[0m\u001b[0;34m\"has_index_names\"\u001b[0m\u001b[0;34m]\u001b[0m \u001b[0;34m=\u001b[0m \u001b[0mkwds\u001b[0m\u001b[0;34m[\u001b[0m\u001b[0;34m\"has_index_names\"\u001b[0m\u001b[0;34m]\u001b[0m\u001b[0;34m\u001b[0m\u001b[0;34m\u001b[0m\u001b[0m\n\u001b[1;32m    810\u001b[0m \u001b[0;34m\u001b[0m\u001b[0m\n\u001b[0;32m--> 811\u001b[0;31m         \u001b[0mself\u001b[0m\u001b[0;34m.\u001b[0m\u001b[0m_engine\u001b[0m \u001b[0;34m=\u001b[0m \u001b[0mself\u001b[0m\u001b[0;34m.\u001b[0m\u001b[0m_make_engine\u001b[0m\u001b[0;34m(\u001b[0m\u001b[0mself\u001b[0m\u001b[0;34m.\u001b[0m\u001b[0mengine\u001b[0m\u001b[0;34m)\u001b[0m\u001b[0;34m\u001b[0m\u001b[0;34m\u001b[0m\u001b[0m\n\u001b[0m\u001b[1;32m    812\u001b[0m \u001b[0;34m\u001b[0m\u001b[0m\n\u001b[1;32m    813\u001b[0m     \u001b[0;32mdef\u001b[0m \u001b[0mclose\u001b[0m\u001b[0;34m(\u001b[0m\u001b[0mself\u001b[0m\u001b[0;34m)\u001b[0m\u001b[0;34m:\u001b[0m\u001b[0;34m\u001b[0m\u001b[0;34m\u001b[0m\u001b[0m\n",
            "\u001b[0;32m/usr/local/lib/python3.7/dist-packages/pandas/io/parsers/readers.py\u001b[0m in \u001b[0;36m_make_engine\u001b[0;34m(self, engine)\u001b[0m\n\u001b[1;32m   1038\u001b[0m             )\n\u001b[1;32m   1039\u001b[0m         \u001b[0;31m# error: Too many arguments for \"ParserBase\"\u001b[0m\u001b[0;34m\u001b[0m\u001b[0;34m\u001b[0m\u001b[0;34m\u001b[0m\u001b[0m\n\u001b[0;32m-> 1040\u001b[0;31m         \u001b[0;32mreturn\u001b[0m \u001b[0mmapping\u001b[0m\u001b[0;34m[\u001b[0m\u001b[0mengine\u001b[0m\u001b[0;34m]\u001b[0m\u001b[0;34m(\u001b[0m\u001b[0mself\u001b[0m\u001b[0;34m.\u001b[0m\u001b[0mf\u001b[0m\u001b[0;34m,\u001b[0m \u001b[0;34m**\u001b[0m\u001b[0mself\u001b[0m\u001b[0;34m.\u001b[0m\u001b[0moptions\u001b[0m\u001b[0;34m)\u001b[0m  \u001b[0;31m# type: ignore[call-arg]\u001b[0m\u001b[0;34m\u001b[0m\u001b[0;34m\u001b[0m\u001b[0m\n\u001b[0m\u001b[1;32m   1041\u001b[0m \u001b[0;34m\u001b[0m\u001b[0m\n\u001b[1;32m   1042\u001b[0m     \u001b[0;32mdef\u001b[0m \u001b[0m_failover_to_python\u001b[0m\u001b[0;34m(\u001b[0m\u001b[0mself\u001b[0m\u001b[0;34m)\u001b[0m\u001b[0;34m:\u001b[0m\u001b[0;34m\u001b[0m\u001b[0;34m\u001b[0m\u001b[0m\n",
            "\u001b[0;32m/usr/local/lib/python3.7/dist-packages/pandas/io/parsers/c_parser_wrapper.py\u001b[0m in \u001b[0;36m__init__\u001b[0;34m(self, src, **kwds)\u001b[0m\n\u001b[1;32m     49\u001b[0m \u001b[0;34m\u001b[0m\u001b[0m\n\u001b[1;32m     50\u001b[0m         \u001b[0;31m# open handles\u001b[0m\u001b[0;34m\u001b[0m\u001b[0;34m\u001b[0m\u001b[0;34m\u001b[0m\u001b[0m\n\u001b[0;32m---> 51\u001b[0;31m         \u001b[0mself\u001b[0m\u001b[0;34m.\u001b[0m\u001b[0m_open_handles\u001b[0m\u001b[0;34m(\u001b[0m\u001b[0msrc\u001b[0m\u001b[0;34m,\u001b[0m \u001b[0mkwds\u001b[0m\u001b[0;34m)\u001b[0m\u001b[0;34m\u001b[0m\u001b[0;34m\u001b[0m\u001b[0m\n\u001b[0m\u001b[1;32m     52\u001b[0m         \u001b[0;32massert\u001b[0m \u001b[0mself\u001b[0m\u001b[0;34m.\u001b[0m\u001b[0mhandles\u001b[0m \u001b[0;32mis\u001b[0m \u001b[0;32mnot\u001b[0m \u001b[0;32mNone\u001b[0m\u001b[0;34m\u001b[0m\u001b[0;34m\u001b[0m\u001b[0m\n\u001b[1;32m     53\u001b[0m \u001b[0;34m\u001b[0m\u001b[0m\n",
            "\u001b[0;32m/usr/local/lib/python3.7/dist-packages/pandas/io/parsers/base_parser.py\u001b[0m in \u001b[0;36m_open_handles\u001b[0;34m(self, src, kwds)\u001b[0m\n\u001b[1;32m    227\u001b[0m             \u001b[0mmemory_map\u001b[0m\u001b[0;34m=\u001b[0m\u001b[0mkwds\u001b[0m\u001b[0;34m.\u001b[0m\u001b[0mget\u001b[0m\u001b[0;34m(\u001b[0m\u001b[0;34m\"memory_map\"\u001b[0m\u001b[0;34m,\u001b[0m \u001b[0;32mFalse\u001b[0m\u001b[0;34m)\u001b[0m\u001b[0;34m,\u001b[0m\u001b[0;34m\u001b[0m\u001b[0;34m\u001b[0m\u001b[0m\n\u001b[1;32m    228\u001b[0m             \u001b[0mstorage_options\u001b[0m\u001b[0;34m=\u001b[0m\u001b[0mkwds\u001b[0m\u001b[0;34m.\u001b[0m\u001b[0mget\u001b[0m\u001b[0;34m(\u001b[0m\u001b[0;34m\"storage_options\"\u001b[0m\u001b[0;34m,\u001b[0m \u001b[0;32mNone\u001b[0m\u001b[0;34m)\u001b[0m\u001b[0;34m,\u001b[0m\u001b[0;34m\u001b[0m\u001b[0;34m\u001b[0m\u001b[0m\n\u001b[0;32m--> 229\u001b[0;31m             \u001b[0merrors\u001b[0m\u001b[0;34m=\u001b[0m\u001b[0mkwds\u001b[0m\u001b[0;34m.\u001b[0m\u001b[0mget\u001b[0m\u001b[0;34m(\u001b[0m\u001b[0;34m\"encoding_errors\"\u001b[0m\u001b[0;34m,\u001b[0m \u001b[0;34m\"strict\"\u001b[0m\u001b[0;34m)\u001b[0m\u001b[0;34m,\u001b[0m\u001b[0;34m\u001b[0m\u001b[0;34m\u001b[0m\u001b[0m\n\u001b[0m\u001b[1;32m    230\u001b[0m         )\n\u001b[1;32m    231\u001b[0m \u001b[0;34m\u001b[0m\u001b[0m\n",
            "\u001b[0;32m/usr/local/lib/python3.7/dist-packages/pandas/io/common.py\u001b[0m in \u001b[0;36mget_handle\u001b[0;34m(path_or_buf, mode, encoding, compression, memory_map, is_text, errors, storage_options)\u001b[0m\n\u001b[1;32m    705\u001b[0m                 \u001b[0mencoding\u001b[0m\u001b[0;34m=\u001b[0m\u001b[0mioargs\u001b[0m\u001b[0;34m.\u001b[0m\u001b[0mencoding\u001b[0m\u001b[0;34m,\u001b[0m\u001b[0;34m\u001b[0m\u001b[0;34m\u001b[0m\u001b[0m\n\u001b[1;32m    706\u001b[0m                 \u001b[0merrors\u001b[0m\u001b[0;34m=\u001b[0m\u001b[0merrors\u001b[0m\u001b[0;34m,\u001b[0m\u001b[0;34m\u001b[0m\u001b[0;34m\u001b[0m\u001b[0m\n\u001b[0;32m--> 707\u001b[0;31m                 \u001b[0mnewline\u001b[0m\u001b[0;34m=\u001b[0m\u001b[0;34m\"\"\u001b[0m\u001b[0;34m,\u001b[0m\u001b[0;34m\u001b[0m\u001b[0;34m\u001b[0m\u001b[0m\n\u001b[0m\u001b[1;32m    708\u001b[0m             )\n\u001b[1;32m    709\u001b[0m         \u001b[0;32melse\u001b[0m\u001b[0;34m:\u001b[0m\u001b[0;34m\u001b[0m\u001b[0;34m\u001b[0m\u001b[0m\n",
            "\u001b[0;31mFileNotFoundError\u001b[0m: [Errno 2] No such file or directory: 'x_spam_train.csv'"
          ]
        }
      ]
    }
  ]
}